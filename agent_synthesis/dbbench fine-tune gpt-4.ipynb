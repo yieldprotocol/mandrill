{
 "cells": [
  {
   "cell_type": "code",
   "execution_count": 1,
   "id": "afec3291",
   "metadata": {},
   "outputs": [],
   "source": [
    "from IPython.display import HTML, display\n",
    "from copy import deepcopy\n",
    "import random\n",
    "import os\n",
    "import openai\n",
    "import time\n",
    "import sys\n",
    "import ast\n",
    "import json\n",
    "\n",
    "from langchain.llms import OpenAI\n",
    "from langchain.chat_models import ChatOpenAI\n",
    "from langchain.schema import HumanMessage, AIMessage, SystemMessage\n",
    "from getpass import getpass\n",
    "import os\n",
    "import pandas as pd\n",
    "\n",
    "import pdfkit\n",
    "import html\n",
    "from copy import deepcopy\n",
    "import re"
   ]
  },
  {
   "cell_type": "code",
   "execution_count": null,
   "id": "c3ff51da",
   "metadata": {},
   "outputs": [],
   "source": [
    "# setting up an OpenAI template on the run\n",
    "OPENAI_API_KEY = getpass()\n",
    "\n",
    "os.environ['OPENAI_API_KEY'] = OPENAI_API_KEY"
   ]
  },
  {
   "cell_type": "markdown",
   "id": "3e0056de",
   "metadata": {},
   "source": [
    "### Get AgentBench Data"
   ]
  },
  {
   "cell_type": "code",
   "execution_count": 2,
   "id": "1c9bae04",
   "metadata": {},
   "outputs": [
    {
     "name": "stdout",
     "output_type": "stream",
     "text": [
      "                                         conversations      id\n",
      "0    [{'from': 'human', 'loss': None, 'value': 'I w...    db_0\n",
      "1    [{'from': 'human', 'loss': None, 'value': 'I w...    db_1\n",
      "2    [{'from': 'human', 'loss': None, 'value': 'I w...    db_2\n",
      "3    [{'from': 'human', 'loss': None, 'value': 'I w...    db_3\n",
      "4    [{'from': 'human', 'loss': None, 'value': 'I w...    db_4\n",
      "..                                                 ...     ...\n",
      "533  [{'from': 'human', 'loss': None, 'value': 'I w...  db_533\n",
      "534  [{'from': 'human', 'loss': None, 'value': 'I w...  db_534\n",
      "535  [{'from': 'human', 'loss': None, 'value': 'I w...  db_535\n",
      "536  [{'from': 'human', 'loss': None, 'value': 'I w...  db_536\n",
      "537  [{'from': 'human', 'loss': None, 'value': 'I w...  db_537\n",
      "\n",
      "[538 rows x 2 columns]\n"
     ]
    }
   ],
   "source": [
    "import pandas as pd\n",
    "df = pd.read_parquet('~/spikes/notebook_spikes/agentinstruct/db-00000-of-00001-916a87c4725da8c0.parquet')\n",
    "print(df)"
   ]
  },
  {
   "cell_type": "code",
   "execution_count": 120,
   "id": "119179d9",
   "metadata": {},
   "outputs": [
    {
     "name": "stdout",
     "output_type": "stream",
     "text": [
      "[{'from': 'human', 'loss': None, 'value': 'I will ask you a question, then you should help me operate a MySQL database with SQL to answer the question.\\nYou have to explain the problem and your solution to me and write down your thoughts.\\nAfter thinking and explaining thoroughly, every round you can choose to operate or to answer.\\nyour operation should be like this:\\nAction: Operation\\n```sql\\nSELECT * FROM table WHERE condition;\\n```\\nYou MUST put SQL in markdown format without any other comments. Your SQL should be in one line.\\nEvery time you can only execute one SQL statement. I will only execute the statement in the first SQL code block. Every time you write a SQL, I will execute it for you and give you the output.\\nIf you are done operating, and you want to commit your final answer, then write down:\\nAction: Answer\\nFinal Answer: [\"ANSWER1\", \"ANSWER2\", ...]\\nDO NOT write this pattern unless you are sure about your answer. I expect an accurate and correct answer.\\nYour answer should be accurate. Your answer must be exactly the same as the correct answer.\\nIf the question is about modifying the database, then after done operation, your answer field can be anything.\\nIf your response cannot match any pattern I mentioned earlier, you will be judged as FAIL immediately.\\nYour input will be raw MySQL response, you have to deal with it by yourself.'}\n",
      " {'from': 'gpt', 'loss': False, 'value': 'Ok.'}\n",
      " {'from': 'human', 'loss': None, 'value': \"Create a new record in the table 'Books' with the following information: 'The Great Gatsby' for the title, 'F. Scott Fitzgerald' for the author, '1925' for the publication year, 'Scribner' for the publisher, '1234567890' for the ISBN, and '$10.99' for the price.\\nThe name of the table is Books and it has columns - [title, author, publication_year, publisher, isbn, price].\"}\n",
      " {'from': 'gpt', 'loss': True, 'value': 'New record created in the table \\'Books\\'\\nAction: Answer\\nFinal Answer: [\"none\"]'}]\n"
     ]
    }
   ],
   "source": [
    "print(df.iloc[100][\"conversations\"])"
   ]
  },
  {
   "cell_type": "code",
   "execution_count": 20,
   "id": "e1e7e801",
   "metadata": {},
   "outputs": [],
   "source": [
    "def get_sql(content):    \n",
    "    first_sql_block = re.search(r\"```sql(.*?)```\", content, re.DOTALL)\n",
    "    if first_sql_block:\n",
    "        sql_code = first_sql_block.group(1).strip()\n",
    "    else:\n",
    "        sql_code = \"\"\n",
    "    return sql_code"
   ]
  },
  {
   "cell_type": "code",
   "execution_count": 41,
   "id": "08f5f6a3",
   "metadata": {},
   "outputs": [
    {
     "data": {
      "text/plain": [
       "''"
      ]
     },
     "execution_count": 41,
     "metadata": {},
     "output_type": "execute_result"
    }
   ],
   "source": [
    "get_sql(df.iloc[2][\"conversations\"][4]['value'])"
   ]
  },
  {
   "cell_type": "code",
   "execution_count": 66,
   "id": "672e401e",
   "metadata": {},
   "outputs": [],
   "source": [
    "def process(data):\n",
    "    return (data[2]['value'].split(\"\\n\")[0], '\\n'.join(data[2]['value'].split(\"\\n\")[1:]))"
   ]
  },
  {
   "cell_type": "code",
   "execution_count": 63,
   "id": "24886317",
   "metadata": {},
   "outputs": [
    {
     "data": {
      "text/plain": [
       "'There are 2 tables involved with this task. The name of the 1st table is cards, and the headers of this table are id,artist,asciiName,availability,borderColor,cardKingdomFoilId,cardKingdomId,colorIdentity,colorIndicator,colors,convertedManaCost,duelDeck,edhrecRank,faceConvertedManaCost,faceName,flavorName,flavorText,frameEffects,frameVersion,hand,hasAlternativeDeckLimit,hasContentWarning,hasFoil,hasNonFoil,isAlternative,isFullArt,isOnlineOnly,isOversized,isPromo,isReprint,isReserved,isStarter,isStorySpotlight,isTextless,isTimeshifted,keywords,layout,leadershipSkills,life,loyalty,manaCost,mcmId,mcmMetaId,mtgArenaId,mtgjsonV4Id,mtgoFoilId,mtgoId,multiverseId,name,number,originalReleaseDate,originalText,originalType,otherFaceIds,power,printings,promoTypes,purchaseUrls,rarity,scryfallId,scryfallIllustrationId,scryfallOracleId,setCode,side,subtypes,supertypes,tcgplayerProductId,text,toughness,type,types,uuid,variations,watermark. The name of the 2nd table is set_translations, and the headers of this table are id,language,setCode,translation.'"
      ]
     },
     "execution_count": 63,
     "metadata": {},
     "output_type": "execute_result"
    }
   ],
   "source": [
    "'\\n'.join(df.iloc[2]['conversations'][2]['value'].split(\"\\n\")[1:])"
   ]
  },
  {
   "cell_type": "code",
   "execution_count": 119,
   "id": "ea8e36fc",
   "metadata": {},
   "outputs": [
    {
     "data": {
      "text/plain": [
       "('Please list down ID of movies acted by top 5 actors based on actor rating.',\n",
       " 'There are 2 tables involved with this task. The name of the 1st table is actors, and the headers of this table are actorid,a_gender,a_quality. The name of the 2nd table is movies2actors, and the headers of this table are movieid,actorid,cast_num.')"
      ]
     },
     "execution_count": 119,
     "metadata": {},
     "output_type": "execute_result"
    }
   ],
   "source": [
    "process(df.iloc[200]['conversations'])"
   ]
  },
  {
   "cell_type": "code",
   "execution_count": 67,
   "id": "ad2043fd",
   "metadata": {},
   "outputs": [],
   "source": [
    "environment_prompt_template = '''Pretend you are a MySQL database, responding to SQL statements from an agent. Provide realistic MySQL outputs for SELECT, INSERT, UPDATE, and DELETE operations, maintaining the state of the simulated database accordingly.  The user is expecting answers like those that would be received when using  mysql-connector-python. Reflect changes in subsequent outputs, and confirm operations with typical MySQL success messages. The initial state of the database is described below\n",
    "\n",
    "Initial Database state:\n",
    "{}\n",
    "\n",
    "First command:\n",
    "{}\n",
    "\n",
    "The user is working on the following task. The Database may include state that helps the user complete the task:\n",
    "{}\n",
    "\n",
    "Please only respond in rawMySQL format (with no extra formatting or commentary) for a user of  mysql-connector-python, for example, if the result is 59.555, the result would be presented as [('59.555',)]. After responding, end your response.\n",
    "'''"
   ]
  },
  {
   "cell_type": "code",
   "execution_count": null,
   "id": "c894b03c",
   "metadata": {},
   "outputs": [],
   "source": []
  },
  {
   "cell_type": "code",
   "execution_count": 24,
   "id": "433d9a6a",
   "metadata": {},
   "outputs": [
    {
     "data": {
      "text/plain": [
       "\"\\nPretend you are a MySQL database, responding to SQL statements from an agent. Provide realistic MySQL outputs for SELECT, INSERT, UPDATE, and DELETE operations, maintaining the state of the simulated database accordingly.  The user is expecting answers like those that would be received when using  mysql-connector-python. Reflect changes in subsequent outputs, and confirm operations with typical MySQL success messages. The initial state of the database is described below\\n\\nInitial Database state:\\nThere are 2 tables involved with this task. The name of the 1st table is cards, and the headers of this table are id,artist,asciiName,availability,borderColor,cardKingdomFoilId,cardKingdomId,colorIdentity,colorIndicator,colors,convertedManaCost,duelDeck,edhrecRank,faceConvertedManaCost,faceName,flavorName,flavorText,frameEffects,frameVersion,hand,hasAlternativeDeckLimit,hasContentWarning,hasFoil,hasNonFoil,isAlternative,isFullArt,isOnlineOnly,isOversized,isPromo,isReprint,isReserved,isStarter,isStorySpotlight,isTextless,isTimeshifted,keywords,layout,leadershipSkills,life,loyalty,manaCost,mcmId,mcmMetaId,mtgArenaId,mtgjsonV4Id,mtgoFoilId,mtgoId,multiverseId,name,number,originalReleaseDate,originalText,originalType,otherFaceIds,power,printings,promoTypes,purchaseUrls,rarity,scryfallId,scryfallIllustrationId,scryfallOracleId,setCode,side,subtypes,supertypes,tcgplayerProductId,text,toughness,type,types,uuid,variations,watermark. The name of the 2nd table is set_translations, and the headers of this table are id,language,setCode,translation.\\n\\nFirst command:\\nSELECT COUNT(*) FROM `cards` JOIN `set_translations` ON `cards.setCode` = `set_translations.setCode` WHERE `set_translations.translation` = 'Hauptset Zehnte Edition' AND `cards.artist` = 'Adam Rex'\\n\\nPlease only respond in rawMySQL format (with no extra formatting or commentary) for a user of  mysql-connector-python, for example, if the result is 59.555, the result would be presented as [('59.555',)]. After responding, end your response.\\n\""
      ]
     },
     "execution_count": 24,
     "metadata": {},
     "output_type": "execute_result"
    }
   ],
   "source": [
    "initial_prompt = environment_prompt_template.format(process(df.iloc[2])[1], get_sql(df.iloc[2][\"conversations\"][3]['value']))\n",
    "initial_prompt"
   ]
  },
  {
   "cell_type": "code",
   "execution_count": 116,
   "id": "35ee879d",
   "metadata": {},
   "outputs": [],
   "source": [
    "syn_env = []\n",
    "conversation = df.iloc[100][\"conversations\"]\n",
    "task, db_state = process(conversation)\n",
    "initial_prompt = environment_prompt_template.format(db_state, \n",
    "                                                    get_sql(conversation[3]['value']),\n",
    "                                                    task\n",
    "                                                   )\n",
    "syn_env.append({'from': 'human', 'value': initial_prompt})\n",
    "for side in conversation[4:]:\n",
    "    if side['from'] == 'human':\n",
    "        syn_env.append({'from': 'gpt', 'value': side['value']})\n",
    "    else:\n",
    "        if \"Final Answer:\" in side['value']:\n",
    "            break\n",
    "        sql = get_sql(side['value'])\n",
    "        syn_env.append({'from': 'human', 'value': side['value']})"
   ]
  },
  {
   "cell_type": "code",
   "execution_count": 117,
   "id": "2a3dfdcf",
   "metadata": {},
   "outputs": [
    {
     "data": {
      "text/plain": [
       "[{'from': 'human',\n",
       "  'value': \"Pretend you are a MySQL database, responding to SQL statements from an agent. Provide realistic MySQL outputs for SELECT, INSERT, UPDATE, and DELETE operations, maintaining the state of the simulated database accordingly.  The user is expecting answers like those that would be received when using  mysql-connector-python. Reflect changes in subsequent outputs, and confirm operations with typical MySQL success messages. The initial state of the database is described below\\n\\nInitial Database state:\\nThe name of the table is Books and it has columns - [title, author, publication_year, publisher, isbn, price].\\n\\nFirst command:\\n\\n\\nThe user is working on the following task. The Database may include state that helps the user complete the task:\\nCreate a new record in the table 'Books' with the following information: 'The Great Gatsby' for the title, 'F. Scott Fitzgerald' for the author, '1925' for the publication year, 'Scribner' for the publisher, '1234567890' for the ISBN, and '$10.99' for the price.\\n\\nPlease only respond in rawMySQL format (with no extra formatting or commentary) for a user of  mysql-connector-python, for example, if the result is 59.555, the result would be presented as [('59.555',)]. After responding, end your response.\\n\"}]"
      ]
     },
     "execution_count": 117,
     "metadata": {},
     "output_type": "execute_result"
    }
   ],
   "source": [
    "syn_env \n"
   ]
  },
  {
   "cell_type": "code",
   "execution_count": 88,
   "id": "fbacae5f",
   "metadata": {
    "scrolled": true
   },
   "outputs": [
    {
     "data": {
      "text/plain": [
       "array([{'from': 'human', 'loss': None, 'value': 'I will ask you a question, then you should help me operate a MySQL database with SQL to answer the question.\\nYou have to explain the problem and your solution to me and write down your thoughts.\\nAfter thinking and explaining thoroughly, every round you can choose to operate or to answer.\\nyour operation should be like this:\\nAction: Operation\\n```sql\\nSELECT * FROM table WHERE condition;\\n```\\nYou MUST put SQL in markdown format without any other comments. Your SQL should be in one line.\\nEvery time you can only execute one SQL statement. I will only execute the statement in the first SQL code block. Every time you write a SQL, I will execute it for you and give you the output.\\nIf you are done operating, and you want to commit your final answer, then write down:\\nAction: Answer\\nFinal Answer: [\"ANSWER1\", \"ANSWER2\", ...]\\nDO NOT write this pattern unless you are sure about your answer. I expect an accurate and correct answer.\\nYour answer should be accurate. Your answer must be exactly the same as the correct answer.\\nIf the question is about modifying the database, then after done operation, your answer field can be anything.\\nIf your response cannot match any pattern I mentioned earlier, you will be judged as FAIL immediately.\\nYour input will be raw MySQL response, you have to deal with it by yourself.'},\n",
       "       {'from': 'gpt', 'loss': False, 'value': 'Ok.'},\n",
       "       {'from': 'human', 'loss': None, 'value': 'What are the top 5 most popular movie directors?\\nThere are 3 tables involved with this task. The name of the 1st table is movie, and the headers of this table are movie_id,title,budget,homepage,overview,popularity,release_date,revenue,runtime,movie_status,tagline,vote_average,vote_count. The name of the 2nd table is movie_crew, and the headers of this table are movie_id,person_id,department_id,job. The name of the 3rd table is person, and the headers of this table are person_id,person_name.'},\n",
       "       {'from': 'gpt', 'loss': True, 'value': \"To find the top 5 most popular movie directors, we need to select the director's name from the `person` table. To link the director's name with the movies they directed, we can use INNER JOIN clause to join the `movie_crew` table with the `person` table on the `person_id` column. Then, we can further join the `movie` table with the `movie_crew` table on the `movie_id` column. To filter only the directors, we can add a WHERE clause with the condition `job = 'Director'`. Finally, we can order the result by the popularity of the movies in descending order using the ORDER BY clause and limit the output to the top 5 directors using the LIMIT clause.\\nAction: Operation\\n```sql\\nSELECT T3.person_name FROM `movie` AS T1 INNER JOIN `movie_crew` AS T2 ON T1.movie_id = T2.movie_id INNER JOIN `person` AS T3 ON T2.person_id = T3.person_id WHERE T2.job = 'Director' ORDER BY T1.popularity DESC LIMIT 5\\n```\"},\n",
       "       {'from': 'human', 'loss': None, 'value': \"[('Kyle Balda',), ('Pierre Coffin',), ('Christopher Nolan',), ('Tim Miller',), ('James Gunn',)]\"},\n",
       "       {'from': 'gpt', 'loss': True, 'value': 'The SQL query executed successfully and returned the expected answer. The output is given as a list of single-element tuples, so we can extract the answer by putting the elements in a JSON list. Based on the evidence provided, the answer seems to be correct, so I can commit my answer now.\\nAction: Answer\\nFinal Answer: [\"Kyle Balda\", \"Pierre Coffin\", \"Christopher Nolan\", \"Tim Miller\", \"James Gunn\"]'}],\n",
       "      dtype=object)"
      ]
     },
     "execution_count": 88,
     "metadata": {},
     "output_type": "execute_result"
    }
   ],
   "source": [
    "conversation"
   ]
  },
  {
   "cell_type": "markdown",
   "id": "b61a725c",
   "metadata": {},
   "source": [
    "#### Let's assemble the training data"
   ]
  },
  {
   "cell_type": "code",
   "execution_count": 188,
   "id": "6fb4d519",
   "metadata": {},
   "outputs": [],
   "source": [
    "def synthetic_from_real_data(datapoint):\n",
    "    syn_env = []\n",
    "    conversation = datapoint[\"conversations\"]\n",
    "    task, db_state = process(conversation)\n",
    "    initial_prompt = environment_prompt_template.format(db_state, \n",
    "                                                        get_sql(conversation[3]['value']),\n",
    "                                                        task\n",
    "                                                       )\n",
    "    syn_env.append({'role': 'user', 'content': initial_prompt})\n",
    "    for side in conversation[4:]:\n",
    "        if side['from'] == 'human':\n",
    "            syn_env.append({'role': 'assistant', 'content': side['value']})\n",
    "        else:\n",
    "            if \"Final Answer:\" in side['value']:\n",
    "                break\n",
    "            sql = get_sql(side['value'])\n",
    "            syn_env.append({'role': 'user', 'content': side['value']})\n",
    "    if len(syn_env) < 2:\n",
    "        return None\n",
    "    result = {\n",
    "        'messages': syn_env\n",
    "    }\n",
    "    return result "
   ]
  },
  {
   "cell_type": "code",
   "execution_count": 189,
   "id": "7e03e386",
   "metadata": {},
   "outputs": [],
   "source": [
    "synthetic_examples = df.apply(synthetic_from_real_data, axis=1).dropna().tolist()"
   ]
  },
  {
   "cell_type": "code",
   "execution_count": 190,
   "id": "d95f6ceb",
   "metadata": {},
   "outputs": [
    {
     "data": {
      "text/plain": [
       "{'messages': [{'role': 'user',\n",
       "   'content': \"Pretend you are a MySQL database, responding to SQL statements from an agent. Provide realistic MySQL outputs for SELECT, INSERT, UPDATE, and DELETE operations, maintaining the state of the simulated database accordingly.  The user is expecting answers like those that would be received when using  mysql-connector-python. Reflect changes in subsequent outputs, and confirm operations with typical MySQL success messages. The initial state of the database is described below\\n\\nInitial Database state:\\nThere are 2 tables involved with this task. The name of the 1st table is drivers, and the headers of this table are driverId,driverRef,number,code,forename,surname,dob,nationality,url. The name of the 2nd table is lapTimes, and the headers of this table are raceId,driverId,lap,position,time,milliseconds.\\n\\nFirst command:\\nSELECT COUNT(*) FROM `drivers` d JOIN `lapTimes` lt ON d.driverId = lt.driverId WHERE d.nationality = 'French' AND lt.time < '01:00.00'\\n\\nThe user is working on the following task. The Database may include state that helps the user complete the task:\\nHow many French drivers who obtain the laptime less than 01:00.00?\\n\\nPlease only respond in rawMySQL format (with no extra formatting or commentary) for a user of  mysql-connector-python, for example, if the result is 59.555, the result would be presented as [('59.555',)]. After responding, end your response.\\n\"},\n",
       "  {'role': 'assistant', 'content': '[(0,)]'}]}"
      ]
     },
     "execution_count": 190,
     "metadata": {},
     "output_type": "execute_result"
    }
   ],
   "source": [
    "synthetic_examples[0]"
   ]
  },
  {
   "cell_type": "code",
   "execution_count": 128,
   "id": "06d575ed",
   "metadata": {},
   "outputs": [
    {
     "data": {
      "text/plain": [
       "532"
      ]
     },
     "execution_count": 128,
     "metadata": {},
     "output_type": "execute_result"
    }
   ],
   "source": [
    "len(synthetic_examples)"
   ]
  },
  {
   "cell_type": "markdown",
   "id": "7961febe",
   "metadata": {},
   "source": [
    "#### Add examples from failed runs"
   ]
  },
  {
   "cell_type": "code",
   "execution_count": 91,
   "id": "75906a5a",
   "metadata": {},
   "outputs": [],
   "source": [
    "runs = []\n",
    "with open('runs.jsonl', 'r') as file:\n",
    "    for line in file:\n",
    "        runs.append(json.loads(line))\n",
    "\n"
   ]
  },
  {
   "cell_type": "code",
   "execution_count": 97,
   "id": "cda9a259",
   "metadata": {},
   "outputs": [
    {
     "data": {
      "text/plain": [
       "[{'role': 'user',\n",
       "  'content': '\\nI will ask you a question, then you should help me operate a MySQL database with SQL to answer the question.\\nYou have to explain the problem and your solution to me and write down your thoughts.\\nAfter thinking and explaining thoroughly, every round you can choose to operate or to answer.\\nyour operation should be like this:\\nAction: Operation\\n```sql\\nSELECT * FROM table WHERE condition;\\n```\\nYou MUST put SQL in markdown format without any other comments. Your SQL should be in one line.\\nEvery time you can only execute one SQL statement. I will only execute the statement in the first SQL code block. Every time you write a SQL, I will execute it for you and give you the output.\\nIf you are done operating, and you want to commit your final answer, then write down:\\nAction: Answer\\nFinal Answer: [\"ANSWER1\", \"ANSWER2\", ...]\\nDO NOT write this pattern unless you are sure about your answer. I expect an accurate and correct answer.\\nYour answer should be accurate. Your answer must be exactly the same as the correct answer.\\nIf the question is about modifying the database, then after done operation, your answer field can be anything.\\nIf your response cannot match any pattern I mentioned earlier, you will be judged as FAIL immediately.\\nYour input will be raw MySQL response, you have to deal with it by yourself.\\n'},\n",
       " {'role': 'agent', 'content': 'Ok.'},\n",
       " {'role': 'user',\n",
       "  'content': 'Update the football season results to W 28-10 and 16-2 record for week 19.\\nThe name of this table is Football Season Results, and the headers of this table are Week,Date,Opponent,Result,Record,TV Time,Attendance.'},\n",
       " {'role': 'agent',\n",
       "  'content': \" Action: Operation\\n```sql\\nUPDATE Football_Season_Results SET Result = 'W', Record = '28-10' WHERE Week = 19;\\n```\\nPlease let me know if you want me to execute this statement or if you have any other question.\"},\n",
       " {'role': 'user',\n",
       "  'content': \"1146 (42S02): Table 'Football Season Results.Football_Season_Results' doesn't exist\"},\n",
       " {'role': 'agent',\n",
       "  'content': \" My apologies! It seems that the table 'Football Season Results' does not exist in the database.\\n\\nAction: Answer\\n\\nThe table 'Football Season Results' does not exist in the database. Please create the table with the appropriate columns and data types before proceeding with the update.\"}]"
      ]
     },
     "execution_count": 97,
     "metadata": {},
     "output_type": "execute_result"
    }
   ],
   "source": [
    "runs[1][\"output\"][\"history\"]"
   ]
  },
  {
   "cell_type": "code",
   "execution_count": 179,
   "id": "316fc036",
   "metadata": {},
   "outputs": [],
   "source": [
    "def process2(data):\n",
    "    return (data[2]['content'].split(\"\\n\")[0], '\\n'.join(data[2]['content'].split(\"\\n\")[1:]))\n",
    "\n",
    "def get_sql(content):    \n",
    "    first_sql_block = re.search(r\"```sql(.*?)```\", content, re.DOTALL)\n",
    "    if first_sql_block:\n",
    "        sql_code = first_sql_block.group(1).strip()\n",
    "    else:\n",
    "        sql_code = \"\"\n",
    "    return sql_code\n",
    "\n",
    "\n",
    "syn_env = []\n",
    "conversation = runs[1][\"output\"][\"history\"]\n",
    "task, db_state = process2(conversation)\n",
    "initial_prompt = environment_prompt_template.format(db_state, \n",
    "                                                    get_sql(conversation[3]['content']),\n",
    "                                                    task\n",
    "                                                   )\n",
    "syn_env.append({'role': 'user', 'content': initial_prompt})\n",
    "for side in conversation[4:]:\n",
    "    if side['role'] == 'user':\n",
    "        syn_env.append({'from': 'gpt', 'value': side['content']})\n",
    "    else:\n",
    "        if \"Final Answer:\" in side['content']:\n",
    "            break\n",
    "        sql = get_sql(side['content'])\n",
    "        syn_env.append({'from': 'human', 'value': side['content']})\n",
    "    if syn_env[-1]['from'] == 'human':\n",
    "        syn_env = syn_env[:-1]"
   ]
  },
  {
   "cell_type": "code",
   "execution_count": 180,
   "id": "05fd7912",
   "metadata": {},
   "outputs": [
    {
     "data": {
      "text/plain": [
       "[{'role': 'user',\n",
       "  'content': \"Pretend you are a MySQL database, responding to SQL statements from an agent. Provide realistic MySQL outputs for SELECT, INSERT, UPDATE, and DELETE operations, maintaining the state of the simulated database accordingly.  The user is expecting answers like those that would be received when using  mysql-connector-python. Reflect changes in subsequent outputs, and confirm operations with typical MySQL success messages. The initial state of the database is described below\\n\\nInitial Database state:\\nThe name of this table is Football Season Results, and the headers of this table are Week,Date,Opponent,Result,Record,TV Time,Attendance.\\n\\nFirst command:\\nUPDATE Football_Season_Results SET Result = 'W', Record = '28-10' WHERE Week = 19;\\n\\nThe user is working on the following task. The Database may include state that helps the user complete the task:\\nUpdate the football season results to W 28-10 and 16-2 record for week 19.\\n\\nPlease only respond in rawMySQL format (with no extra formatting or commentary) for a user of  mysql-connector-python, for example, if the result is 59.555, the result would be presented as [('59.555',)]. After responding, end your response.\\n\"},\n",
       " {'from': 'gpt',\n",
       "  'value': \"1146 (42S02): Table 'Football Season Results.Football_Season_Results' doesn't exist\"}]"
      ]
     },
     "execution_count": 180,
     "metadata": {},
     "output_type": "execute_result"
    }
   ],
   "source": [
    "syn_env"
   ]
  },
  {
   "cell_type": "code",
   "execution_count": 191,
   "id": "3909c188",
   "metadata": {},
   "outputs": [],
   "source": [
    "# Process Runs\n",
    "run_synthetic_examples = []\n",
    "for run in runs:\n",
    "    syn_env = []\n",
    "    conversation = run[\"output\"][\"history\"]\n",
    "    task, db_state = process2(conversation)\n",
    "    initial_prompt = environment_prompt_template.format(db_state, \n",
    "                                                        get_sql(conversation[3]['content']),\n",
    "                                                        task\n",
    "                                                       )\n",
    "    syn_env.append({'role': 'user', 'content': initial_prompt})\n",
    "    for side in conversation[4:]:\n",
    "        if side['role'] == 'user':\n",
    "            syn_env.append({'role': 'assistant', 'content': side['content']})\n",
    "        else:\n",
    "            if \"Final Answer:\" in side['content']:\n",
    "                break\n",
    "            sql = get_sql(side['content'])\n",
    "            syn_env.append({'role': 'user', 'content': side['content']})\n",
    "        if syn_env[-1]['role'] == 'user':\n",
    "            syn_env = syn_env[:-1]\n",
    "    result = {\n",
    "        'messages': syn_env\n",
    "    }\n",
    "    if len(syn_env) > 1:       \n",
    "        run_synthetic_examples.append(result)"
   ]
  },
  {
   "cell_type": "code",
   "execution_count": 192,
   "id": "7d3fef84",
   "metadata": {},
   "outputs": [
    {
     "data": {
      "text/plain": [
       "{'messages': [{'role': 'user',\n",
       "   'content': \"Pretend you are a MySQL database, responding to SQL statements from an agent. Provide realistic MySQL outputs for SELECT, INSERT, UPDATE, and DELETE operations, maintaining the state of the simulated database accordingly.  The user is expecting answers like those that would be received when using  mysql-connector-python. Reflect changes in subsequent outputs, and confirm operations with typical MySQL success messages. The initial state of the database is described below\\n\\nInitial Database state:\\nThe name of this table is Specimen Collection, and the headers of this table are Name,No. Specimens,Abbr.,Country,City.\\n\\nFirst command:\\nUPDATE Specimen Collection\\nSET No. Specimens = 190000\\nWHERE Name = 'University of Stockholm';\\n\\nThe user is working on the following task. The Database may include state that helps the user complete the task:\\nChange the value of 'No. Specimens' to '190,000' in the 'Specimen Collection' table for the entry with 'Name' as 'University of Stockholm'.\\n\\nPlease only respond in rawMySQL format (with no extra formatting or commentary) for a user of  mysql-connector-python, for example, if the result is 59.555, the result would be presented as [('59.555',)]. After responding, end your response.\\n\"},\n",
       "  {'role': 'assistant',\n",
       "   'content': \"1146 (42S02): Table 'Specimen Collection.Specimen' doesn't exist\"}]}"
      ]
     },
     "execution_count": 192,
     "metadata": {},
     "output_type": "execute_result"
    }
   ],
   "source": [
    "run_synthetic_examples[0]"
   ]
  },
  {
   "cell_type": "code",
   "execution_count": 184,
   "id": "41796f57",
   "metadata": {},
   "outputs": [
    {
     "data": {
      "text/plain": [
       "31"
      ]
     },
     "execution_count": 184,
     "metadata": {},
     "output_type": "execute_result"
    }
   ],
   "source": [
    "len(run_synthetic_examples)"
   ]
  },
  {
   "cell_type": "code",
   "execution_count": 145,
   "id": "474c1633",
   "metadata": {},
   "outputs": [
    {
     "data": {
      "text/plain": [
       "[{'from': 'human',\n",
       "  'value': \"Pretend you are a MySQL database, responding to SQL statements from an agent. Provide realistic MySQL outputs for SELECT, INSERT, UPDATE, and DELETE operations, maintaining the state of the simulated database accordingly.  The user is expecting answers like those that would be received when using  mysql-connector-python. Reflect changes in subsequent outputs, and confirm operations with typical MySQL success messages. The initial state of the database is described below\\n\\nInitial Database state:\\nThe name of this table is football_stats, and the headers of this table are Player,Position,Starter,Touchdowns,Extra points,Field goals,Points.\\n\\nFirst command:\\nSELECT * FROM football_stats WHERE Touchdowns = 11;\\n\\nThe user is working on the following task. The Database may include state that helps the user complete the task:\\nName the least touchdowns for 11 points\\n\\nPlease only respond in rawMySQL format (with no extra formatting or commentary) for a user of  mysql-connector-python, for example, if the result is 59.555, the result would be presented as [('59.555',)]. After responding, end your response.\\n\"},\n",
       " {'from': 'gpt', 'value': '[]'}]"
      ]
     },
     "execution_count": 145,
     "metadata": {},
     "output_type": "execute_result"
    }
   ],
   "source": [
    "run_synthetic_examples[23]"
   ]
  },
  {
   "cell_type": "code",
   "execution_count": 150,
   "id": "0887c5f9",
   "metadata": {},
   "outputs": [
    {
     "name": "stdout",
     "output_type": "stream",
     "text": [
      "DBBench Simulated.ipynb\r\n",
      "Examine Synthetic Interactions.ipynb\r\n",
      "HouseHolding.ipynb\r\n",
      "Knowledge Graph.ipynb\r\n",
      "Multi-threaded Agent Interactions.ipynb\r\n",
      "README.md\r\n",
      "Synthetic Agent Data.ipynb\r\n",
      "Synthetic AgentInstruct Environments Prototyping.ipynb\r\n",
      "Synthetic Environments.ipynb\r\n",
      "Untitled.ipynb\r\n",
      "WebShop.ipynb\r\n",
      "converse.py\r\n",
      "dbbench fine-tune gpt-4.ipynb\r\n",
      "env.py\r\n",
      "env_list.py\r\n",
      "main.py\r\n",
      "requirements.txt\r\n",
      "runs.jsonl\r\n",
      "\u001b[34msynthetic\u001b[m\u001b[m/\r\n",
      "utils.py\r\n"
     ]
    }
   ],
   "source": [
    "%ls"
   ]
  },
  {
   "cell_type": "markdown",
   "id": "ef261102",
   "metadata": {},
   "source": [
    "#### Create dataset"
   ]
  },
  {
   "cell_type": "code",
   "execution_count": 193,
   "id": "79987076",
   "metadata": {},
   "outputs": [],
   "source": [
    "dataset = synthetic_examples + run_synthetic_examples"
   ]
  },
  {
   "cell_type": "code",
   "execution_count": 194,
   "id": "e7e77afd",
   "metadata": {},
   "outputs": [],
   "source": [
    "# Writing to file\n",
    "with open('./synthetic/dbbench_environment.jsonl', 'w') as file:\n",
    "    for message in dataset:\n",
    "        file.write(json.dumps(message) + '\\n')"
   ]
  },
  {
   "cell_type": "code",
   "execution_count": 195,
   "id": "23dca44d",
   "metadata": {},
   "outputs": [
    {
     "data": {
      "text/plain": [
       "{'messages': [{'role': 'user',\n",
       "   'content': \"Pretend you are a MySQL database, responding to SQL statements from an agent. Provide realistic MySQL outputs for SELECT, INSERT, UPDATE, and DELETE operations, maintaining the state of the simulated database accordingly.  The user is expecting answers like those that would be received when using  mysql-connector-python. Reflect changes in subsequent outputs, and confirm operations with typical MySQL success messages. The initial state of the database is described below\\n\\nInitial Database state:\\nThere are 2 tables involved with this task. The name of the 1st table is drivers, and the headers of this table are driverId,driverRef,number,code,forename,surname,dob,nationality,url. The name of the 2nd table is lapTimes, and the headers of this table are raceId,driverId,lap,position,time,milliseconds.\\n\\nFirst command:\\nSELECT COUNT(*) FROM `drivers` d JOIN `lapTimes` lt ON d.driverId = lt.driverId WHERE d.nationality = 'French' AND lt.time < '01:00.00'\\n\\nThe user is working on the following task. The Database may include state that helps the user complete the task:\\nHow many French drivers who obtain the laptime less than 01:00.00?\\n\\nPlease only respond in rawMySQL format (with no extra formatting or commentary) for a user of  mysql-connector-python, for example, if the result is 59.555, the result would be presented as [('59.555',)]. After responding, end your response.\\n\"},\n",
       "  {'role': 'assistant', 'content': '[(0,)]'}]}"
      ]
     },
     "execution_count": 195,
     "metadata": {},
     "output_type": "execute_result"
    }
   ],
   "source": [
    "dataset[0]"
   ]
  },
  {
   "cell_type": "code",
   "execution_count": null,
   "id": "7fac23cd",
   "metadata": {},
   "outputs": [],
   "source": []
  }
 ],
 "metadata": {
  "kernelspec": {
   "display_name": "Python 3 (ipykernel)",
   "language": "python",
   "name": "python3"
  },
  "language_info": {
   "codemirror_mode": {
    "name": "ipython",
    "version": 3
   },
   "file_extension": ".py",
   "mimetype": "text/x-python",
   "name": "python",
   "nbconvert_exporter": "python",
   "pygments_lexer": "ipython3",
   "version": "3.11.4"
  }
 },
 "nbformat": 4,
 "nbformat_minor": 5
}
