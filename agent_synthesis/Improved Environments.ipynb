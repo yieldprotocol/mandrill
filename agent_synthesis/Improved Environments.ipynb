{
 "cells": [
  {
   "cell_type": "code",
   "execution_count": 1,
   "id": "332c55d2",
   "metadata": {},
   "outputs": [],
   "source": [
    "import openai\n",
    "import json\n",
    "import random\n",
    "from langchain.llms import OpenAI\n",
    "from langchain.chat_models import ChatOpenAI\n",
    "from langchain.schema import HumanMessage, AIMessage, SystemMessage\n",
    "from getpass import getpass\n",
    "import os\n",
    "\n",
    "from IPython.display import HTML, display\n",
    "import pdfkit\n",
    "import html\n",
    "from copy import deepcopy\n",
    "\n",
    "import threading\n",
    "import queue\n",
    "import time  # Used for simulating API call\n",
    "import pickle"
   ]
  },
  {
   "cell_type": "code",
   "execution_count": 2,
   "id": "d21c095b",
   "metadata": {},
   "outputs": [
    {
     "name": "stdout",
     "output_type": "stream",
     "text": [
      "········\n"
     ]
    }
   ],
   "source": [
    "# setting up an OpenAI template on the run\n",
    "OPENAI_API_KEY = getpass()\n",
    "\n",
    "os.environ['OPENAI_API_KEY'] = OPENAI_API_KEY"
   ]
  },
  {
   "cell_type": "markdown",
   "id": "68174b36",
   "metadata": {},
   "source": [
    "### Setup Model"
   ]
  },
  {
   "cell_type": "code",
   "execution_count": 3,
   "id": "0e5a7c2a",
   "metadata": {},
   "outputs": [],
   "source": [
    "model = ChatOpenAI(model=\"gpt-4-0613\")\n",
    "model.temperature = 0.8"
   ]
  },
  {
   "cell_type": "markdown",
   "id": "8de48f2d",
   "metadata": {},
   "source": [
    "### Prompts"
   ]
  },
  {
   "cell_type": "code",
   "execution_count": 4,
   "id": "1a89cf2e",
   "metadata": {},
   "outputs": [],
   "source": [
    "environment_prompt_template = '''\n",
    "You will simulate a software enviroment that can be used by a user or agent. You will simulate the following software environment:\n",
    "{}\n",
    "\n",
    "The following information explains the expectations about inputs and outputs of the environment:\n",
    "{}\n",
    "\n",
    "You should do your absolute best to interact with the user as if you are the given environment. You should NOT act as if you are chatGPT, GPT-4, or any other AI agent. The goal is to make a convincing simulation. Below you are given information about the state of the environment:\n",
    "{}\n",
    "\n",
    "When acting as the environment, you may make up any data or information you need, as long as it is consistent with the state and the user actions. You should prefer realistic data and responses over “example” data that is generic (“Matthew Harris” is better than “John Doe”, “Carter Products” is better than “Acme Products”). Your outputs should ALWAYS be consistent with the expectations about outputs!\n",
    "\n",
    "In any situation where the inputs from the user are incomplete, unrecognized, or not as per the expected format for the software environment, you should return an error and generic information about how inputs of the given type may be presented. \n",
    "\n",
    "Please start with an opening message from the software environment to the user with a basic explanation of how to begin using the software environment.\n",
    "'''\n",
    "\n",
    "\n",
    "agent_prompt_template = '''\n",
    "Interact with a software environment to solve a task. Imagine you are an intelligent agent working for a user and your target is to perform actions to complete the task goal. At the beginning of your interactions, you will be given a detailed description of the current environment and your goal to accomplish. For each of your turns, you will be given a list of actions which you can choose one to perform in this turn. You should provide two parts of your response: \"THOUGHT\" and \"ACTION\". For  \"THOUGHT\", you should first think about the current condition and plan for your future actions, and then output your \"ACTION\" in this turn. Your output must strictly follow this format:\"THOUGHT: your thoughts.\n",
    " ACTION: your next action \n",
    "\"; For \"ACTION\", you should directly output the action this turn. Your output must strictly follow this format:\"ACTION: your next action\n",
    "\". After your each turn, the environment will respond based on your actions which you may use to plan your next few steps. if the environment output includes an error, that means the previous action is invalid and you should try more options. If you have finished the task, you can call the success function \"success([outputs,...])\" with any final outputs.\n",
    " Reminder: \n",
    "1. the action must follow any formats requested\n",
    "2. Think when necessary, try to act directly more in the process.\n",
    "If information is requested that you don't have, you may use placeholder information, but please note the information when calling \"success()\". You may use information you are aware of to help solve the task, but you should not attempt to solve the task without using the software environment. \n",
    "\n",
    "Software Environment: {}\n",
    "Your Task: {}\n",
    "'''"
   ]
  },
  {
   "cell_type": "markdown",
   "id": "83ea67a6",
   "metadata": {},
   "source": [
    "### Load Data"
   ]
  },
  {
   "cell_type": "code",
   "execution_count": 7,
   "id": "976371ad",
   "metadata": {},
   "outputs": [],
   "source": [
    "def save_queue_to_file(q, filename):\n",
    "    with open(filename, 'wb') as file:\n",
    "        pickle.dump(list(q.queue), file)\n",
    "\n",
    "def load_queue_from_file(filename):\n",
    "    try:\n",
    "        q = queue.Queue()\n",
    "        with open(filename, 'rb') as file:\n",
    "            the_list = pickle.load(file)\n",
    "            for item in the_list:\n",
    "                q.put(item)\n",
    "        return q\n",
    "    except (FileNotFoundError, EOFError):\n",
    "        return queue.Queue()\n"
   ]
  },
  {
   "cell_type": "code",
   "execution_count": 8,
   "id": "7ba2cf88",
   "metadata": {},
   "outputs": [],
   "source": [
    "# The input queue is the list of tasks that haven't yet been turned into agent interactions\n",
    "input_queue = load_queue_from_file(\"./synthetic/input_queue.pkl\")\n"
   ]
  },
  {
   "cell_type": "code",
   "execution_count": 10,
   "id": "8091c6eb",
   "metadata": {},
   "outputs": [],
   "source": [
    "queue_list = list(input_queue.queue)"
   ]
  },
  {
   "cell_type": "code",
   "execution_count": 12,
   "id": "6b80d758",
   "metadata": {},
   "outputs": [],
   "source": [
    "import random\n",
    "a = random.choice(queue_list)"
   ]
  },
  {
   "cell_type": "code",
   "execution_count": 15,
   "id": "bfec40a5",
   "metadata": {},
   "outputs": [
    {
     "data": {
      "text/plain": [
       "{'environment': 'Environmental Impact Analyzer: The agent evaluates the environmental impact of various projects or decisions based on input data. Environmentalists can adjust evaluation parameters and interpret results.',\n",
       " 'io': \"Outputs: The output will be a well-structured JSON object. It would include fields for different impact categories such as GHG emissions, energy consumption, water usage, waste generation, biodiversity impact, etc. Each field will contain numerical values representing the estimated impact in appropriate units (e.g., tons of CO2, Megajoules, liters, kilograms, etc.). It will also include a summary section to provide an overall score of the project's environmental impact. This summary could be based on an aggregation of the category impacts using a weighting system that reflects the priorities of the environmentalist.\\n\\nInputs: The input will be a YAML file. This file will include sections to define the project's details, such as the project type, duration, location, involved materials, processes, and energy sources. These sections will be organized hierarchically to maintain clarity and simplicity.\\n\\nEach section will include relevant parameters that the AI can analyze. For example, the energy section could detail the types of energy sources used, total energy consumption, and duration of energy use. The materials section could define the type and quantity of materials used, their sourcing (recycled or virgin), and end-of-life disposition (recyclable, compostable, landfill, etc.).\\n\\nThe YAML file will also include a section to specify the weights for different environmental impact categories based on the environmentalist's priorities. This will allow users to customize the environmental impact analysis according to their specific concerns.\\n\\nInitial Capabilities Displayed by the Environmental Impact Analyzer:\\nSET_PROJECT_DETAILS: Set details of the project to be evaluated.\\nSET_PRIORITY_WEIGHTS: Set the weights for different environmental impact categories.\\nANALYZE_IMPACT: Execute the environmental impact analysis.\\nSHOW_IMPACT: Display the estimated environmental impact.\\nASK_QUESTION: Pose a natural language question about capabilities.\",\n",
       " 'task': 'Gauge the environmental impact of a 15-year project to build a hydroelectric dam in Colorado.',\n",
       " 'state': 'The environment includes parameter settings for project type, duration, location, materials used, and energy sources, along with a weighting system for different environmental impact categories.'}"
      ]
     },
     "execution_count": 15,
     "metadata": {},
     "output_type": "execute_result"
    }
   ],
   "source": [
    "a"
   ]
  },
  {
   "cell_type": "code",
   "execution_count": 14,
   "id": "35229482",
   "metadata": {},
   "outputs": [
    {
     "name": "stdout",
     "output_type": "stream",
     "text": [
      "Outputs: The output will be a well-structured JSON object. It would include fields for different impact categories such as GHG emissions, energy consumption, water usage, waste generation, biodiversity impact, etc. Each field will contain numerical values representing the estimated impact in appropriate units (e.g., tons of CO2, Megajoules, liters, kilograms, etc.). It will also include a summary section to provide an overall score of the project's environmental impact. This summary could be based on an aggregation of the category impacts using a weighting system that reflects the priorities of the environmentalist.\n",
      "\n",
      "Inputs: The input will be a YAML file. This file will include sections to define the project's details, such as the project type, duration, location, involved materials, processes, and energy sources. These sections will be organized hierarchically to maintain clarity and simplicity.\n",
      "\n",
      "Each section will include relevant parameters that the AI can analyze. For example, the energy section could detail the types of energy sources used, total energy consumption, and duration of energy use. The materials section could define the type and quantity of materials used, their sourcing (recycled or virgin), and end-of-life disposition (recyclable, compostable, landfill, etc.).\n",
      "\n",
      "The YAML file will also include a section to specify the weights for different environmental impact categories based on the environmentalist's priorities. This will allow users to customize the environmental impact analysis according to their specific concerns.\n",
      "\n",
      "Initial Capabilities Displayed by the Environmental Impact Analyzer:\n",
      "SET_PROJECT_DETAILS: Set details of the project to be evaluated.\n",
      "SET_PRIORITY_WEIGHTS: Set the weights for different environmental impact categories.\n",
      "ANALYZE_IMPACT: Execute the environmental impact analysis.\n",
      "SHOW_IMPACT: Display the estimated environmental impact.\n",
      "ASK_QUESTION: Pose a natural language question about capabilities.\n"
     ]
    }
   ],
   "source": [
    "print(a['io'])"
   ]
  },
  {
   "cell_type": "code",
   "execution_count": null,
   "id": "06ac05cf",
   "metadata": {},
   "outputs": [],
   "source": []
  },
  {
   "cell_type": "markdown",
   "id": "2416ea99",
   "metadata": {},
   "source": [
    "#### Open Tasks"
   ]
  },
  {
   "cell_type": "code",
   "execution_count": 16,
   "id": "7edb3b1a",
   "metadata": {},
   "outputs": [],
   "source": [
    "# Read from a JSON file\n",
    "with open('./synthetic/tasks_with_full_environment.json', 'r') as file:\n",
    "    tasks_with_full_environment = json.load(file)"
   ]
  },
  {
   "cell_type": "code",
   "execution_count": 17,
   "id": "c6dbaad4",
   "metadata": {},
   "outputs": [
    {
     "data": {
      "text/plain": [
       "1525"
      ]
     },
     "execution_count": 17,
     "metadata": {},
     "output_type": "execute_result"
    }
   ],
   "source": [
    "len(tasks_with_full_environment)"
   ]
  },
  {
   "cell_type": "code",
   "execution_count": 18,
   "id": "8d2f5841",
   "metadata": {},
   "outputs": [
    {
     "data": {
      "text/plain": [
       "{'environment': 'Book Reservation System: The agent interacts with a simulated booking system to reserve flights, hotels, or restaurants based on criteria. Travel agents can adjust reservation details and monitor booking statuses.',\n",
       " 'io': 'Outputs: The output format could be a structured JSON response containing key information about the available options for bookings. For flight bookings, it will return information like flight number, airline, departure time, arrival time, price, available seats, etc. For hotel bookings, it could return information like hotel name, location, price per night, available rooms, amenities, etc. For restaurant bookings, it could return information like restaurant name, location, available seats, menu, pricing, etc. Furthermore, it could return statuses of adjusted reservations and booking statuses.\\n\\nInputs: The input format could be a specifically structured JSON request. The JSON request should have fields specifying the type of reservation (flight, hotel, restaurant), criteria for the reservation such as dates, number of people, location (for hotel and restaurant), destination (for flight), budget, preferred timings, dietary restrictions (for restaurant), room type (for hotel), etc. Additionally, there should be options to input requests for adjusting current reservations and also for monitoring the status of a specific booking. The agent should be able to input natural language queries, which will be processed to adjust the JSON request accordingly. \\n\\nFor example, a JSON request for a hotel booking could look something like this:\\n\\n```\\n{\\n  \"reservation_type\": \"hotel\",\\n  \"location\": \"New York\",\\n  \"check_in_date\": \"2022-10-01\",\\n  \"check_out_date\": \"2022-10-10\",\\n  \"number_of_people\": 2,\\n  \"room_type\": \"double_bed\",\\n  \"budget\": 1500,\\n  \"amenities\": [\"wifi\", \"breakfast\"]\\n}\\n```\\n\\nAnd a corresponding JSON response could look something like this:\\n\\n```\\n{\\n  \"booking_options\": [{\\n      \"hotel_name\": \"The Grand New York\",\\n      \"location\": \"Central Park West, New York\",\\n      \"price_per_night\": 150,\\n      \"available_rooms\": 5,\\n      \"amenities\": [\"wifi\", \"breakfast\", \"spa\", \"gym\"],\\n      \"total_price\": 1350\\n    },\\n    {\\n      \"hotel_name\": \"The Plaza Hotel\",\\n      \"location\": \"Fifth Avenue, New York\",\\n      \"price_per_night\": 200,\\n      \"available_rooms\": 3,\\n      \"amenities\": [\"wifi\", \"breakfast\", \"pool\", \"gym\"],\\n      \"total_price\": 1800\\n    }\\n  ]\\n}\\n```',\n",
       " 'task': 'Book a flight for Mary Lewis from San Francisco to Sydney departing on 2023-01-20 and returning on 2023-02-10 with a budget of $1500.',\n",
       " 'state': 'The software environment includes a database of available flights from various airlines, departure and arrival locations, timings, prices, and available seats.'}"
      ]
     },
     "execution_count": 18,
     "metadata": {},
     "output_type": "execute_result"
    }
   ],
   "source": [
    "tasks_with_full_environment[0]"
   ]
  },
  {
   "cell_type": "code",
   "execution_count": 19,
   "id": "cace28eb",
   "metadata": {},
   "outputs": [],
   "source": [
    "# Group tasks by environment\n",
    "grouped_by_environment = {}\n",
    "\n",
    "for d in tasks_with_full_environment:\n",
    "    env = d['environment']\n",
    "    if env not in grouped_by_environment:\n",
    "        grouped_by_environment[env] = []\n",
    "    grouped_by_environment[env].append(d)\n",
    "\n",
    "result = list(grouped_by_environment.values())"
   ]
  },
  {
   "cell_type": "code",
   "execution_count": 20,
   "id": "f21453cc",
   "metadata": {},
   "outputs": [
    {
     "data": {
      "text/plain": [
       "59"
      ]
     },
     "execution_count": 20,
     "metadata": {},
     "output_type": "execute_result"
    }
   ],
   "source": [
    "len(grouped_by_environment)"
   ]
  },
  {
   "cell_type": "code",
   "execution_count": 53,
   "id": "75103e3a",
   "metadata": {},
   "outputs": [],
   "source": [
    "key_to_use = list(grouped_by_environment.keys())[13]"
   ]
  },
  {
   "cell_type": "code",
   "execution_count": 54,
   "id": "125c1085",
   "metadata": {},
   "outputs": [],
   "source": [
    "tasks_group = grouped_by_environment[key_to_use]"
   ]
  },
  {
   "cell_type": "code",
   "execution_count": 55,
   "id": "ca1f2001",
   "metadata": {},
   "outputs": [],
   "source": [
    "all_tasks = [x['task'] for x in tasks_group ]"
   ]
  },
  {
   "cell_type": "code",
   "execution_count": 56,
   "id": "ae14ab98",
   "metadata": {},
   "outputs": [
    {
     "data": {
      "text/plain": [
       "['Search for a 2-bedroom apartment in the Upper East Side, New York, under $5000 per month for Charlotte Cohen.',\n",
       " 'List a 3-bedroom bungalow in Beverly Hills, with an asking price of $1.2 million for broker George Riddle.',\n",
       " 'Plan a visit for Amber Thompson to a loft located in downtown Chicago, with the preferred date being 23rd of this month.',\n",
       " \"Manage a transaction for broker Marcus Wyatt, updating the status of the sale of a penthouse in Miami from 'pending' to 'closed'.\",\n",
       " 'Make an offer of $980,000 for a villa in Malibu on behalf of investor Natalie Reeves, specifying the terms as a 30-day close.',\n",
       " 'Update the property details for a studio apartment in San Francisco listed by broker Lydia Morton, changing the bathroom count from 1 to 1.5.',\n",
       " 'View the client feedback for the property ID #2356, a condo in Downtown LA, for broker Stephen Hawkins.',\n",
       " 'Search for available commercial properties in Boston for startup owner Wanda Harris, with a budget of under $7000 per month.',\n",
       " 'Schedule a visit for the property ID #1729, a townhouse in Atlanta, for prospective buyer Arnold Weaver on the 10th of next month.',\n",
       " 'Make an offer on behalf of Gary Hudson for a duplex in Brooklyn, with an offer price of $1.5 million and a 45-day close term.',\n",
       " 'Update the property details for a cottage in the Hamptons listed by Alice Bailey, adding a new image of the remodeled kitchen.',\n",
       " \"Manage the transaction for property ID #9876, a villa in Orlando, for broker Evan Fitzgerald, changing the status from 'under contract' to 'sold'.\",\n",
       " 'View the client feedback for property ID #5612, a studio apartment in Seattle, for broker Rebecca Hill.',\n",
       " 'List a 4-bedroom house in Austin with a price of $800,000 for broker Robert Newman.',\n",
       " 'Search for available properties within a 10-mile radius of Stanford University for graduate student Timothy Lane, with a budget of $2000 per month.',\n",
       " 'Schedule a visit for Rebecca Hill to a condo in San Diego, with the preferred date being the 1st of next month.',\n",
       " 'Make an offer of $2 million for a penthouse in Las Vegas on behalf of investor Philip Gibson, specifying the terms as a 60-day close.',\n",
       " 'Update the property details for a loft in Denver listed by broker Susan Richards, changing the price from $1 million to $900,000.',\n",
       " \"Manage the transaction for property ID #5467, a bungalow in Phoenix, for broker Oliver Bryant, updating the status from 'offer made' to 'under contract'.\",\n",
       " 'View the client feedback for property ID #8765, a townhouse in Portland, for broker Patricia Adams.',\n",
       " 'List a 2-bedroom apartment in Nashville with an asking price of $400,000 for broker Walter Scott.',\n",
       " 'Search for available properties in Manhattan, with a budget of under $10,000 per month for CEO Miranda Lawson.',\n",
       " 'Schedule a visit for property ID #3478, a villa in Miami, for prospective buyer Stanley Nelson on the 15th of next month.',\n",
       " 'Make an offer on behalf of Emily Jordan for a cottage in the Hamptons, with an offer price of $3 million and a 30-day close term.',\n",
       " 'Update the property details for a condo in Houston listed by Vivian Edwards, adding a note about the newly installed smart home features.']"
      ]
     },
     "execution_count": 56,
     "metadata": {},
     "output_type": "execute_result"
    }
   ],
   "source": [
    "all_tasks"
   ]
  },
  {
   "cell_type": "code",
   "execution_count": 57,
   "id": "689ad6f0",
   "metadata": {},
   "outputs": [
    {
     "data": {
      "text/plain": [
       "'Virtual Real Estate Agent: The agent searches, lists, and suggests properties based on preferences and constraints. Real estate brokers can adjust property details, monitor client feedback, and handle transactions.'"
      ]
     },
     "execution_count": 57,
     "metadata": {},
     "output_type": "execute_result"
    }
   ],
   "source": [
    "key_to_use"
   ]
  },
  {
   "cell_type": "code",
   "execution_count": 58,
   "id": "b98b96ce",
   "metadata": {},
   "outputs": [
    {
     "data": {
      "text/plain": [
       "{'environment': 'Virtual Real Estate Agent: The agent searches, lists, and suggests properties based on preferences and constraints. Real estate brokers can adjust property details, monitor client feedback, and handle transactions.',\n",
       " 'io': 'Outputs: The output format would be a structured JSON response which contains the key details of each property - such as property ID, location, price, type (apartment, house, studio etc.), number of bedrooms/bathrooms, area (in sq ft), images (links to property images), seller information, and property status (available/leased). Moreover, the output might also include user-specific details like user’s search history, saved properties, scheduled visits, and transaction details. \\n\\nInputs: The input format would be primarily JSON commands and parameters sent through an API endpoint. This can include commands for user actions such as SEARCH_PROPERTY (parameters: location, price range, property type, number of bedrooms etc.), LIST_PROPERTY (parameters: property details), SCHEDULE_VISIT (parameters: property ID, preferred date-time), MAKE_OFFER (parameters: property ID, offer price, terms), and TRANSACTION (parameters: property ID, buyer and seller information, sale price, closing date). Broker-specific commands might include UPDATE_PROPERTY (parameters: property ID, updated property details), VIEW_FEEDBACK (parameters: property ID), and MANAGE_TRANSACTION (parameters: transaction ID, status updates).',\n",
       " 'task': 'Search for a 2-bedroom apartment in the Upper East Side, New York, under $5000 per month for Charlotte Cohen.',\n",
       " 'state': 'The platform has a database of various properties with different details and a search feature which accepts parameters like location, price range, and property type.'}"
      ]
     },
     "execution_count": 58,
     "metadata": {},
     "output_type": "execute_result"
    }
   ],
   "source": [
    "tasks_group[0]"
   ]
  },
  {
   "cell_type": "code",
   "execution_count": 59,
   "id": "bdc3140f",
   "metadata": {},
   "outputs": [
    {
     "name": "stdout",
     "output_type": "stream",
     "text": [
      "Outputs: The output format would be a structured JSON response which contains the key details of each property - such as property ID, location, price, type (apartment, house, studio etc.), number of bedrooms/bathrooms, area (in sq ft), images (links to property images), seller information, and property status (available/leased). Moreover, the output might also include user-specific details like user’s search history, saved properties, scheduled visits, and transaction details. \n",
      "\n",
      "Inputs: The input format would be primarily JSON commands and parameters sent through an API endpoint. This can include commands for user actions such as SEARCH_PROPERTY (parameters: location, price range, property type, number of bedrooms etc.), LIST_PROPERTY (parameters: property details), SCHEDULE_VISIT (parameters: property ID, preferred date-time), MAKE_OFFER (parameters: property ID, offer price, terms), and TRANSACTION (parameters: property ID, buyer and seller information, sale price, closing date). Broker-specific commands might include UPDATE_PROPERTY (parameters: property ID, updated property details), VIEW_FEEDBACK (parameters: property ID), and MANAGE_TRANSACTION (parameters: transaction ID, status updates).\n"
     ]
    }
   ],
   "source": [
    "print(tasks_group[0]['io'])"
   ]
  },
  {
   "cell_type": "code",
   "execution_count": null,
   "id": "222ea33b",
   "metadata": {},
   "outputs": [],
   "source": []
  }
 ],
 "metadata": {
  "kernelspec": {
   "display_name": "Python 3 (ipykernel)",
   "language": "python",
   "name": "python3"
  },
  "language_info": {
   "codemirror_mode": {
    "name": "ipython",
    "version": 3
   },
   "file_extension": ".py",
   "mimetype": "text/x-python",
   "name": "python",
   "nbconvert_exporter": "python",
   "pygments_lexer": "ipython3",
   "version": "3.11.4"
  }
 },
 "nbformat": 4,
 "nbformat_minor": 5
}
