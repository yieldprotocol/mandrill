{
 "cells": [
  {
   "cell_type": "code",
   "execution_count": 4,
   "metadata": {},
   "outputs": [],
   "source": [
    "import json\n",
    "import pandas as pd"
   ]
  },
  {
   "cell_type": "code",
   "execution_count": 6,
   "metadata": {},
   "outputs": [],
   "source": [
    "file_path = r\"C:\\Users\\harsh\\Documents\\crypto-LLM-exps\\AgentBench-Results\\v0.2-dev\\llama7B-os_std\\llama7B-os_std\\runs.jsonl\"\n",
    "df = pd.DataFrame()\n",
    "all_data = []\n",
    "with open(file_path, 'r') as file:\n",
    "    for line in file:\n",
    "        data = json.loads(line)\n",
    "        tmp_df = pd.concat([pd.DataFrame([data['output']['result']['result']] , columns=[\"result\"]) , pd.DataFrame(data['output']['history'])], axis=1)\n",
    "        df = pd.concat([df, tmp_df], axis=1)\n",
    "        all_data.append(data)"
   ]
  },
  {
   "cell_type": "code",
   "execution_count": 19,
   "metadata": {},
   "outputs": [],
   "source": [
    "s = \"\"\n",
    "for d in all_data[78]['output']['history']:\n",
    "    s += f\"{d['role'].upper()}: {d['content']}\" +  \"\\n\"\n",
    "    \n",
    "with open(\"interaction-prompt.txt\", \"w\") as f:\n",
    "    f.write(s)"
   ]
  }
 ],
 "metadata": {
  "kernelspec": {
   "display_name": "base",
   "language": "python",
   "name": "python3"
  },
  "language_info": {
   "codemirror_mode": {
    "name": "ipython",
    "version": 3
   },
   "file_extension": ".py",
   "mimetype": "text/x-python",
   "name": "python",
   "nbconvert_exporter": "python",
   "pygments_lexer": "ipython3",
   "version": "3.11.5"
  }
 },
 "nbformat": 4,
 "nbformat_minor": 2
}
