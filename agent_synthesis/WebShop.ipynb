{
 "cells": [
  {
   "cell_type": "code",
   "execution_count": 1,
   "id": "747aae3e",
   "metadata": {},
   "outputs": [],
   "source": [
    "from IPython.display import HTML, display\n",
    "from copy import deepcopy\n",
    "import random\n",
    "import os\n",
    "import openai\n",
    "import time\n",
    "import sys\n",
    "import ast\n",
    "import json\n",
    "\n",
    "from langchain.llms import OpenAI\n",
    "from langchain.chat_models import ChatOpenAI\n",
    "from langchain.schema import HumanMessage, AIMessage, SystemMessage\n",
    "from getpass import getpass\n",
    "import os\n",
    "import pandas as pd\n",
    "\n",
    "import pdfkit\n",
    "import html\n",
    "from copy import deepcopy\n",
    "import re"
   ]
  },
  {
   "cell_type": "code",
   "execution_count": 2,
   "id": "24ab5c06",
   "metadata": {},
   "outputs": [
    {
     "name": "stdout",
     "output_type": "stream",
     "text": [
      "········\n"
     ]
    }
   ],
   "source": [
    "# setting up an OpenAI template on the run\n",
    "OPENAI_API_KEY = getpass()\n",
    "\n",
    "os.environ['OPENAI_API_KEY'] = OPENAI_API_KEY"
   ]
  },
  {
   "cell_type": "markdown",
   "id": "e799a295",
   "metadata": {},
   "source": [
    "### Setup Model"
   ]
  },
  {
   "cell_type": "code",
   "execution_count": 3,
   "id": "b0de188b",
   "metadata": {},
   "outputs": [],
   "source": [
    "model = ChatOpenAI(model=\"gpt-4-0613\")\n",
    "model.temperature = 0.8"
   ]
  },
  {
   "cell_type": "code",
   "execution_count": null,
   "id": "414b84d2",
   "metadata": {},
   "outputs": [],
   "source": []
  },
  {
   "cell_type": "markdown",
   "id": "719dfa6a",
   "metadata": {},
   "source": [
    "### Multi-shot example"
   ]
  },
  {
   "cell_type": "code",
   "execution_count": 4,
   "id": "b6515cde",
   "metadata": {},
   "outputs": [],
   "source": [
    "example_1 = [ { \"from\": \"human\",  \"value\": \"You are web shopping.\\nI will give you instructions about what to do.\\nYou have to follow the instructions.\\nEvery round I will give you an observation and a list of available actions, you have to respond an action based on the state and instruction.\\nYou can use search action if search is available.\\nYou can click one of the buttons in clickables.\\nAn action should be of the following structure:\\nsearch[keywords]\\nclick[value]\\nIf the action is not valid, perform nothing.\\nKeywords in search are up to you, but the value in click must be a value in the list of available actions.\\nRemember that your keywords in search should be carefully designed.\\nYour response should use the following format:\\n\\nThought:\\nI think ... \\n\\nAction: \\nclick[something]\" }, { \"from\": \"gpt\",  \"value\": \"Ok.\" }, { \"from\": \"human\",  \"value\": \"WebShop [SEP] Instruction: [SEP] i am looking for a 3.25 ounce (pack of 3) of protein serving jerky, and price lower than 50.00 dollars [SEP] Search\" }, { \"from\": \"gpt\",  \"value\": \"Thought:\\nI think I should use the search bar to look for the product I need.\\n\\nAction:\\nsearch[3.25 ounce (pack of 3) protein serving jerky price < 50.00]\" }, { \"from\": \"human\",  \"value\": \"Instruction: [SEP] i am looking for a 3.25 ounce (pack of 3) of protein serving jerky, and price lower than 50.00 dollars [SEP] Back to Search [SEP] Page 1 (Total results: 50) [SEP] Next > [SEP] B002OFZLOE [SEP] Jack Link's Beef Jerky, Peppered, 3.25-Ounce Bags (Pack of 4) [SEP] $100.0 [SEP] B00P7NYM7M [SEP] Oberto Specialty Meats Teriyaki Beef Jerky, 3.25 Ounce (Pack of 8) [SEP] $59.99 [SEP] B07L3LXDP4 [SEP] Oberto All Natural Teriyaki Beef Jerky, 3.25-Ounce Bag (Pack of 8) [SEP] $100.0 [SEP] B0977H69D1 [SEP] Bridgford Sweet Baby Ray's Original Beef Jerky 3.25oz, 3.25 OZ [SEP] $24.99 [SEP] B005FQAQJO [SEP] Oberto All-Natural Original Beef Jerky, 3.25 Ounce (Pack of 4) [SEP] $36.98 [SEP] B005FQAJWS [SEP] Oberto All-Natural Teriyaki Turkey Jerky, 3.25 Ounce (Pack of 4) [SEP] $33.0 [SEP] B07R3KJ2CY [SEP] Trail’s Best Original Hickory Smoked Beef Jerky 3 Ounce Pack (3 count) [SEP] $13.98 [SEP] B072YXYML2 [SEP] Jack Link Beef Jerky Sweet & Hot - 3.25 Ounce Bag, 1 Count (JERKYS) [SEP] $15.28 [SEP] B000LKU3A6 [SEP] Primal Spirit Vegan Jerky – “Classic Flavor” – Teriyaki, 10 g. Plant Based Protein, Certified Non-GMO, No Preservatives, Sports Friendly Packaging (24 Pack, 1 oz) [SEP] $33.99 [SEP] B000LKU3K6 [SEP] Primal Spirit Vegan Jerky – “Classic Flavor” – Hickory Smoked, 10 g. Plant Based Protein, Certified Non-GMO, No Preservatives, Sports Friendly Packaging (24 Pack, 1 oz) [SEP] $33.99\" }, { \"from\": \"gpt\",  \"value\": \"Thought:\\nI think I should click on the 'B0977H69D1' option, as it meets my criteria of a 3.25 ounce (pack of 3) protein serving jerky with a price lower than $50.00.\\n\\nAction:\\nclick[B0977H69D1]\" }, { \"from\": \"human\",  \"value\": \"Instruction: [SEP] i am looking for a 3.25 ounce (pack of 3) of protein serving jerky, and price lower than 50.00 dollars [SEP] Back to Search [SEP] < Prev [SEP] flavor name [SEP] honey bbq [SEP] original [SEP] peppered [SEP] sweet n spicy [SEP] sweet teriyaki [SEP] variety pack [SEP] size [SEP] 3.25 ounce (pack of 2) [SEP] 3.25 ounce (pack of 3) [SEP] 3.25 ounce (pack of 4) [SEP] 3.25 ounce (pack of 5) [SEP] Bridgford Sweet Baby Ray's Original Beef Jerky 3.25oz, 3.25 OZ [SEP] Price: $24.99 [SEP] Rating: N.A. [SEP] Description [SEP] Features [SEP] Reviews [SEP] Buy Now\" }, { \"from\": \"gpt\",  \"value\": \"Thought:\\nI think I should click on the '3.25 ounce (pack of 3)' option to select the size I need for the jerky.\\n\\nAction:\\nclick[3.25 ounce (pack of 3)]\" }, { \"from\": \"human\",  \"value\": \"Instruction: [SEP] i am looking for a 3.25 ounce (pack of 3) of protein serving jerky, and price lower than 50.00 dollars [SEP] Back to Search [SEP] < Prev [SEP] flavor name [SEP] honey bbq [SEP] original [SEP] peppered [SEP] sweet n spicy [SEP] sweet teriyaki [SEP] variety pack [SEP] size [SEP] 3.25 ounce (pack of 2) [SEP] 3.25 ounce (pack of 3) [SEP] 3.25 ounce (pack of 4) [SEP] 3.25 ounce (pack of 5) [SEP] Bridgford Sweet Baby Ray's Original Beef Jerky 3.25oz, 3.25 OZ [SEP] Price: $24.99 [SEP] Rating: N.A. [SEP] Description [SEP] Features [SEP] Reviews [SEP] Buy Now\" }, { \"from\": \"gpt\",  \"value\": \"Thought:\\nI think I should click on the 'Buy Now' button to purchase the Bridgford Sweet Baby Ray's Original Beef Jerky.\\n\\nAction:\\nclick[Buy Now]\" } ]"
   ]
  },
  {
   "cell_type": "code",
   "execution_count": 5,
   "id": "94c9deec",
   "metadata": {},
   "outputs": [],
   "source": [
    "one_shot_messages = []\n",
    "for dialog in example_1:\n",
    "    if dialog['from'] == 'human':\n",
    "        msg = HumanMessage(content=dialog['value'])\n",
    "    elif dialog['from'] == 'gpt':\n",
    "        msg = AIMessage(content=dialog['value'])\n",
    "    one_shot_messages.append(msg)\n",
    "    "
   ]
  },
  {
   "cell_type": "code",
   "execution_count": 30,
   "id": "53d62b33",
   "metadata": {},
   "outputs": [
    {
     "data": {
      "text/plain": [
       "{'from': 'human',\n",
       " 'value': 'WebShop [SEP] Instruction: [SEP] i am looking for a 3.25 ounce (pack of 3) of protein serving jerky, and price lower than 50.00 dollars [SEP] Search'}"
      ]
     },
     "execution_count": 30,
     "metadata": {},
     "output_type": "execute_result"
    }
   ],
   "source": [
    "example_1[2]"
   ]
  },
  {
   "cell_type": "markdown",
   "id": "1c522c8b",
   "metadata": {},
   "source": [
    "### WebShop Environment"
   ]
  },
  {
   "cell_type": "code",
   "execution_count": 32,
   "id": "70d68513",
   "metadata": {},
   "outputs": [],
   "source": [
    "environment_prompt_template = '''\n",
    "You will act as the interface for an online shopping platform. An agent is participating in a simulated web shopping experience, and your role is to present the environment and react to the agent's actions. When the agent issues an action, such as a search query or a selection from available clickables, you must generate a response that realistically reflects what they would encounter on an e-commerce website.\n",
    "\n",
    "For search actions, the agent will provide specific keywords and possibly additional parameters like price limits. Your response should be a list of relevant products with identifiers, descriptions, and prices, formatted in a straightforward, readable manner without using any special markup or separators other than simple punctuation. Include at least five product options in your response to offer a variety.\n",
    "\n",
    "For click actions, the agent will choose an option from the list of clickables you've provided. These clickables could be product identifiers, page navigation options like \"Next\" or \"Back to Search,\" or other interactive elements you've introduced in the simulation. Respond with the outcome of their action, which could be the opening of a product page, navigating to another list of products, or other plausible results of clicking a button on a web page.\n",
    "\n",
    "Remember to maintain a coherent state within the simulation. If the agent performs a search, the following clickable actions should correspond to the products from the search results. If the agent has accomplished their task, YOU MUST call the success function: \"success('[why task was successful]')\".\n",
    "'''\n",
    "\n",
    "first_page = '''\n",
    "Please start by providing the agent their task and the search page (after this will be only agent messages): \n",
    "{}\n",
    "'''\n",
    "\n",
    "ws_agent_prompt = 'You are web shopping.\\nI will give you instructions about what to do.\\nYou have to follow the instructions.\\nEvery round I will give you an observation and a list of available actions, you have to respond an action based on the state and instruction.\\nYou can use search action if search is available.\\nYou can click one of the buttons in clickables.\\nAn action should be of the following structure:\\nsearch[keywords]\\nclick[value]\\nIf the action is not valid, perform nothing.\\nKeywords in search are up to you, but the value in click must be a value in the list of available actions.\\nRemember that your keywords in search should be carefully designed.\\nYour response should use the following format:\\n\\nThought:\\nI think ... \\n\\nAction: \\nclick[something]'"
   ]
  },
  {
   "cell_type": "code",
   "execution_count": 40,
   "id": "42f6add9",
   "metadata": {},
   "outputs": [],
   "source": [
    "example_task = one_shot_messages[2].content"
   ]
  },
  {
   "cell_type": "code",
   "execution_count": 21,
   "id": "c42949b1",
   "metadata": {},
   "outputs": [],
   "source": [
    "one_shot_environment_messages = [\n",
    "    HumanMessage(content=environment_prompt_template),\n",
    "    AIMessage(content=\"OK. I'll follow your instructions and try my best to act as the interface for an online shopping platform.\"),\n",
    "    HumanMessage(content=first_page.format(example_task))\n",
    "]\n"
   ]
  },
  {
   "cell_type": "code",
   "execution_count": 22,
   "id": "ff809e50",
   "metadata": {},
   "outputs": [
    {
     "data": {
      "text/plain": [
       "[HumanMessage(content='\\nYou will act as the interface for an online shopping platform. An agent is participating in a simulated web shopping experience, and your role is to present the environment and react to the agent\\'s actions. When the agent issues an action, such as a search query or a selection from available clickables, you must generate a response that realistically reflects what they would encounter on an e-commerce website.\\n\\nFor search actions, the agent will provide specific keywords and possibly additional parameters like price limits. Your response should be a list of relevant products with identifiers, descriptions, and prices, formatted in a straightforward, readable manner without using any special markup or separators other than simple punctuation. Include at least five product options in your response to offer a variety.\\n\\nFor click actions, the agent will choose an option from the list of clickables you\\'ve provided. These clickables could be product identifiers, page navigation options like \"Next\" or \"Back to Search,\" or other interactive elements you\\'ve introduced in the simulation. Respond with the outcome of their action, which could be the opening of a product page, navigating to another list of products, or other plausible results of clicking a button on a web page.\\n\\nRemember to maintain a coherent state within the simulation. If the agent performs a search, the following clickable actions should correspond to the products from the search results. \\n', additional_kwargs={}, example=False),\n",
       " AIMessage(content=\"OK. I'll follow your instructions and try my best to act as the interface for an online shopping platform.\", additional_kwargs={}, example=False),\n",
       " HumanMessage(content=\"\\nPlease start by providing the agent their task and the search page (after this will be only agent messages): \\ncontent='WebShop [SEP] Instruction: [SEP] i am looking for a 3.25 ounce (pack of 3) of protein serving jerky, and price lower than 50.00 dollars [SEP] Search' additional_kwargs={} example=False\\n\", additional_kwargs={}, example=False)]"
      ]
     },
     "execution_count": 22,
     "metadata": {},
     "output_type": "execute_result"
    }
   ],
   "source": [
    "one_shot_environment_messages"
   ]
  },
  {
   "cell_type": "code",
   "execution_count": 26,
   "id": "ccbca21e",
   "metadata": {},
   "outputs": [],
   "source": [
    "for dialog in example_1[2:]:\n",
    "    if dialog['from'] == 'human':\n",
    "        msg = AIMessage(content=dialog['value'])\n",
    "    elif dialog['from'] == 'gpt':\n",
    "        msg = HumanMessage(content=dialog['value'])\n",
    "    one_shot_environment_messages.append(msg)\n",
    "    \n",
    "    \n",
    "one_shot_environment_messages.append(AIMessage(content=\"success('agent purchased Bridgford Sweet Baby Ray's Original Beef Jerky.')\"))  "
   ]
  },
  {
   "cell_type": "code",
   "execution_count": null,
   "id": "8127b40a",
   "metadata": {},
   "outputs": [],
   "source": []
  },
  {
   "cell_type": "code",
   "execution_count": 50,
   "id": "91b8a9b8",
   "metadata": {},
   "outputs": [],
   "source": [
    "agent_messages = [\n",
    "    HumanMessage(content=ws_agent_prompt),\n",
    "    AIMessage(content='Ok.')\n",
    "]\n",
    "\n",
    "\n"
   ]
  },
  {
   "cell_type": "code",
   "execution_count": 51,
   "id": "7228e808",
   "metadata": {},
   "outputs": [
    {
     "data": {
      "text/plain": [
       "[HumanMessage(content='You are web shopping.\\nI will give you instructions about what to do.\\nYou have to follow the instructions.\\nEvery round I will give you an observation and a list of available actions, you have to respond an action based on the state and instruction.\\nYou can use search action if search is available.\\nYou can click one of the buttons in clickables.\\nAn action should be of the following structure:\\nsearch[keywords]\\nclick[value]\\nIf the action is not valid, perform nothing.\\nKeywords in search are up to you, but the value in click must be a value in the list of available actions.\\nRemember that your keywords in search should be carefully designed.\\nYour response should use the following format:\\n\\nThought:\\nI think ... \\n\\nAction: \\nclick[something]', additional_kwargs={}, example=False),\n",
       " AIMessage(content='Ok.', additional_kwargs={}, example=False)]"
      ]
     },
     "execution_count": 51,
     "metadata": {},
     "output_type": "execute_result"
    }
   ],
   "source": [
    "agent_messages"
   ]
  },
  {
   "cell_type": "code",
   "execution_count": null,
   "id": "6c9aef32",
   "metadata": {},
   "outputs": [],
   "source": []
  },
  {
   "cell_type": "code",
   "execution_count": null,
   "id": "1bc4a7ac",
   "metadata": {},
   "outputs": [],
   "source": []
  },
  {
   "cell_type": "code",
   "execution_count": 52,
   "id": "abd270d6",
   "metadata": {},
   "outputs": [],
   "source": [
    "task = \"Please start by providing the agent their task and the search page (after this will be only agent messages): \\ncontent='WebShop [SEP] Instruction: [SEP] i am looking for a 3.25 ounce (pack of 3) of protein serving jerky, and price lower than 50.00 dollars [SEP] Search\"\n",
    "\n",
    "environment_messages = one_shot_environment_messages + [\n",
    "    HumanMessage(content=environment_prompt_template),\n",
    "    AIMessage(content=\"OK. I'll follow your instructions and try my best to act as the interface for an online shopping platform.\"),\n",
    "    HumanMessage(content=first_page.format(task))\n",
    "]"
   ]
  },
  {
   "cell_type": "code",
   "execution_count": 53,
   "id": "32b6ac52",
   "metadata": {},
   "outputs": [],
   "source": [
    "environment_result = model.predict_messages(environment_messages)"
   ]
  },
  {
   "cell_type": "code",
   "execution_count": 54,
   "id": "7c86eca4",
   "metadata": {},
   "outputs": [
    {
     "data": {
      "text/plain": [
       "'WebShop [SEP] Instruction: [SEP] i am looking for a 3.25 ounce (pack of 3) of protein serving jerky, and price lower than 50.00 dollars [SEP] Search'"
      ]
     },
     "execution_count": 54,
     "metadata": {},
     "output_type": "execute_result"
    }
   ],
   "source": [
    "environment_result.content"
   ]
  },
  {
   "cell_type": "code",
   "execution_count": 55,
   "id": "aa7ae3c2",
   "metadata": {},
   "outputs": [],
   "source": [
    "environment_messages.append(environment_result)\n",
    "agent_messages.append(HumanMessage(content=environment_result.content))"
   ]
  },
  {
   "cell_type": "code",
   "execution_count": 56,
   "id": "2cf6b1e2",
   "metadata": {},
   "outputs": [
    {
     "name": "stdout",
     "output_type": "stream",
     "text": [
      "Thought:\n",
      "I need to search for a 3.25 ounce, pack of 3 protein serving jerky that costs less than $50. \n",
      "\n",
      "Action: \n",
      "search[3.25 ounce pack of 3 protein serving jerky under $50]\n",
      "Here are some options for your search:\n",
      "\n",
      "1. Product ID: JKY123 - Jack Link's Original Protein Snack Jerky, 3.25 Ounce (Pack of 3) - $45.99\n",
      "2. Product ID: OBT890 - Oberto All-Natural Original Beef Jerky, 3.25 Ounce (Pack of 3) - $39.99\n",
      "3. Product ID: TBY654 - Tillamook Country Smoker All Natural, Real Hardwood Smoked Beef Jerky, 3.25 Ounce (Pack of 3) - $42.99\n",
      "4. Product ID: PRT567 - Primal Strips Meatless Vegan Jerky-Variety Gift Pack Sampler, 3.25 Ounce (Pack of 3) - $35.99\n",
      "5. Product ID: KRA345 - Krave Gourmet Jerky, 3.25 Ounce (Pack of 3) - $49.99\n",
      "\n",
      "You can click on a product ID for more information.\n",
      "Thought:\n",
      "Based on the options provided, all of them meet the criteria. However, the cheapest one is the Primal Strips Meatless Vegan Jerky. \n",
      "\n",
      "Action: \n",
      "click[PRT567]\n",
      "You've selected the Primal Strips Meatless Vegan Jerky-Variety Gift Pack Sampler, 3.25 Ounce (Pack of 3). Here are the product details:\n",
      "\n",
      "- Price: $35.99\n",
      "- Description: Primal Strips are delicious, healthy, meatless jerky made from vital wheat gluten, organic soy, or shiitake mushrooms.\n",
      "- Nutrition facts: Each strip is a good source of protein, and they're vegan, non-GMO, and free of preservatives, artificial flavors, and hydrogenated oils.\n",
      "- Ratings: 4.5 out of 5 stars\n",
      "\n",
      "You can now choose to \"Add to Cart\", \"Buy Now\" or go \"Back to Search\".\n",
      "Thought:\n",
      "The selected product meets the initial criteria, has good reviews and is the cheapest among the options. I will add it to the cart.\n",
      "\n",
      "Action: \n",
      "click[Add to Cart]\n",
      "The Primal Strips Meatless Vegan Jerky-Variety Gift Pack Sampler, 3.25 Ounce (Pack of 3) has been added to your cart. Your total is $35.99. You can choose to \"Checkout\", \"Continue Shopping\", or \"View Cart\".\n",
      "Thought:\n",
      "Since I have added the desired item to the cart, it is time to finalize the purchase.\n",
      "\n",
      "Action: \n",
      "click[Checkout]\n",
      "You've chosen to checkout. The total cost is $35.99. Please confirm your shipping details and payment method to complete your purchase. If everything is correct, you can click on \"Confirm Purchase\".\n",
      "Thought:\n",
      "All the details seem to be correct. Now, I should confirm the purchase.\n",
      "\n",
      "Action: \n",
      "click[Confirm Purchase]\n"
     ]
    }
   ],
   "source": [
    "num_turns = 10\n",
    "\n",
    "for i in range(num_turns):\n",
    "    agent_response = model.predict_messages(agent_messages)\n",
    "    print(agent_response.content)\n",
    "    agent_result = agent_response.content\n",
    "    environment_messages.append(HumanMessage(content=agent_result))\n",
    "    agent_messages.append(agent_response)\n",
    "    environment_result = model.predict_messages(environment_messages)\n",
    "    environment_messages.append(environment_result)\n",
    "    print(environment_result.content)\n",
    "    if \"success(\" in environment_result.content:\n",
    "        break\n",
    "    agent_messages.append(HumanMessage(content=environment_result.content))"
   ]
  },
  {
   "cell_type": "code",
   "execution_count": 49,
   "id": "fbc5ed02",
   "metadata": {},
   "outputs": [
    {
     "data": {
      "text/plain": [
       "[HumanMessage(content='You are web shopping.\\nI will give you instructions about what to do.\\nYou have to follow the instructions.\\nEvery round I will give you an observation and a list of available actions, you have to respond an action based on the state and instruction.\\nYou can use search action if search is available.\\nYou can click one of the buttons in clickables.\\nAn action should be of the following structure:\\nsearch[keywords]\\nclick[value]\\nIf the action is not valid, perform nothing.\\nKeywords in search are up to you, but the value in click must be a value in the list of available actions.\\nRemember that your keywords in search should be carefully designed.\\nYour response should use the following format:\\n\\nThought:\\nI think ... \\n\\nAction: \\nclick[something]', additional_kwargs={}, example=False),\n",
       " AIMessage(content='Ok.', additional_kwargs={}, example=False),\n",
       " HumanMessage(content='WebShop [SEP] Instruction: [SEP] i am looking for a 3.25 ounce (pack of 3) of protein serving jerky, and price lower than 50.00 dollars [SEP] Search', additional_kwargs={}, example=False),\n",
       " HumanMessage(content='WebShop [SEP] Instruction: [SEP] You are looking for a 3.25 ounce (pack of 3) of protein serving jerky, and the price should be lower than 50.00 dollars [SEP] Search', additional_kwargs={}, example=False),\n",
       " AIMessage(content='Thought:\\nI think I need to use specific keywords to find the product that matches the given description. \\n\\nAction: \\nsearch[3.25 ounce pack of 3 protein serving jerky under 50 dollars]', additional_kwargs={}, example=False),\n",
       " HumanMessage(content=\"Here are the results for your search for a 3.25 ounce (pack of 3) of protein serving jerky under $50:\\n\\n1. Product ID: JER001 - Jack Link's Protein Snacks Beef Jerky, 3.25 oz (pack of 3) - $47.99\\n2. Product ID: JER002 - Old Trapper Smoked Products Jerky, 3.25 oz (pack of 3) - $41.49\\n3. Product ID: JER003 - Tillamook Country Smoker All Natural Jerky, 3.25 oz (pack of 3) - $44.99\\n4. Product ID: JER004 - Perky Jerky Variety Pack, 2.2 - 2.85oz bags (pack of 3) - $48.99\\n5. Product ID: JER005 - Chef's Cut Real Jerky, 2.5 oz (pack of 3) - $35.99\\n\\nYou can click on any of the product IDs for more details.\", additional_kwargs={}, example=False),\n",
       " AIMessage(content='Thought:\\nI think I should click on the product IDs to get more details about the products.\\n\\nAction: \\nclick[JER001]', additional_kwargs={}, example=False),\n",
       " HumanMessage(content=\"You have selected the product with ID: JER001\\n\\nProduct Details:\\n- Product ID: JER001 \\n- Product Name: Jack Link's Protein Snacks Beef Jerky\\n- Size: 3.25 oz (pack of 3)\\n- Price: $47.99\\n- Description: Jack Link’s Beef Jerky is made from lean cuts of 100% premium beef, then seasoned with simple ingredients like water and salt. Combined with our signature blend of spices, it’s a high-protein and low-fat snack that’s perfect for a quick energy boost.\\n- Available: In stock\\n\\nOptions: [Add to Cart] [Back to Results]\", additional_kwargs={}, example=False),\n",
       " AIMessage(content='Thought:\\nI think this product matches the given description. The price is also under 50.00 dollars. So, I should add this to the cart.\\n\\nAction: \\nclick[Add to Cart]', additional_kwargs={}, example=False),\n",
       " HumanMessage(content=\"Success! The Jack Link's Protein Snacks Beef Jerky, 3.25 oz (pack of 3) has been added to your cart. You can continue shopping or proceed to checkout. \\n\\nOptions: [Continue Shopping] [Go to Checkout]\", additional_kwargs={}, example=False),\n",
       " AIMessage(content=\"Thought:\\nI think I have completed the task given to me. Now, it's time to go to the checkout.\\n\\nAction: \\nclick[Go to Checkout]\", additional_kwargs={}, example=False),\n",
       " HumanMessage(content='Success: You are now heading to the checkout page to finalize your purchase of the 3.25 ounce (pack of 3) of protein serving jerky. The total price is under $50.00, as required.', additional_kwargs={}, example=False),\n",
       " AIMessage(content='Thought:\\nI think I have successfully followed the instructions and am now ready to finalize the purchase.\\n\\nAction: \\nPerform nothing.', additional_kwargs={}, example=False)]"
      ]
     },
     "execution_count": 49,
     "metadata": {},
     "output_type": "execute_result"
    }
   ],
   "source": [
    "agent_messages"
   ]
  },
  {
   "cell_type": "code",
   "execution_count": 57,
   "id": "80d62c2c",
   "metadata": {},
   "outputs": [
    {
     "data": {
      "text/plain": [
       "[HumanMessage(content='\\nYou will act as the interface for an online shopping platform. An agent is participating in a simulated web shopping experience, and your role is to present the environment and react to the agent\\'s actions. When the agent issues an action, such as a search query or a selection from available clickables, you must generate a response that realistically reflects what they would encounter on an e-commerce website.\\n\\nFor search actions, the agent will provide specific keywords and possibly additional parameters like price limits. Your response should be a list of relevant products with identifiers, descriptions, and prices, formatted in a straightforward, readable manner without using any special markup or separators other than simple punctuation. Include at least five product options in your response to offer a variety.\\n\\nFor click actions, the agent will choose an option from the list of clickables you\\'ve provided. These clickables could be product identifiers, page navigation options like \"Next\" or \"Back to Search,\" or other interactive elements you\\'ve introduced in the simulation. Respond with the outcome of their action, which could be the opening of a product page, navigating to another list of products, or other plausible results of clicking a button on a web page.\\n\\nRemember to maintain a coherent state within the simulation. If the agent performs a search, the following clickable actions should correspond to the products from the search results. \\n', additional_kwargs={}, example=False),\n",
       " AIMessage(content=\"OK. I'll follow your instructions and try my best to act as the interface for an online shopping platform.\", additional_kwargs={}, example=False),\n",
       " HumanMessage(content=\"\\nPlease start by providing the agent their task and the search page (after this will be only agent messages): \\ncontent='WebShop [SEP] Instruction: [SEP] i am looking for a 3.25 ounce (pack of 3) of protein serving jerky, and price lower than 50.00 dollars [SEP] Search' additional_kwargs={} example=False\\n\", additional_kwargs={}, example=False),\n",
       " AIMessage(content='WebShop [SEP] Instruction: [SEP] i am looking for a 3.25 ounce (pack of 3) of protein serving jerky, and price lower than 50.00 dollars [SEP] Search', additional_kwargs={}, example=False),\n",
       " HumanMessage(content='Thought:\\nI think I should use the search bar to look for the product I need.\\n\\nAction:\\nsearch[3.25 ounce (pack of 3) protein serving jerky price < 50.00]', additional_kwargs={}, example=False),\n",
       " AIMessage(content=\"Instruction: [SEP] i am looking for a 3.25 ounce (pack of 3) of protein serving jerky, and price lower than 50.00 dollars [SEP] Back to Search [SEP] Page 1 (Total results: 50) [SEP] Next > [SEP] B002OFZLOE [SEP] Jack Link's Beef Jerky, Peppered, 3.25-Ounce Bags (Pack of 4) [SEP] $100.0 [SEP] B00P7NYM7M [SEP] Oberto Specialty Meats Teriyaki Beef Jerky, 3.25 Ounce (Pack of 8) [SEP] $59.99 [SEP] B07L3LXDP4 [SEP] Oberto All Natural Teriyaki Beef Jerky, 3.25-Ounce Bag (Pack of 8) [SEP] $100.0 [SEP] B0977H69D1 [SEP] Bridgford Sweet Baby Ray's Original Beef Jerky 3.25oz, 3.25 OZ [SEP] $24.99 [SEP] B005FQAQJO [SEP] Oberto All-Natural Original Beef Jerky, 3.25 Ounce (Pack of 4) [SEP] $36.98 [SEP] B005FQAJWS [SEP] Oberto All-Natural Teriyaki Turkey Jerky, 3.25 Ounce (Pack of 4) [SEP] $33.0 [SEP] B07R3KJ2CY [SEP] Trail’s Best Original Hickory Smoked Beef Jerky 3 Ounce Pack (3 count) [SEP] $13.98 [SEP] B072YXYML2 [SEP] Jack Link Beef Jerky Sweet & Hot - 3.25 Ounce Bag, 1 Count (JERKYS) [SEP] $15.28 [SEP] B000LKU3A6 [SEP] Primal Spirit Vegan Jerky – “Classic Flavor” – Teriyaki, 10 g. Plant Based Protein, Certified Non-GMO, No Preservatives, Sports Friendly Packaging (24 Pack, 1 oz) [SEP] $33.99 [SEP] B000LKU3K6 [SEP] Primal Spirit Vegan Jerky – “Classic Flavor” – Hickory Smoked, 10 g. Plant Based Protein, Certified Non-GMO, No Preservatives, Sports Friendly Packaging (24 Pack, 1 oz) [SEP] $33.99\", additional_kwargs={}, example=False),\n",
       " HumanMessage(content=\"Thought:\\nI think I should click on the 'B0977H69D1' option, as it meets my criteria of a 3.25 ounce (pack of 3) protein serving jerky with a price lower than $50.00.\\n\\nAction:\\nclick[B0977H69D1]\", additional_kwargs={}, example=False),\n",
       " AIMessage(content=\"Instruction: [SEP] i am looking for a 3.25 ounce (pack of 3) of protein serving jerky, and price lower than 50.00 dollars [SEP] Back to Search [SEP] < Prev [SEP] flavor name [SEP] honey bbq [SEP] original [SEP] peppered [SEP] sweet n spicy [SEP] sweet teriyaki [SEP] variety pack [SEP] size [SEP] 3.25 ounce (pack of 2) [SEP] 3.25 ounce (pack of 3) [SEP] 3.25 ounce (pack of 4) [SEP] 3.25 ounce (pack of 5) [SEP] Bridgford Sweet Baby Ray's Original Beef Jerky 3.25oz, 3.25 OZ [SEP] Price: $24.99 [SEP] Rating: N.A. [SEP] Description [SEP] Features [SEP] Reviews [SEP] Buy Now\", additional_kwargs={}, example=False),\n",
       " HumanMessage(content=\"Thought:\\nI think I should click on the '3.25 ounce (pack of 3)' option to select the size I need for the jerky.\\n\\nAction:\\nclick[3.25 ounce (pack of 3)]\", additional_kwargs={}, example=False),\n",
       " AIMessage(content=\"Instruction: [SEP] i am looking for a 3.25 ounce (pack of 3) of protein serving jerky, and price lower than 50.00 dollars [SEP] Back to Search [SEP] < Prev [SEP] flavor name [SEP] honey bbq [SEP] original [SEP] peppered [SEP] sweet n spicy [SEP] sweet teriyaki [SEP] variety pack [SEP] size [SEP] 3.25 ounce (pack of 2) [SEP] 3.25 ounce (pack of 3) [SEP] 3.25 ounce (pack of 4) [SEP] 3.25 ounce (pack of 5) [SEP] Bridgford Sweet Baby Ray's Original Beef Jerky 3.25oz, 3.25 OZ [SEP] Price: $24.99 [SEP] Rating: N.A. [SEP] Description [SEP] Features [SEP] Reviews [SEP] Buy Now\", additional_kwargs={}, example=False),\n",
       " HumanMessage(content=\"Thought:\\nI think I should click on the 'Buy Now' button to purchase the Bridgford Sweet Baby Ray's Original Beef Jerky.\\n\\nAction:\\nclick[Buy Now]\", additional_kwargs={}, example=False),\n",
       " AIMessage(content='WebShop [SEP] Instruction: [SEP] i am looking for a 3.25 ounce (pack of 3) of protein serving jerky, and price lower than 50.00 dollars [SEP] Search', additional_kwargs={}, example=False),\n",
       " HumanMessage(content='Thought:\\nI think I should use the search bar to look for the product I need.\\n\\nAction:\\nsearch[3.25 ounce (pack of 3) protein serving jerky price < 50.00]', additional_kwargs={}, example=False),\n",
       " AIMessage(content=\"Instruction: [SEP] i am looking for a 3.25 ounce (pack of 3) of protein serving jerky, and price lower than 50.00 dollars [SEP] Back to Search [SEP] Page 1 (Total results: 50) [SEP] Next > [SEP] B002OFZLOE [SEP] Jack Link's Beef Jerky, Peppered, 3.25-Ounce Bags (Pack of 4) [SEP] $100.0 [SEP] B00P7NYM7M [SEP] Oberto Specialty Meats Teriyaki Beef Jerky, 3.25 Ounce (Pack of 8) [SEP] $59.99 [SEP] B07L3LXDP4 [SEP] Oberto All Natural Teriyaki Beef Jerky, 3.25-Ounce Bag (Pack of 8) [SEP] $100.0 [SEP] B0977H69D1 [SEP] Bridgford Sweet Baby Ray's Original Beef Jerky 3.25oz, 3.25 OZ [SEP] $24.99 [SEP] B005FQAQJO [SEP] Oberto All-Natural Original Beef Jerky, 3.25 Ounce (Pack of 4) [SEP] $36.98 [SEP] B005FQAJWS [SEP] Oberto All-Natural Teriyaki Turkey Jerky, 3.25 Ounce (Pack of 4) [SEP] $33.0 [SEP] B07R3KJ2CY [SEP] Trail’s Best Original Hickory Smoked Beef Jerky 3 Ounce Pack (3 count) [SEP] $13.98 [SEP] B072YXYML2 [SEP] Jack Link Beef Jerky Sweet & Hot - 3.25 Ounce Bag, 1 Count (JERKYS) [SEP] $15.28 [SEP] B000LKU3A6 [SEP] Primal Spirit Vegan Jerky – “Classic Flavor” – Teriyaki, 10 g. Plant Based Protein, Certified Non-GMO, No Preservatives, Sports Friendly Packaging (24 Pack, 1 oz) [SEP] $33.99 [SEP] B000LKU3K6 [SEP] Primal Spirit Vegan Jerky – “Classic Flavor” – Hickory Smoked, 10 g. Plant Based Protein, Certified Non-GMO, No Preservatives, Sports Friendly Packaging (24 Pack, 1 oz) [SEP] $33.99\", additional_kwargs={}, example=False),\n",
       " HumanMessage(content=\"Thought:\\nI think I should click on the 'B0977H69D1' option, as it meets my criteria of a 3.25 ounce (pack of 3) protein serving jerky with a price lower than $50.00.\\n\\nAction:\\nclick[B0977H69D1]\", additional_kwargs={}, example=False),\n",
       " AIMessage(content=\"Instruction: [SEP] i am looking for a 3.25 ounce (pack of 3) of protein serving jerky, and price lower than 50.00 dollars [SEP] Back to Search [SEP] < Prev [SEP] flavor name [SEP] honey bbq [SEP] original [SEP] peppered [SEP] sweet n spicy [SEP] sweet teriyaki [SEP] variety pack [SEP] size [SEP] 3.25 ounce (pack of 2) [SEP] 3.25 ounce (pack of 3) [SEP] 3.25 ounce (pack of 4) [SEP] 3.25 ounce (pack of 5) [SEP] Bridgford Sweet Baby Ray's Original Beef Jerky 3.25oz, 3.25 OZ [SEP] Price: $24.99 [SEP] Rating: N.A. [SEP] Description [SEP] Features [SEP] Reviews [SEP] Buy Now\", additional_kwargs={}, example=False),\n",
       " HumanMessage(content=\"Thought:\\nI think I should click on the '3.25 ounce (pack of 3)' option to select the size I need for the jerky.\\n\\nAction:\\nclick[3.25 ounce (pack of 3)]\", additional_kwargs={}, example=False),\n",
       " AIMessage(content=\"Instruction: [SEP] i am looking for a 3.25 ounce (pack of 3) of protein serving jerky, and price lower than 50.00 dollars [SEP] Back to Search [SEP] < Prev [SEP] flavor name [SEP] honey bbq [SEP] original [SEP] peppered [SEP] sweet n spicy [SEP] sweet teriyaki [SEP] variety pack [SEP] size [SEP] 3.25 ounce (pack of 2) [SEP] 3.25 ounce (pack of 3) [SEP] 3.25 ounce (pack of 4) [SEP] 3.25 ounce (pack of 5) [SEP] Bridgford Sweet Baby Ray's Original Beef Jerky 3.25oz, 3.25 OZ [SEP] Price: $24.99 [SEP] Rating: N.A. [SEP] Description [SEP] Features [SEP] Reviews [SEP] Buy Now\", additional_kwargs={}, example=False),\n",
       " HumanMessage(content=\"Thought:\\nI think I should click on the 'Buy Now' button to purchase the Bridgford Sweet Baby Ray's Original Beef Jerky.\\n\\nAction:\\nclick[Buy Now]\", additional_kwargs={}, example=False),\n",
       " AIMessage(content=\"success('agent purchased Bridgford Sweet Baby Ray's Original Beef Jerky.')\", additional_kwargs={}, example=False),\n",
       " HumanMessage(content='\\nYou will act as the interface for an online shopping platform. An agent is participating in a simulated web shopping experience, and your role is to present the environment and react to the agent\\'s actions. When the agent issues an action, such as a search query or a selection from available clickables, you must generate a response that realistically reflects what they would encounter on an e-commerce website.\\n\\nFor search actions, the agent will provide specific keywords and possibly additional parameters like price limits. Your response should be a list of relevant products with identifiers, descriptions, and prices, formatted in a straightforward, readable manner without using any special markup or separators other than simple punctuation. Include at least five product options in your response to offer a variety.\\n\\nFor click actions, the agent will choose an option from the list of clickables you\\'ve provided. These clickables could be product identifiers, page navigation options like \"Next\" or \"Back to Search,\" or other interactive elements you\\'ve introduced in the simulation. Respond with the outcome of their action, which could be the opening of a product page, navigating to another list of products, or other plausible results of clicking a button on a web page.\\n\\nRemember to maintain a coherent state within the simulation. If the agent performs a search, the following clickable actions should correspond to the products from the search results. If the agent has accomplished their task, YOU MUST call the success function: \"success(\\'[why task was successful]\\')\".\\n', additional_kwargs={}, example=False),\n",
       " AIMessage(content=\"OK. I'll follow your instructions and try my best to act as the interface for an online shopping platform.\", additional_kwargs={}, example=False),\n",
       " HumanMessage(content=\"\\nPlease start by providing the agent their task and the search page (after this will be only agent messages): \\nPlease start by providing the agent their task and the search page (after this will be only agent messages): \\ncontent='WebShop [SEP] Instruction: [SEP] i am looking for a 3.25 ounce (pack of 3) of protein serving jerky, and price lower than 50.00 dollars [SEP] Search\\n\", additional_kwargs={}, example=False),\n",
       " AIMessage(content='WebShop [SEP] Instruction: [SEP] i am looking for a 3.25 ounce (pack of 3) of protein serving jerky, and price lower than 50.00 dollars [SEP] Search', additional_kwargs={}, example=False),\n",
       " HumanMessage(content='Thought:\\nI need to search for a 3.25 ounce, pack of 3 protein serving jerky that costs less than $50. \\n\\nAction: \\nsearch[3.25 ounce pack of 3 protein serving jerky under $50]', additional_kwargs={}, example=False),\n",
       " AIMessage(content=\"Here are some options for your search:\\n\\n1. Product ID: JKY123 - Jack Link's Original Protein Snack Jerky, 3.25 Ounce (Pack of 3) - $45.99\\n2. Product ID: OBT890 - Oberto All-Natural Original Beef Jerky, 3.25 Ounce (Pack of 3) - $39.99\\n3. Product ID: TBY654 - Tillamook Country Smoker All Natural, Real Hardwood Smoked Beef Jerky, 3.25 Ounce (Pack of 3) - $42.99\\n4. Product ID: PRT567 - Primal Strips Meatless Vegan Jerky-Variety Gift Pack Sampler, 3.25 Ounce (Pack of 3) - $35.99\\n5. Product ID: KRA345 - Krave Gourmet Jerky, 3.25 Ounce (Pack of 3) - $49.99\\n\\nYou can click on a product ID for more information.\", additional_kwargs={}, example=False),\n",
       " HumanMessage(content='Thought:\\nBased on the options provided, all of them meet the criteria. However, the cheapest one is the Primal Strips Meatless Vegan Jerky. \\n\\nAction: \\nclick[PRT567]', additional_kwargs={}, example=False),\n",
       " AIMessage(content='You\\'ve selected the Primal Strips Meatless Vegan Jerky-Variety Gift Pack Sampler, 3.25 Ounce (Pack of 3). Here are the product details:\\n\\n- Price: $35.99\\n- Description: Primal Strips are delicious, healthy, meatless jerky made from vital wheat gluten, organic soy, or shiitake mushrooms.\\n- Nutrition facts: Each strip is a good source of protein, and they\\'re vegan, non-GMO, and free of preservatives, artificial flavors, and hydrogenated oils.\\n- Ratings: 4.5 out of 5 stars\\n\\nYou can now choose to \"Add to Cart\", \"Buy Now\" or go \"Back to Search\".', additional_kwargs={}, example=False),\n",
       " HumanMessage(content='Thought:\\nThe selected product meets the initial criteria, has good reviews and is the cheapest among the options. I will add it to the cart.\\n\\nAction: \\nclick[Add to Cart]', additional_kwargs={}, example=False),\n",
       " AIMessage(content='The Primal Strips Meatless Vegan Jerky-Variety Gift Pack Sampler, 3.25 Ounce (Pack of 3) has been added to your cart. Your total is $35.99. You can choose to \"Checkout\", \"Continue Shopping\", or \"View Cart\".', additional_kwargs={}, example=False),\n",
       " HumanMessage(content='Thought:\\nSince I have added the desired item to the cart, it is time to finalize the purchase.\\n\\nAction: \\nclick[Checkout]', additional_kwargs={}, example=False),\n",
       " AIMessage(content='You\\'ve chosen to checkout. The total cost is $35.99. Please confirm your shipping details and payment method to complete your purchase. If everything is correct, you can click on \"Confirm Purchase\".', additional_kwargs={}, example=False),\n",
       " HumanMessage(content='Thought:\\nAll the details seem to be correct. Now, I should confirm the purchase.\\n\\nAction: \\nclick[Confirm Purchase]', additional_kwargs={}, example=False)]"
      ]
     },
     "execution_count": 57,
     "metadata": {},
     "output_type": "execute_result"
    }
   ],
   "source": [
    "environment_messages"
   ]
  },
  {
   "cell_type": "markdown",
   "id": "65e55068",
   "metadata": {},
   "source": [
    "### Get Tasks from AgentInstruct Data"
   ]
  },
  {
   "cell_type": "code",
   "execution_count": 58,
   "id": "9e446b5a",
   "metadata": {},
   "outputs": [
    {
     "name": "stdout",
     "output_type": "stream",
     "text": [
      "                                         conversations           id\n",
      "0    [{'from': 'human', 'loss': None, 'value': 'You...    webshop_0\n",
      "1    [{'from': 'human', 'loss': None, 'value': 'You...    webshop_1\n",
      "2    [{'from': 'human', 'loss': None, 'value': 'You...    webshop_2\n",
      "3    [{'from': 'human', 'loss': None, 'value': 'You...    webshop_3\n",
      "4    [{'from': 'human', 'loss': None, 'value': 'You...    webshop_4\n",
      "..                                                 ...          ...\n",
      "346  [{'from': 'human', 'loss': None, 'value': 'You...  webshop_346\n",
      "347  [{'from': 'human', 'loss': None, 'value': 'You...  webshop_347\n",
      "348  [{'from': 'human', 'loss': None, 'value': 'You...  webshop_348\n",
      "349  [{'from': 'human', 'loss': None, 'value': 'You...  webshop_349\n",
      "350  [{'from': 'human', 'loss': None, 'value': 'You...  webshop_350\n",
      "\n",
      "[351 rows x 2 columns]\n"
     ]
    }
   ],
   "source": [
    "import pandas as pd\n",
    "df = pd.read_parquet('~/spikes/notebook_spikes/agentinstruct/webshop-00000-of-00001-9f2ae60445e11b4e.parquet')\n",
    "print(df)"
   ]
  },
  {
   "cell_type": "code",
   "execution_count": 59,
   "id": "9afe80a0",
   "metadata": {},
   "outputs": [
    {
     "name": "stdout",
     "output_type": "stream",
     "text": [
      "WebShop [SEP] Instruction: [SEP] coney island classics butter me up popcorn, brings back memories of my childhood. in addition to having dietary fiber and gluten free. please select for me, and price lower than 30.00 dollars [SEP] Search\n"
     ]
    }
   ],
   "source": [
    "print(df.iloc[2][\"conversations\"][2]['value'])"
   ]
  },
  {
   "cell_type": "code",
   "execution_count": 60,
   "id": "03b7db0d",
   "metadata": {},
   "outputs": [],
   "source": [
    "def process(data):\n",
    "    return data['conversations'][2]['value']"
   ]
  },
  {
   "cell_type": "code",
   "execution_count": 61,
   "id": "6ce629d8",
   "metadata": {},
   "outputs": [],
   "source": [
    "task_and_environment = df.apply(process, axis=1).tolist()"
   ]
  },
  {
   "cell_type": "code",
   "execution_count": 62,
   "id": "9519a4b0",
   "metadata": {},
   "outputs": [
    {
     "data": {
      "text/plain": [
       "351"
      ]
     },
     "execution_count": 62,
     "metadata": {},
     "output_type": "execute_result"
    }
   ],
   "source": [
    "len(task_and_environment)"
   ]
  },
  {
   "cell_type": "code",
   "execution_count": 63,
   "id": "3d8de1b4",
   "metadata": {},
   "outputs": [
    {
     "data": {
      "text/plain": [
       "'WebShop [SEP] Instruction: [SEP] i am looking for a game joystick that has a usb port and must be the color black, and price lower than 50.00 dollars [SEP] Search'"
      ]
     },
     "execution_count": 63,
     "metadata": {},
     "output_type": "execute_result"
    }
   ],
   "source": [
    "task_and_environment[200]"
   ]
  },
  {
   "cell_type": "markdown",
   "id": "49017fc8",
   "metadata": {},
   "source": [
    "### Create Training Data Conversations"
   ]
  },
  {
   "cell_type": "code",
   "execution_count": 98,
   "id": "c2e0d0bd",
   "metadata": {},
   "outputs": [
    {
     "ename": "IndexError",
     "evalue": "list index out of range",
     "output_type": "error",
     "traceback": [
      "\u001b[0;31m---------------------------------------------------------------------------\u001b[0m",
      "\u001b[0;31mIndexError\u001b[0m                                Traceback (most recent call last)",
      "Cell \u001b[0;32mIn[98], line 8\u001b[0m\n\u001b[1;32m      5\u001b[0m start \u001b[38;5;241m=\u001b[39m \u001b[38;5;241m351\u001b[39m\n\u001b[1;32m      7\u001b[0m \u001b[38;5;28;01mfor\u001b[39;00m x \u001b[38;5;129;01min\u001b[39;00m \u001b[38;5;28mrange\u001b[39m(start,start\u001b[38;5;241m+\u001b[39m\u001b[38;5;28mlen\u001b[39m(task_and_environment)): \n\u001b[0;32m----> 8\u001b[0m     task \u001b[38;5;241m=\u001b[39m task_and_environment[x]\n\u001b[1;32m      9\u001b[0m     \u001b[38;5;28mprint\u001b[39m(\u001b[38;5;124m\"\u001b[39m\u001b[38;5;124mTask \u001b[39m\u001b[38;5;132;01m{}\u001b[39;00m\u001b[38;5;124m:\u001b[39m\u001b[38;5;124m\"\u001b[39m\u001b[38;5;241m.\u001b[39mformat(x), task)\n\u001b[1;32m     10\u001b[0m     agent_messages \u001b[38;5;241m=\u001b[39m [\n\u001b[1;32m     11\u001b[0m         HumanMessage(content\u001b[38;5;241m=\u001b[39mws_agent_prompt),\n\u001b[1;32m     12\u001b[0m         AIMessage(content\u001b[38;5;241m=\u001b[39m\u001b[38;5;124m'\u001b[39m\u001b[38;5;124mOk.\u001b[39m\u001b[38;5;124m'\u001b[39m)\n\u001b[1;32m     13\u001b[0m     ]\n",
      "\u001b[0;31mIndexError\u001b[0m: list index out of range"
     ]
    }
   ],
   "source": [
    "num_turns = 20\n",
    "\n",
    "#all_agents = []\n",
    "#all_environments = []\n",
    "start = 351\n",
    "\n",
    "for x in range(start,start+len(task_and_environment)): \n",
    "    task = task_and_environment[x]\n",
    "    print(\"Task {}:\".format(x), task)\n",
    "    agent_messages = [\n",
    "        HumanMessage(content=ws_agent_prompt),\n",
    "        AIMessage(content='Ok.')\n",
    "    ]\n",
    "    environment_messages = one_shot_environment_messages + [\n",
    "        HumanMessage(content=environment_prompt_template),\n",
    "        AIMessage(content=\"OK. I'll follow your instructions and try my best to act as the interface for an online shopping platform.\"),\n",
    "        HumanMessage(content=first_page.format(task)),\n",
    "        AIMessage(content=task)\n",
    "    ]\n",
    "    agent_messages.append(HumanMessage(content=task))\n",
    "    for i in range(num_turns):\n",
    "        agent_response = model.predict_messages(agent_messages)\n",
    "        print(agent_response.content)\n",
    "        agent_messages.append(agent_response)\n",
    "        environment_messages.append(HumanMessage(content=agent_response.content))\n",
    "        environment_result = model.predict_messages(environment_messages)\n",
    "        environment_messages.append(environment_result)\n",
    "        print(environment_result.content)\n",
    "        if \"success(\" in environment_result.content:\n",
    "            break\n",
    "        agent_messages.append(HumanMessage(content=environment_result.content))\n",
    "    all_agents.append(deepcopy(agent_messages))\n",
    "    all_environments.append(deepcopy(environment_messages))"
   ]
  },
  {
   "cell_type": "code",
   "execution_count": 97,
   "id": "9e18030c",
   "metadata": {},
   "outputs": [
    {
     "data": {
      "text/plain": [
       "351"
      ]
     },
     "execution_count": 97,
     "metadata": {},
     "output_type": "execute_result"
    }
   ],
   "source": [
    "len(all_agents)"
   ]
  },
  {
   "cell_type": "code",
   "execution_count": 99,
   "id": "74d8ef83",
   "metadata": {},
   "outputs": [],
   "source": [
    "conversations_ = []\n",
    "for chat in all_agents:\n",
    "    conversation_ = []\n",
    "    for side in chat:\n",
    "        if side.type == \"human\":\n",
    "            side_type = \"human\"\n",
    "        else:\n",
    "            side_type = \"gpt\"\n",
    "        conversation_.append({\"from\": side_type, \"value\":side.content})\n",
    "    conversations_.append(conversation_ )\n",
    "        "
   ]
  },
  {
   "cell_type": "code",
   "execution_count": 100,
   "id": "a56a0c8f",
   "metadata": {},
   "outputs": [],
   "source": [
    "with open('./synthetic/webshop-raw.jsonl', 'w') as file:\n",
    "    for conversation in conversations_:\n",
    "        json_str = json.dumps(conversation)\n",
    "        file.write(json_str + \"\\n\")"
   ]
  },
  {
   "cell_type": "code",
   "execution_count": null,
   "id": "58665f0d",
   "metadata": {},
   "outputs": [],
   "source": []
  }
 ],
 "metadata": {
  "kernelspec": {
   "display_name": "Python 3 (ipykernel)",
   "language": "python",
   "name": "python3"
  },
  "language_info": {
   "codemirror_mode": {
    "name": "ipython",
    "version": 3
   },
   "file_extension": ".py",
   "mimetype": "text/x-python",
   "name": "python",
   "nbconvert_exporter": "python",
   "pygments_lexer": "ipython3",
   "version": "3.11.4"
  }
 },
 "nbformat": 4,
 "nbformat_minor": 5
}
