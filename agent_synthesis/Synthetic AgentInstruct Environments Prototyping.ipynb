{
 "cells": [
  {
   "cell_type": "code",
   "execution_count": 1,
   "id": "da51f5e7",
   "metadata": {},
   "outputs": [],
   "source": [
    "from IPython.display import HTML, display\n",
    "from copy import deepcopy\n",
    "import random\n",
    "import os\n",
    "import openai\n",
    "import time\n",
    "import sys\n",
    "import ast\n",
    "import json\n",
    "\n",
    "from langchain.llms import OpenAI\n",
    "from langchain.chat_models import ChatOpenAI\n",
    "from langchain.schema import HumanMessage, AIMessage, SystemMessage\n",
    "from getpass import getpass\n",
    "import os\n",
    "import pandas as pd\n",
    "\n",
    "import pdfkit\n",
    "import html\n",
    "from copy import deepcopy"
   ]
  },
  {
   "cell_type": "code",
   "execution_count": 2,
   "id": "b387c1e8",
   "metadata": {},
   "outputs": [
    {
     "name": "stdout",
     "output_type": "stream",
     "text": [
      "········\n"
     ]
    }
   ],
   "source": [
    "# setting up an OpenAI template on the run\n",
    "OPENAI_API_KEY = getpass()\n",
    "\n",
    "os.environ['OPENAI_API_KEY'] = OPENAI_API_KEY"
   ]
  },
  {
   "cell_type": "markdown",
   "id": "475a69ba",
   "metadata": {},
   "source": [
    "### Setup Model"
   ]
  },
  {
   "cell_type": "code",
   "execution_count": 3,
   "id": "8476a9da",
   "metadata": {},
   "outputs": [],
   "source": [
    "model = ChatOpenAI(model=\"gpt-4-0613\")\n",
    "model.temperature = 0.8"
   ]
  },
  {
   "cell_type": "code",
   "execution_count": null,
   "id": "18884841",
   "metadata": {},
   "outputs": [],
   "source": []
  },
  {
   "cell_type": "markdown",
   "id": "7fd5a17e",
   "metadata": {},
   "source": [
    "### Operating System Environment"
   ]
  },
  {
   "cell_type": "code",
   "execution_count": 4,
   "id": "79daf7e6",
   "metadata": {},
   "outputs": [],
   "source": [
    "environment_prompt_template = '''\n",
    "Please take on the role of a linux(ubuntu) environment. I will send bash code and commands and you will respond with the output that is as close to the output of the linux environment as possible. You should use the \"Environment Information\" provided when making your response. Limit the response to around 250 characters and note that the output has been truncated with the message  \"[truncated because the output is too long]\".  Do not repeat the command provided. \n",
    "\n",
    "Environment information:\n",
    "{}\n",
    "\n",
    "First command:\n",
    "{}\n",
    "'''\n",
    "\n",
    "agent_prompt_template = '''\n",
    "Interact with a software environment to solve a task. Imagine you are an intelligent agent working for a user and your target is to perform actions to complete the task goal. At the beginning of your interactions, you will be given a detailed description of the current environment and your goal to accomplish. For each of your turns, you will be given a list of actions which you can choose one to perform in this turn. You should provide two parts of your response: \"THOUGHT\" and \"ACTION\". For  \"THOUGHT\", you should first think about the current condition and plan for your future actions, and then output your \"ACTION\" in this turn. Your output must strictly follow this format:\"THOUGHT: your thoughts.\n",
    " ACTION: your next action \n",
    "\"; For \"ACTION\", you should directly output the action this turn. Your output must strictly follow this format:\"ACTION: your next action\n",
    "\". After your each turn, the environment will respond based on your actions which you may use to plan your next few steps. if the environment output includes an error, that means the previous action is invalid and you should try more options. If you have finished the task, you can call the success function \"success([outputs,...])\" with any final outputs.\n",
    " Reminder: \n",
    "1. the action must follow any formats requested\n",
    "2. Think when necessary, try to act directly more in the process.\n",
    "If information is requested that you don't have, you may use placeholder information, but please note the information when calling \"success()\". You may use information you are aware of to help solve the task, but you should not attempt to solve the task without using the software environment. \n",
    "\n",
    "Software Environment: {}\n",
    "Your Task: {}\n",
    "'''"
   ]
  },
  {
   "cell_type": "code",
   "execution_count": 79,
   "id": "466676ef",
   "metadata": {},
   "outputs": [],
   "source": [
    "environment_information_EV_prompt = \"The environment is a linux(ubuntu) installation.\"\n",
    "software_environment = \"You are interacting with a linux(ubuntu) environment. You will use bash code and commands to accomplish your task.\"\n",
    "agent_task = \"tell me how many files are in the directory '/etc'?\""
   ]
  },
  {
   "cell_type": "code",
   "execution_count": 6,
   "id": "e66ac93d",
   "metadata": {},
   "outputs": [],
   "source": [
    "agent_prompt = agent_prompt_template.format(software_environment, agent_task)\n",
    "\n",
    "\n",
    "agent_messages = [\n",
    "    HumanMessage(content=agent_prompt),\n",
    "]\n"
   ]
  },
  {
   "cell_type": "code",
   "execution_count": 7,
   "id": "f8aacdfd",
   "metadata": {},
   "outputs": [],
   "source": [
    "agent_response = model.predict_messages(agent_messages)"
   ]
  },
  {
   "cell_type": "code",
   "execution_count": 8,
   "id": "617000c2",
   "metadata": {},
   "outputs": [
    {
     "data": {
      "text/plain": [
       "\"THOUGHT: To determine the number of files in '/etc' directory, I can use the 'ls' command to list all files and the 'wc -l' command to count the number of lines. This combination should give me the number of files in the directory.\\n\\nACTION: ls /etc | wc -l\""
      ]
     },
     "execution_count": 8,
     "metadata": {},
     "output_type": "execute_result"
    }
   ],
   "source": [
    "agent_response.content"
   ]
  },
  {
   "cell_type": "code",
   "execution_count": 9,
   "id": "e3888af3",
   "metadata": {},
   "outputs": [],
   "source": [
    "agent_result = agent_response.content.split(\"ACTION:\")[1].strip()"
   ]
  },
  {
   "cell_type": "code",
   "execution_count": 10,
   "id": "09d49bc5",
   "metadata": {},
   "outputs": [
    {
     "data": {
      "text/plain": [
       "'ls /etc | wc -l'"
      ]
     },
     "execution_count": 10,
     "metadata": {},
     "output_type": "execute_result"
    }
   ],
   "source": [
    "agent_result"
   ]
  },
  {
   "cell_type": "code",
   "execution_count": 11,
   "id": "ea6c1621",
   "metadata": {},
   "outputs": [],
   "source": [
    "environment_prompt = environment_prompt_template.format(environment_information_EV_prompt, agent_result)\n",
    "\n",
    "environment_messages = [\n",
    "    HumanMessage(content=environment_prompt)\n",
    "]"
   ]
  },
  {
   "cell_type": "code",
   "execution_count": 12,
   "id": "986db5f8",
   "metadata": {},
   "outputs": [],
   "source": [
    "environment_result = model.predict_messages(environment_messages)"
   ]
  },
  {
   "cell_type": "code",
   "execution_count": 13,
   "id": "9818111f",
   "metadata": {},
   "outputs": [
    {
     "data": {
      "text/plain": [
       "'The output of the command is:\\n\\n140'"
      ]
     },
     "execution_count": 13,
     "metadata": {},
     "output_type": "execute_result"
    }
   ],
   "source": [
    "environment_result.content"
   ]
  },
  {
   "cell_type": "code",
   "execution_count": 14,
   "id": "164ed550",
   "metadata": {},
   "outputs": [],
   "source": [
    "agent_messages.append(HumanMessage(content=environment_result.content))"
   ]
  },
  {
   "cell_type": "code",
   "execution_count": 15,
   "id": "edecf749",
   "metadata": {},
   "outputs": [
    {
     "name": "stdout",
     "output_type": "stream",
     "text": [
      "THOUGHT: The environment has given me a direct answer for how many files are in the directory '/etc'. It's 140. Now, I should call the success function to complete this task.\n",
      "\n",
      "ACTION: success([140])\n"
     ]
    }
   ],
   "source": [
    "num_turns = 10\n",
    "\n",
    "for i in range(num_turns):\n",
    "    agent_response = model.predict_messages(agent_messages)\n",
    "    print(agent_response.content)\n",
    "    agent_result = agent_response.content.split(\"ACTION:\")[1].strip()\n",
    "    environment_messages.append(HumanMessage(content=agent_result))\n",
    "    agent_messages.append(agent_response)\n",
    "    if \"success(\" in agent_result:\n",
    "        break\n",
    "    environment_result = model.predict_messages(environment_messages)\n",
    "    environment_messages.append(environment_result)\n",
    "    print(environment_result.content)\n",
    "    agent_messages.append(HumanMessage(content=environment_result.content))"
   ]
  },
  {
   "cell_type": "markdown",
   "id": "283cfc39",
   "metadata": {},
   "source": [
    "#### Get tasks from AgentInstruct data"
   ]
  },
  {
   "cell_type": "code",
   "execution_count": 18,
   "id": "42efda52",
   "metadata": {},
   "outputs": [
    {
     "name": "stdout",
     "output_type": "stream",
     "text": [
      "                                         conversations      id\n",
      "0    [{'from': 'human', 'loss': None, 'value': 'You...    os_0\n",
      "1    [{'from': 'human', 'loss': None, 'value': 'You...    os_1\n",
      "2    [{'from': 'human', 'loss': None, 'value': 'You...    os_2\n",
      "3    [{'from': 'human', 'loss': None, 'value': 'You...    os_3\n",
      "4    [{'from': 'human', 'loss': None, 'value': 'You...    os_4\n",
      "..                                                 ...     ...\n",
      "190  [{'from': 'human', 'loss': None, 'value': 'You...  os_190\n",
      "191  [{'from': 'human', 'loss': None, 'value': 'You...  os_191\n",
      "192  [{'from': 'human', 'loss': None, 'value': 'You...  os_192\n",
      "193  [{'from': 'human', 'loss': None, 'value': 'You...  os_193\n",
      "194  [{'from': 'human', 'loss': None, 'value': 'You...  os_194\n",
      "\n",
      "[195 rows x 2 columns]\n"
     ]
    }
   ],
   "source": [
    "import pandas as pd\n",
    "df5 = pd.read_parquet('../../agentinstruct/os-00000-of-00001-971539c34fcc7500.parquet')\n",
    "print(df5)"
   ]
  },
  {
   "cell_type": "code",
   "execution_count": 28,
   "id": "d5888c51",
   "metadata": {},
   "outputs": [
    {
     "name": "stdout",
     "output_type": "stream",
     "text": [
      "Now, I will start a new problem in a new OS. My problem is:\n",
      "\n",
      " \n",
      "\n",
      "Count how many files or directories in the current directory have the read permission for the user.\n"
     ]
    }
   ],
   "source": [
    "print(df5.iloc[2][\"conversations\"][6]['value'])"
   ]
  },
  {
   "cell_type": "code",
   "execution_count": 31,
   "id": "a0f0e5b9",
   "metadata": {},
   "outputs": [
    {
     "data": {
      "text/plain": [
       "'Count how many files or directories in the current directory have the read permission for the user.'"
      ]
     },
     "execution_count": 31,
     "metadata": {},
     "output_type": "execute_result"
    }
   ],
   "source": [
    "df5.iloc[2][\"conversations\"][6]['value'].split(\"is:\")[1].strip()"
   ]
  },
  {
   "cell_type": "code",
   "execution_count": 32,
   "id": "06259dab",
   "metadata": {},
   "outputs": [
    {
     "data": {
      "text/plain": [
       "195"
      ]
     },
     "execution_count": 32,
     "metadata": {},
     "output_type": "execute_result"
    }
   ],
   "source": [
    "len(df5)"
   ]
  },
  {
   "cell_type": "code",
   "execution_count": 71,
   "id": "ddb8d518",
   "metadata": {},
   "outputs": [],
   "source": [
    "def process(data):\n",
    "    return data['conversations'][6]['value'].split(\"is:\")[1].strip()"
   ]
  },
  {
   "cell_type": "code",
   "execution_count": 77,
   "id": "66a68445",
   "metadata": {},
   "outputs": [],
   "source": [
    "tasks = df5.apply(process, axis=1).tolist()"
   ]
  },
  {
   "cell_type": "code",
   "execution_count": 78,
   "id": "86044a70",
   "metadata": {},
   "outputs": [
    {
     "data": {
      "text/plain": [
       "['Filter out all the empty lines and comments in configurations (.conf) files in the current directory, and find the most frequently appearing valid configuration directive.',\n",
       " 'Given the contents of a log file named \\'system.log\\' in the current directory, figure out the total number of occurrences of the word \"error\".',\n",
       " 'Count how many files or directories in the current directory have the read permission for the user.',\n",
       " 'Count the total sum of numbers that lie within the last 100 lines of the text file \"numbers.txt\", where each line of the file has a single whole number. Report the sum as your answer.',\n",
       " 'List the usernames of all users on the system who are using bin/bash as their default shell.',\n",
       " 'In the current directory containing various types of files, your task is to get the combined size of all files ending with `.txt` within the directory and its subdirectories. The file size should be returned in bytes.',\n",
       " 'Locate in your home directory all the text files (.txt) that contain the string \"Linux\", then count the total number of occurrences for the string across all these files.',\n",
       " 'Calculate the total number of bytes in all \".pdf\" files present in the directory \"/home/user/documents\".',\n",
       " \"You're expected to determine how many bash scripts exist in your home directory but not in any of its subdirectories. Bash scripts are identified as files with extension .sh.\",\n",
       " 'Count and return the numebr of audio files in your home directory and all its subdirectories when given mp3, wav, and flac as selected audio file extensions.',\n",
       " 'You have to find out how large is the space that plain text files `.txt` occupying in \"example_directory\" and its subdirectories. Assuming 1 byte per character, please calculate the total number of characters (thus size) in such `.txt` files.',\n",
       " \"Check the current users logged into the system who have a bash shell. Print out those users' login, shell, and their home directory.\",\n",
       " 'Given a directory `student_files` populated with text files, calculate and display the word count of the file that has the most words in the provided directory.',\n",
       " 'In your home directory, find all the directories that contain a JPEG file and count them.',\n",
       " 'Count all files in the \"codes\" subdirectory of your home directory that contain hard-coded IP addresses in the form (a.b.c.d where a, b, c, d can be any number from 0 to 255).',\n",
       " \"Create a monitoring script that records any changes in the size of the 'Documents' directory (including all subdirectories), save the result to a new line in 'dir_size.log' file, then make a cron job that runs the script every minute. The result you should submit is the absolute path of the 'dir_size.log' file.\",\n",
       " \"Zip all .txt files in the current directory into an archive named 'archived_texts.zip'\",\n",
       " 'In your home directory, please find the file named secret.txt and determine the total words in the file. Be sure the words are lowercase alphanumeric and ignore words which start with a capital letter or include special characters or digits.',\n",
       " 'Find out the total used disk space by JPEG pictures in your home directory (including subdirectories).',\n",
       " 'Identify the top three largest files (by file size) in your home directory, excluding any subdirectories.',\n",
       " 'Calculate the total size of all text (.txt) files within the current working directory, excluding subdirectories. The size should be output in bytes.',\n",
       " 'You are only interested in all PNG files of sizes strictly less than 100KB in the whole /etc directory including its subdirectories. Write down the absolute paths of these files and calculate the total number of all such files. However, keep in mind to suppress any error messages especially permission denied ones.',\n",
       " 'How many image files (jpg, png, gif) with file size larger than 1MB are there in your home directory and its subdirectories?',\n",
       " \"Count the number of PDF and TXT files within the 'documents' directory in your home directory.\",\n",
       " 'In your home directory, look for directories that are owned by your user account, ignore the hidden directories, calculate the total size in kilobytes of each found directories and sum up all those sizes. Return the uncovered total size in bytes.',\n",
       " \"Given a list of IP addresses from your network logs in the 'ips.txt' file in your home directory, calculate the number of different IP addresses.\",\n",
       " 'Determine the size in KB of all JPEG files greater than 500KB located within the current directory and its subdirectories.',\n",
       " 'Find out which directory in your home directory occupies the most storage space.',\n",
       " 'Find out the number of directories under `/usr/bin` that contain files with executable permission in your Linux system. You should not count the directories that only contain files without executable permissions.',\n",
       " 'You have a directory, `~/logs/`, filled with log files (.log extensions). You want to know how many times the phrase \"error\" appears in the log files of this directory regardless of its case.',\n",
       " 'Calculate the total space used by all jpg images in the home directory.',\n",
       " \"Determine the number of text files in your home directory that contain the term 'Linux'.\",\n",
       " \"Find all text files (.txt) recursively in the current directory, count the occurrences of the word 'Ubuntu' in them, and tally the occurrences in all found files.\",\n",
       " 'Calculate the aggregate size in bytes of all PNG image files located in your home directory and its subdirectories',\n",
       " 'You shoud identify how many files in your current directory were last modified more than one week ago.',\n",
       " 'Given a directory and its dozens of sub-directories and so on, of thread dumps. Each thread dump is in a separate .txt file. As each thread dump in these files is right below \"',\n",
       " 'Identify and count the number of unique IP addresses which tried to make `POST` requests according to an Apache log file named \"access.log\" in your home directory. The log file has entries in the Combined Log Format.',\n",
       " 'Determine how many files there are in your home directory and all of its subdirectories.',\n",
       " 'Identify how many .txt files contain the word \"Linux\" in your home directory, but not recursively.',\n",
       " 'Find all the files and directories within your home directory and their subdirectories which have permissions that would allow other users to write, then report the count.',\n",
       " 'Search and locate a file called \"mission.txt\" in the current directory or its subdirectories, and then count how many occurrences of the word \"Linux\" there are within the file.',\n",
       " 'Sort lines in file alphabetically based on their second word, then find the unique content and output the count. The file is called \"data.txt\".',\n",
       " 'How many files and directories in your home directory were last modified on 21st December of last year, including those in subdirectories?',\n",
       " 'Find the list of files in your home directory that have been modified within the last 24 hours and contain a specific word, \"FIXED\". Output the number of such files.',\n",
       " \"You want to find the top three directories under your home directory ('/home/your_username') which are consuming the highest disk-space.\",\n",
       " 'How many unique IP addresses have accessed your server, based on a predefined logs.txt file located at your /var/log directory?',\n",
       " 'Find out the total hard disk usage (in Megabytes) of `/usr` directory in your Linux system.',\n",
       " 'Using the `/var/log/syslog` file, count how many logs were created by the \"systemd\" daemon.',\n",
       " 'You need to identify how many JPEG image files are there in the folder named \"image_directory\". The JPEG files may end with .jpg or .jpeg extensions.',\n",
       " 'Find how many folders in your home directory contain at least one JSON file. The answer should be a positive integer or zero if there are no such folders.',\n",
       " 'You need to demonstrate that your CPU can handle multiple tasks at the same time by running a script that can start 10 subprocesses displaying \"Hello World\" in different seconds in ascending order.',\n",
       " 'Find out the network interface name and the corresponding IP address on your system.',\n",
       " 'Perform a search and count the number of audio (.mp3, .wav, .flac, etc.) and video files (.mp4, .avi, .mkv, .flv, etc.) in your home directory in combination.',\n",
       " 'Calculate the total size of `.txt` files in your home directory. The answer should be represented in the unit KB.',\n",
       " 'You need to find out how many unique extensions of files are there in the current directory.',\n",
       " 'Find the total disk usage of .txt files in your current directory only.',\n",
       " 'Create a bash script, named \"file_monitor.sh\", which monitors a given directory structure and notifies when a new .txt file is added anywhere in that structure. The notification is given in the standard output (stdout) stating the path to the new file. Your script should be rerunnable and does not need to work in real time. Every time it runs, it should report newly added .txt files in this given directory since it last run.',\n",
       " 'Given a directory named `logs_directory` filled with log files with various extensions (`.log`, `.ext`, `.data`, etc.), identify and count how many of these files contain a given pattern, `ERROR 404`.',\n",
       " 'You have to find out the summation of the sizes of all \".txt\" files present in any nested directory within your home directory \"/home/ubuntu/\"',\n",
       " 'Your Task is to count the number of PDF files in the home directory and its subdirectories. List and save the absolute path of these files onto a text file called \"PDFList.txt\".',\n",
       " 'In your home directory, identify and list all files with permission of \"read\" for \"other users\" that are owned by \\'root\\'.',\n",
       " 'Determine how many regular files reside in your home directory and in its first subdirectory level only (not including subdirectories of subdirectories). Please ignore hidden files.',\n",
       " 'Find the number of unique IP addresses from a provided log file named \"access.log\" in your home directory.',\n",
       " 'Find out which directory in your home (`~`) contains the highest number of `.txt` files recursively. Directory names should be absolute paths.',\n",
       " 'Find out the available disk space in human readable format for a given directory designated for log files. Use the directory /var/log for this task.',\n",
       " 'Search your home directory and calculate the overall size the .txt files take in kilobytes.',\n",
       " 'Count the total number of files in your home directory that have been accessed within the last 7 days.',\n",
       " 'Determine the total size (`byte`) of documents (files ending with .docx) residing in your working directory.',\n",
       " 'Identify how many unique users have log entries in the /var/log/auth.log file on your system.',\n",
       " 'Get size of all .csv files in the current directory in an human-readable format, and then calculate and print the total size as the sum of all csv files in kilobytes.',\n",
       " 'Create a directory named \"Students_Submissions\" in your home directory and find out who was the latest person to modify a file in this directory.',\n",
       " 'What is the total size, in bytes, of the .txt files modified within the last 2 days in the directory \"/text_files\"?',\n",
       " 'Count the number of logins by user \"guest\" in the past 7 days.',\n",
       " 'Find and count all the unique words in a file called \"data.txt\" in your current directory. Your task is to write a command to generate another file named \"unique_words.txt\" that contains all of these unique words each in a separate line. Additionally, return the total count of these unique words.',\n",
       " 'Find the amount of memory in gigabytes (GB) that the Python3 process is taking up in your systems.',\n",
       " 'Filter out C++ source (`*.cpp`) and header files (`*.h`) in your home directory and determine how many lines of code (excluding empty lines) exist in these files. You also must ignore commented lines that starts with \"//\" symbol.',\n",
       " 'Find the total number of processes running by a certain user on your Linux operating system.',\n",
       " 'List all directories under your home directory that were last modified more than seven days ago.',\n",
       " 'Identify the user who has the most number of processes running on a Ubuntu system. When tied, you should return all tied users.',\n",
       " 'Some common types of \"files\" in a Linux system are regular files, directories, symbolic links, sockets, and named pipes. Your task is to count how many files of each type exist in your current directory and its subdirectories.',\n",
       " 'Given a process name, count the amount of memory (in megabytes) it consumes, rounding up to the nearest MB if necessary. You should compute this by finding and adding the individual RAM usages of all occurrences of the specified process.',\n",
       " 'Using your Linux system, identify how many unique words are contained in the init.txt file located in the current working directory.',\n",
       " 'You are developing a program that displays files through an interactive terminal UI. As a part of this program, you want to build a feature to list all regular files in a specified directory (ignoring everything else). For now you want to count the number of all regular files only in your home directory, both visible and hidden, without entering any subdirectories.',\n",
       " 'You have some log files in a folder named \"logs\", find out the number of distinct IP addresses that have made access attempts to your system. Please ignore the local IP addresses which often associated with the localhost (127.0.0.1 and those with subnet mask of 255.0.0.0).',\n",
       " 'How many hidden directories are there in your home directory? Include only the direct child hidden directories, do not consider hidden directories of the subdirectories of your home.',\n",
       " 'Given a directory named `hierarchy`, calculate the total number of words present in all `.txt` files located in any subdirectories named `data` which belong directly under `hierarchy`.',\n",
       " 'Count the total number of occurences of a specific word throughout every text file (.txt extensions) present in the current directory and its subdirectories. The word you need to count is \"Linux\".',\n",
       " 'Count the number of words in all text (*.txt) files in the directory \"example_dir\" with word length equal to 4-character.',\n",
       " 'Identify the top 3 processes in the system which are consuming the highest percentage of CPU power, and for each identified process, find out and display its process ID (PID), process name, and the user who owns it. Arrange them in descending order of CPU usage percentage.',\n",
       " 'Find out the five largest files in your home directory command?',\n",
       " 'Search all the directories/files starting with \"test\" in your current directory (not subdirectories) and count how many of them have been accessed within the last 2 days.',\n",
       " 'Determine the size (in kilobytes) used by all files with `.txt` extension in the current directory and its subdirectories.',\n",
       " 'Find the number of subdirectories in your current directory which contain a file of the name \"README.md\".',\n",
       " 'In the `/usr/bin` directory of your Linux system, search for executable files that contain the name \"python\". Count the total number of lines (including comment lines) in all these files. To ensure system integrity, you cannot modify or move these files.',\n",
       " 'Track the historical changes made on a particular file: \"my_record\" in the current directory, by shedding a light on the last five commands executed on this file.',\n",
       " 'Calculate the total file size in bytes of the folder /mnt/data and all its subdirectories.',\n",
       " 'Find out and print the file in your home directory that has been modified the latest among all the text files (.txt) present there.',\n",
       " 'Find the largest regular file in your `home` directory, take its checksum using the `sha256sum` command, and return the first 10 characters (excluding whitespaces, keep only alphanumeric characters) of the checksum.',\n",
       " 'In your current directory there\\'s a directory named \"files_directory\", inside which, there are numerous .txt files and a nested directory named \"nested directory\" containing even more .txt files. You need to find how many .txt files contain the string \"Important\" and give this count.',\n",
       " \"Find the number of occurrences of the word 'Linux' in all '.txt' files in the current directory.\",\n",
       " \"Find out how many non-empty lines there are across all text files ('.txt' extension) in your home directory, including those files in the subdirectories.\",\n",
       " 'Calculate the size in bytes of all .png files located in the directory \"imageDirectory\" including subdirectories.',\n",
       " 'In the current directory, there is a hidden log file named \".log_file\". Your task is to count the number of distinct words in this file. A word is defined as having one or more non-space characters, separated by spaces. The computation should ignore case for all words.',\n",
       " 'Find the total number of non-empty lines across all text files within your home directory, including its subdirectories.',\n",
       " \"You have a text log file named `log.txt` in the current directory. Your task involves determining how many times a word appears on a machine with an IP of '192.168.1.123'.\",\n",
       " 'How many jpg images exist in your current directory and all its subdirectories?',\n",
       " 'You have two large text files `data1.txt` and `data2.txt` in the current directory. Please count how many words from `data1.txt` are not included in `data2.txt`.',\n",
       " \"You're given a text file 'large-text.txt' in your home directory. Count the number of times the word 'Linux' appears in the file in a case-insensitive manner.\",\n",
       " \"Create a log file: `mylog.log` in your working directory and append the startup time of each boot to this log file from your system's boot log. Note that the time format must be `YYYY-mm-dd HH:MM:SS`.\",\n",
       " \"Find and count all txt file names containing the word 'log' within the current directory and its subdirectories.\",\n",
       " 'Write a script that will locate all .txt files in the current directory and its subdirectories, and count the total number of words in these files.',\n",
       " \"You receive a request from a low bandwidth location to compress all '.txt' files into a .zip file in your current directory.\",\n",
       " 'List all directories in the home directory that were modified more than two days ago, and then calculate the total number of these directories.',\n",
       " 'You have a directory called \"files_directory\" scattered with numerous text files. You are required to tell, how many of those files contain the word \"Linux\".',\n",
       " 'Track down all the files in your home folder that were last modified more than 7 days ago and are greater than 1M in size. Your answer should display the counts of such files.',\n",
       " 'Count the number of .py (Python) files in your home directory that contain the string \"def\".',\n",
       " 'How many .txt files are there in your home directory and all its sub-directories?',\n",
       " 'Calculate how many JPEG and PNG image files are in your home directory and output two numbers: the number of JPEG images first and the number of PNG images next.',\n",
       " \"Find all text files (.txt) present in your home directory and append 'exam monitored' to each file. Afterwards, print the total count of files modified.\",\n",
       " 'You need to determine how many regular files there are in the files/ folder and its subdirectories, which is created by the initialization script below.',\n",
       " 'Calculate the total size used by mp4 files in your home directory. Give the answer in bytes.',\n",
       " 'Find out the memory usages of a process in your system with user name: \"your-user-name\". Print the result as \"Process-name KB used\". Note: Answer may vary depending on your system\\'s state.',\n",
       " \"Calculate the total size (in bytes) of all 'png' and 'jpg' files under your home directory recursively, and list the path of the largest 'png' or 'jpg' file.\",\n",
       " \"You are asked to find out the number of file types in your present directory. For example, if there are 3 '.txt' files and 2 '.docx' files, the output should be 2.\",\n",
       " 'Determine the total size of all the text files in your home directory and get the size in MB (Megabytes).',\n",
       " 'Calculate how much space is being used up by video files (file extension `.mp4`) in your home directory including in its subdirectories. The result should be in MB.',\n",
       " 'Calculate the total size of all directories, in Gigabytes (GB), directly under your home directory, round to nearest integer.',\n",
       " 'Prepare a function called `alphanumeric`, which goes through the inputted file `(input.txt)` and counts how many lines have at least one alphanumeric character.',\n",
       " 'Use a script to back up all .txt files in your home directory to a new directory called \"backup_dir\" in the same location. The backed-up files should be in a compressed format (.tar.gz).',\n",
       " 'You have a series of log files in a directory named \"logs\", and each of those files may contain an error message indicating a failed action. You are tasked with identifying those cumbersome error messages. The error message start with \\'',\n",
       " 'What is the date on which the `/var/log/auth.log` file of your operating system was last updated?',\n",
       " 'Determine the total size in kilobytes (KB) of PDF files in your current directory.',\n",
       " \"Determine the total number of 'ERROR' keywords appearing in log files from three directories in your home directory, namely 'Dir1', 'Dir2', and 'Dir3'.\",\n",
       " 'Find out the total size in bytes of all .txt files in your home directory and its subdirectories.',\n",
       " 'You have three different directories under your home directory: \"texts\", \"archives\", and \"processed\". The \"texts\" directory contains text files, and \"archives\" contains tar archives of text files. Your task is to:\\n\\n1. Extract all tar archives inside the \"archives\" folder into their respective directories into the \"processed\" directory.\\n2. Count the total number of non-unique words from all text files under the \"texts\" and \"processed\" directory.\\n\\nPlease note, non-unique words count each occurrence of a word separately.',\n",
       " 'Count how many directories and subdirectories within your home directory contain more than 10 files.',\n",
       " 'Extract all URLs starting with http or https from the file \"online_resources.txt\" in the current directory, ensure they are unique and write them to a new file named \"unique_resources.txt\". Then, count how many unique urls have been stored in the \"unique_resources.txt\" file.',\n",
       " 'You need to determine the total amount of space occupied by HTML (\".html\") files in your home directory.',\n",
       " 'Calculate the total storage space (in KBs) used by the `*.png` image files in your home directory. Remember to include files in subdirectories too.',\n",
       " 'In a directory called \"log_dir\" containing various log files (with a .log extension), determine which file has the highest number of lines \"error\" and return the name of the file along with the number of occurrences in the format `<filename>:<occurrence>`. In the event of a tie, select any one of the files.',\n",
       " \"Find all log files in your home directory ending with .log, and count the total number of times error or warning is mentioned in these log files. (The case of error or warning is not important, i.e., 'Error', 'error', 'ERROR' should all be counted.)\",\n",
       " 'Find the CPU usage percent (rounded to whole integers) of the most CPU-hungry process running in your Linux system.',\n",
       " 'Identify hidden files in the current directory and count how many of them are text files. A text file is defined as having textual content, which you can check using the \"file\" command.',\n",
       " \"You work as a Network System Administrator and needs to monitor networking status on your Ubuntu operating system for suspicious activity. Extract the output of 'netstat' command and filter out the IDLE connection status. Your task is to identify, count and display IP addresses only from active connections (which are either Established, Close_Wait or Time_Wait) on your computer starting with `tcp` protocol only.\",\n",
       " 'Identify the total disk usage of all .txt files in the current directory. Include the usage of both visible and hidden .txt files.',\n",
       " 'You need to figure out which is the largest file located directly in your home directory. In this context the \"largest\" means the file has the maximum byte size, and only the regular files are considered.',\n",
       " 'You are asked to calculate the total number of blocks consumed by `.txt` files in your home directory(inclusive of its subdirectories).',\n",
       " 'Given a directory `logs_dir_sampler` containing weblog files solely in \\'.log\\' format, calculate the number of occurrences of the word \"ERROR\" in these sample log files.',\n",
       " 'You are currently in the \"music\" directory which contains hundreds of songs (.mp3 files), presented in the following format: {Year} - {Author} - {Title}.mp3. The question is to find out how many songs were released after the year 2000 (inclusive) by authors with the letter \\'e\\' in their name?',\n",
       " \"Find out the size of all the jpeg files in a set directory, formatted in an easy-to-understand human-readable string like '3MB'.\",\n",
       " 'How many empty text files are being stored amongst all of the files in your current working directory?',\n",
       " 'Find and display the size in bytes of the largest file in your home directory, including subdirectories.',\n",
       " 'Calculate the total size of all .log files within your current directory (including also those in the subdirectories if any) and print the result in bytes.',\n",
       " 'How many files are in your home directory that were last modified at least 20 days ago?',\n",
       " 'Find out the total number of characters contained in all \".txt\" files that are present in the ~/Documents directory and its subdirectories.',\n",
       " 'Grab a list of files in your current directory, excluding directories and other types of files (like named pipes, symbolic links, etc.), and find which file has the longest list of characters in its content. The output should be the filename and its character count, in the format: filename: count\".',\n",
       " 'Recover a deleted text file based recovery.txt.bak in the current directory, as well as the total number of words in the recovered file.',\n",
       " 'Find out the most recent modifying time among all jpeg files(**.jpg, .jpeg**) in a specified directory(including its subdirectories). The time should be displayed in seconds since Epoch(1970-01-01 00:00:00 UTC).',\n",
       " \"Find all .jpeg and .jpg formatted files in the current directory, list out all the filenames and get a count of filenames that mention either 'summer' or 'sun'.\",\n",
       " 'Use the /proc/meminfo file located in the proc filesystem to retrieve the total memory capacity in kilobytes (KB) of your computer. Include only the numeric value in your answer.',\n",
       " 'Having a long list of directories in your current directory, count how many photo files (\"jpeg\", \"jpg\", \"gif\", \"png\") there are recursively within all those directories.',\n",
       " 'In your current directory, calculate the total disk space usage (in KB) of files only (i.e., excluding subdirectories) ending with .txt extension.',\n",
       " 'Calculate the total size in bytes of all PNG images in your home directory.',\n",
       " \"Search for all '.txt' files in your home directory and count the total occurrence of the word 'linux'.\",\n",
       " 'Detect how many PDF files there are in the home(~) directory including its sub-directories.',\n",
       " 'Count how many .txt files in the current directory start with a vowel. Note that a word in the context refers to the name of the file and does not include the extension!',\n",
       " \"Find the process name that's taking up the maximum CPU usage in your system currently.\",\n",
       " 'Simulate the process of checking the number of access permissions of a server. Your task is to count how many files in your home directory (/home/USERNAME) have read, write, and execute permissions for the user (you), and store 3 integers separately for read, write and execute permissions.',\n",
       " 'Assume that you run an online service, which generates one log file per day with a suffix representing date in \"YYYYMMDD\" format, such as \"access_log_20210501\". Your task is to provide the size of the total log files generated in the current directory in \"kilobytes\" during May 2021.',\n",
       " 'Calculate the sum of sizes of all log (.log) files in the home directory. Output should be given in KB.',\n",
       " 'You have a directory called \"sales\" on your Ubuntu system, which has numerous .txt files. Each file has multiple lines and each line indicates a separate item sold along with its quantity. For example, it could be something like \"Apple - 150\" or \"Orange - 200\". Now, calculate the total number of \"Apple\" items sold from all the .txt files.',\n",
       " 'Your friend gave you a mystery to solve. He has created several text files (.txt) throughout your machine. He wants to know - how many unique words are there in total in all the text files under the \"/home\" directory of your Linux. However, instead of the exact word count, he has thrown in a challenge. You are to respond in MB, rounded down.',\n",
       " 'Count the number of unique IP addresses found in a given Apache log file located in /var/log.',\n",
       " 'In your current working directory (and recursively in all subdirectories), count how many times the word \"Error\" (in any case) appears in log files (files ending in .log).',\n",
       " 'Calculating the unused disk space when no external disk or USB is attached to your system. Please note, only calculate the space on the main \"/\" partition.',\n",
       " 'Calculate the total size of all non-empty text (.txt) files in the current directory. Only count in the files that have a file size greater than zero bytes.',\n",
       " 'Tell me how many files in the current directory end with numbers.',\n",
       " \"Given a text file named 'example.txt', scramble its content (make sure every word in every line is in a random order) and then count how many characters there are in the scrambled file.\",\n",
       " 'In the home directory, there is a hidden \".course-setting.txt\" file which contains a list of courses separated by line. Each line represents one course which a student might take. Count how many different \"Computer Science\" (marked as CS) courses there are.',\n",
       " 'Find how many unique word types exist in current directory text files. Only consider those words that consist of only alphabets.',\n",
       " 'Determine the total size, in bytes, of uncompressed `.log` file(s) in the current directory.',\n",
       " 'Please determine the size on disk of all files with .txt extension in current directory and its subdirectories.',\n",
       " 'Your task is to count the number of files in your home directory that were last modified in the past 30 days excluding hidden files.',\n",
       " \"You are given a text file named 'test.txt' that contains human-readable data. Output the current size of this file into human-readable format.\",\n",
       " \"Run a simulation on the system to measure load by creating a specific number of empty files in a test directory named 'load_simulation' in your home directory. Then, identify the regular files (not directories or special files) in that directory. Provide your answer as string with number total files found.\",\n",
       " 'Generate a function that lists all Linux processes that belong to you, running for longer than 10 minutes, along with their detailed information.',\n",
       " 'You are given a directory filled with different types of files (.txt, .pdf, .jpg, .png). Count the total number of files that are larger than 2 KB in size.',\n",
       " 'Count the number of files and directories in the current working directory.',\n",
       " 'Count the number of distinct file extensions used in the current directory, where files with no extension should also be counted.',\n",
       " 'Find all the hidden files in your current directory and subdirectories, and calculate the total size of these hidden files, output result in bytes.',\n",
       " 'Find the process with the highest CPU usage and get the username of the user who is owning the process.',\n",
       " 'Display the top three most memory-consuming processes running on the system, sorted by descending memory usage. Represent the memory in human-readable format.',\n",
       " \"Use the Linux command line to count the total number of files and subdirectories located within a parent directory called 'Work'. Exclude any hidden files and directories.\",\n",
       " 'Count how many directories in the HOME directory have been accessed in the last day.',\n",
       " 'Using your linux system, find all txt files and count total number of lines in these files. Note that the files can be in nested directories as well.']"
      ]
     },
     "execution_count": 78,
     "metadata": {},
     "output_type": "execute_result"
    }
   ],
   "source": [
    "tasks"
   ]
  },
  {
   "cell_type": "markdown",
   "id": "9a0dffd2",
   "metadata": {},
   "source": [
    "#### Multiple conversations"
   ]
  },
  {
   "cell_type": "code",
   "execution_count": 80,
   "id": "5f3ee7b4",
   "metadata": {},
   "outputs": [
    {
     "name": "stdout",
     "output_type": "stream",
     "text": [
      "THOUGHT: The user wants to know how many files are in the '/etc' directory. The standard Linux utility for listing files is 'ls'. However, 'ls' output includes both files and directories. To count only files, I'll need to use 'find' command. The '-type f' option can be used with 'find' command to limit the search to files only. Then I can pipe this output to 'wc' command with '-l' option to count the number of lines. \n",
      "\n",
      "ACTION: find /etc -type f | wc -l\n",
      "The command you provided isn't valid. However, I'm assuming you want to know the number of files in the /etc directory. The output would be:\n",
      "\n",
      "2953\n",
      "THOUGHT: The environment indicated that my previous command was invalid, but it successfully returned the number of files in the /etc directory by using a different method. \n",
      "\n",
      "ACTION: success(\"There are 2953 files in the /etc directory.\")\n",
      "THOUGHT: To find out the number of files in the /etc directory, I will use the 'ls' command in the Linux shell. This command will list all the files and folders in the /etc directory, and then I can count them.\n",
      "ACTION: ls -l /etc | wc -l\n",
      "2954\n",
      "THOUGHT: The previous command counted the number of all items including files and directories. I need to change my approach and use the 'find' command with '-type f' flag to filter out directories and only count files. \n",
      "ACTION: find /etc -type f | wc -l\n",
      "2953\n",
      "THOUGHT: The 'find' command with '-type f' has successfully provided the number of files excluding directories in the /etc directory. The user requested information has been obtained.\n",
      "ACTION: success([\"The number of files in the /etc directory is 2953.\"])\n"
     ]
    }
   ],
   "source": [
    "num_turns = 20\n",
    "\n",
    "all_agents = []\n",
    "all_environments = []\n",
    "\n",
    "for x in range(len(tasks[:2])): \n",
    "    agent_prompt = agent_prompt_template.format(software_environment, agent_task)\n",
    "    agent_messages = [\n",
    "        HumanMessage(content=agent_prompt),\n",
    "    ]\n",
    "    agent_response = model.predict_messages(agent_messages)\n",
    "    environment_prompt = environment_prompt_template.format(environment_information_EV_prompt, agent_result)\n",
    "    environment_messages = [\n",
    "        HumanMessage(content=environment_prompt)\n",
    "    ]\n",
    "    agent_messages.append(HumanMessage(content=environment_result.content))\n",
    "    for i in range(num_turns):\n",
    "        agent_response = model.predict_messages(agent_messages)\n",
    "        print(agent_response.content)\n",
    "        agent_result = agent_response.content.split(\"ACTION:\")[1].strip()\n",
    "        environment_messages.append(HumanMessage(content=agent_result))\n",
    "        agent_messages.append(agent_response)\n",
    "        if \"success(\" in agent_result:\n",
    "            break\n",
    "        environment_result = model.predict_messages(environment_messages)\n",
    "        environment_messages.append(environment_result)\n",
    "        print(environment_result.content)\n",
    "        agent_messages.append(HumanMessage(content=environment_result.content))\n",
    "    all_agents.append(deepcopy(agent_messages))\n",
    "    all_environments.append(deepcopy(environment_messages))"
   ]
  },
  {
   "cell_type": "code",
   "execution_count": null,
   "id": "15e56684",
   "metadata": {},
   "outputs": [],
   "source": [
    "\n",
    "    "
   ]
  },
  {
   "cell_type": "code",
   "execution_count": null,
   "id": "0da5a2c0",
   "metadata": {},
   "outputs": [],
   "source": []
  }
 ],
 "metadata": {
  "kernelspec": {
   "display_name": "Python 3 (ipykernel)",
   "language": "python",
   "name": "python3"
  },
  "language_info": {
   "codemirror_mode": {
    "name": "ipython",
    "version": 3
   },
   "file_extension": ".py",
   "mimetype": "text/x-python",
   "name": "python",
   "nbconvert_exporter": "python",
   "pygments_lexer": "ipython3",
   "version": "3.11.4"
  }
 },
 "nbformat": 4,
 "nbformat_minor": 5
}
