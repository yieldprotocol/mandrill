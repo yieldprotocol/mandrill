{
 "cells": [
  {
   "cell_type": "code",
   "execution_count": 49,
   "metadata": {},
   "outputs": [],
   "source": [
    "import json \n",
    "import random"
   ]
  },
  {
   "cell_type": "code",
   "execution_count": 50,
   "metadata": {},
   "outputs": [],
   "source": [
    "data = []\n",
    "with open('./synthetic-0/dbbench-interactions.jsonl', 'r') as file:\n",
    "    for line in file:\n",
    "        ds = json.loads(line)\n",
    "        data.append(ds)\n",
    "        "
   ]
  },
  {
   "cell_type": "code",
   "execution_count": 51,
   "metadata": {},
   "outputs": [],
   "source": [
    "new_data = []\n",
    "some_ds = random.choices(data, k=5)\n",
    "for ds in data:\n",
    "    for j, turn in enumerate(ds):\n",
    "        if len(some_ds[0]) > j and len(some_ds[1]) > j and len(some_ds[2]) > j and len(some_ds[3]) > j and len(some_ds[4]) > j:\n",
    "            if turn['value']==some_ds[0][j][\"value\"] and \\\n",
    "                turn['value']==some_ds[1][j][\"value\"] and \\\n",
    "                turn['value']==some_ds[2][j][\"value\"] and \\\n",
    "                turn['value']==some_ds[3][j][\"value\"] and \\\n",
    "                turn['value']==some_ds[4][j][\"value\"]:\n",
    "                    ds[j][\"loss\"] = None\n",
    "                    continue\n",
    "        if turn['from']=='human':\n",
    "            ds[j][\"loss\"]= False\n",
    "            continue\n",
    "        ds[j][\"loss\"]= True\n",
    "    new_data.append(ds)"
   ]
  },
  {
   "cell_type": "code",
   "execution_count": 52,
   "metadata": {},
   "outputs": [],
   "source": [
    "with open('./synthetic-1/dbbench-interactions-raw.jsonl', 'w') as file:\n",
    "    for conversation in new_data:\n",
    "        json_str = json.dumps(conversation)\n",
    "        file.write(json_str + \"\\n\")"
   ]
  }
 ],
 "metadata": {
  "kernelspec": {
   "display_name": "base",
   "language": "python",
   "name": "python3"
  },
  "language_info": {
   "codemirror_mode": {
    "name": "ipython",
    "version": 3
   },
   "file_extension": ".py",
   "mimetype": "text/x-python",
   "name": "python",
   "nbconvert_exporter": "python",
   "pygments_lexer": "ipython3",
   "version": "3.11.5"
  }
 },
 "nbformat": 4,
 "nbformat_minor": 2
}
