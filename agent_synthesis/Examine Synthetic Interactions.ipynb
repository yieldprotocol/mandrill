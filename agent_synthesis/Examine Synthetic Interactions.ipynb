{
 "cells": [
  {
   "cell_type": "code",
   "execution_count": 48,
   "id": "66355fb3",
   "metadata": {},
   "outputs": [],
   "source": [
    "import pickle\n",
    "from collections import Counter\n",
    "import matplotlib.pyplot as plt\n",
    "from langchain.schema import HumanMessage, AIMessage, SystemMessage\n",
    "import json"
   ]
  },
  {
   "cell_type": "code",
   "execution_count": 3,
   "id": "8df7276c",
   "metadata": {},
   "outputs": [],
   "source": [
    "# Load existing multi-threaded Agent Interactions file that we will add new interactions to\n",
    "# Make sure to use the correct path to your .pkl file\n",
    "file_path = \"./synthetic/synthetic_agent_conversations.pkl\"\n",
    "\n",
    "# Open the file and load its contents into resulting_dicts\n",
    "with open(file_path, 'rb') as file:\n",
    "    resulting_dicts = pickle.load(file)\n"
   ]
  },
  {
   "cell_type": "code",
   "execution_count": 4,
   "id": "c2bed764",
   "metadata": {},
   "outputs": [
    {
     "data": {
      "text/plain": [
       "1204"
      ]
     },
     "execution_count": 4,
     "metadata": {},
     "output_type": "execute_result"
    }
   ],
   "source": [
    "len(resulting_dicts)"
   ]
  },
  {
   "cell_type": "code",
   "execution_count": 19,
   "id": "70cb47b2",
   "metadata": {},
   "outputs": [],
   "source": [
    "lengths = [len(x['conversation']) for x in resulting_dicts]"
   ]
  },
  {
   "cell_type": "code",
   "execution_count": 20,
   "id": "d7f6e56a",
   "metadata": {},
   "outputs": [],
   "source": [
    "# Counting the frequency of each length\n",
    "length_counts = Counter(lengths)"
   ]
  },
  {
   "cell_type": "code",
   "execution_count": 21,
   "id": "fb1c728b",
   "metadata": {},
   "outputs": [],
   "source": [
    "# Preparing data for plotting\n",
    "lengths_sorted = sorted(length_counts.keys())\n",
    "frequencies = [length_counts[length] for length in lengths_sorted]\n"
   ]
  },
  {
   "cell_type": "code",
   "execution_count": 22,
   "id": "b6dbf95c",
   "metadata": {},
   "outputs": [
    {
     "data": {
      "image/png": "[encoded data removed]",
      "text/plain": [
       "<Figure size 1000x600 with 1 Axes>"
      ]
     },
     "metadata": {},
     "output_type": "display_data"
    }
   ],
   "source": [
    "# Plotting\n",
    "plt.figure(figsize=(10, 6))\n",
    "plt.bar(lengths_sorted, frequencies, color='blue')\n",
    "plt.xlabel('Length')\n",
    "plt.ylabel('Frequency')\n",
    "plt.title('Frequency of Various Lengths')\n",
    "plt.xticks(lengths_sorted)\n",
    "plt.show()"
   ]
  },
  {
   "cell_type": "code",
   "execution_count": 13,
   "id": "ab0e82af",
   "metadata": {},
   "outputs": [
    {
     "data": {
      "text/plain": [
       "dict_keys([5])"
      ]
     },
     "execution_count": 13,
     "metadata": {},
     "output_type": "execute_result"
    }
   ],
   "source": [
    "length_counts.keys()"
   ]
  },
  {
   "cell_type": "code",
   "execution_count": 14,
   "id": "8cca7e56",
   "metadata": {},
   "outputs": [
    {
     "data": {
      "text/plain": [
       "{5}"
      ]
     },
     "execution_count": 14,
     "metadata": {},
     "output_type": "execute_result"
    }
   ],
   "source": [
    "set(lengths)"
   ]
  },
  {
   "cell_type": "code",
   "execution_count": 25,
   "id": "1e8a1f21",
   "metadata": {},
   "outputs": [],
   "source": [
    "long = [x for x in resulting_dicts if len(x['conversation']) > 17 and len(x['conversation']) != 41]"
   ]
  },
  {
   "cell_type": "code",
   "execution_count": 26,
   "id": "6b43daa6",
   "metadata": {},
   "outputs": [
    {
     "data": {
      "text/plain": [
       "51"
      ]
     },
     "execution_count": 26,
     "metadata": {},
     "output_type": "execute_result"
    }
   ],
   "source": [
    "len(long)"
   ]
  },
  {
   "cell_type": "code",
   "execution_count": 33,
   "id": "d13ac668",
   "metadata": {},
   "outputs": [],
   "source": [
    "good_chats = [x for x in resulting_dicts if len(x['conversation']) < 17 and len(x['conversation']) > 5 ]"
   ]
  },
  {
   "cell_type": "code",
   "execution_count": 34,
   "id": "726d4b33",
   "metadata": {},
   "outputs": [
    {
     "data": {
      "text/plain": [
       "637"
      ]
     },
     "execution_count": 34,
     "metadata": {},
     "output_type": "execute_result"
    }
   ],
   "source": [
    "len(good_chats)"
   ]
  },
  {
   "cell_type": "code",
   "execution_count": 35,
   "id": "4fd8c08e",
   "metadata": {},
   "outputs": [],
   "source": [
    "seven_chats = [x for x in resulting_dicts if len(x['conversation']) == 7 ]"
   ]
  },
  {
   "cell_type": "code",
   "execution_count": null,
   "id": "fd8a89f5",
   "metadata": {},
   "outputs": [],
   "source": []
  },
  {
   "cell_type": "markdown",
   "id": "984929cb",
   "metadata": {},
   "source": [
    "### Save Chats to PDF"
   ]
  },
  {
   "cell_type": "code",
   "execution_count": 27,
   "id": "50935d5f",
   "metadata": {},
   "outputs": [],
   "source": [
    "import html\n",
    "from IPython.display import HTML, display\n",
    "import pdfkit\n",
    "import html\n",
    "\n",
    "def format_single_chat(chat_data):\n",
    "    formatted_html = '<div style=\"border: 1px solid #ddd; padding: 10px; max-width: 1000px; margin-bottom: 20px;\">'\n",
    "\n",
    "    # Add task as a header\n",
    "    formatted_html += f'<h2>Task: {html.escape(chat_data[\"task\"])}</h2>'\n",
    "\n",
    "    # Add environment, io, and state with a smaller font on a neutral background\n",
    "    formatted_html += (\n",
    "        '<div style=\"background-color: #f7f7f7; padding: 10px; border-radius: 5px; font-size: 0.9em;\">'\n",
    "        f'<strong>Environment:</strong> {html.escape(chat_data[\"environment\"])}<br>'\n",
    "        f'<strong>IO:</strong> {html.escape(chat_data[\"io\"])}<br>'\n",
    "        f'<strong>State:</strong> {html.escape(chat_data[\"state\"])}'\n",
    "        '</div>'\n",
    "    )\n",
    "\n",
    "    # Loop through the conversation\n",
    "    for message in chat_data[\"conversation\"]:\n",
    "        # Depending on the message origin, use a different background color\n",
    "        bg_color = \"#f0f0f0\" if message.__class__.__name__ == \"HumanMessage\" else \"#d1e7fd\"\n",
    "        escaped_text = html.escape(message.content.strip())\n",
    "\n",
    "        formatted_html += (\n",
    "            f'<div style=\"background-color: {bg_color}; padding: 20px; '\n",
    "            'border-radius: 5px; margin: 20px 0;\">'\n",
    "            f'<strong>{message.__class__.__name__.replace(\"Message\", \"\")}:</strong> '\n",
    "            f'{escaped_text}'\n",
    "            '</div>'\n",
    "        )\n",
    "\n",
    "    formatted_html += '</div>'\n",
    "    return formatted_html\n",
    "\n",
    "def save_chats_to_pdf(list_of_chat_histories, filename):\n",
    "    combined_html = \"\"\n",
    "    for chat_history in list_of_chat_histories:\n",
    "        combined_html += format_single_chat(chat_history)\n",
    "    \n",
    "    # Generate PDF from the combined HTML content\n",
    "    pdfkit.from_string(combined_html, filename)\n"
   ]
  },
  {
   "cell_type": "code",
   "execution_count": 36,
   "id": "14e0b722",
   "metadata": {},
   "outputs": [],
   "source": [
    "save_chats_to_pdf(seven_chats, \"./synthetic/seven_chats.pdf\")"
   ]
  },
  {
   "cell_type": "markdown",
   "id": "0c4870d3",
   "metadata": {},
   "source": [
    "### Write good data to dataset"
   ]
  },
  {
   "cell_type": "code",
   "execution_count": 41,
   "id": "1ed1ea1c",
   "metadata": {},
   "outputs": [],
   "source": [
    "fixed = []\n",
    "for chat in good_chats:\n",
    "    conv = chat['conversation']\n",
    "    new_prompt = '####\\n'.join([conv[0].content, conv[1].content])\n",
    "    new_chat = [HumanMessage(content=new_prompt)] + conv[2:]\n",
    "    fixed.append(new_chat)"
   ]
  },
  {
   "cell_type": "code",
   "execution_count": null,
   "id": "c1e0f396",
   "metadata": {},
   "outputs": [],
   "source": []
  },
  {
   "cell_type": "code",
   "execution_count": 53,
   "id": "530e74f3",
   "metadata": {},
   "outputs": [],
   "source": [
    "conversations_ = []\n",
    "for chat in fixed :\n",
    "    conversation_ = []\n",
    "    for side in chat:\n",
    "        if side.type == \"human\":\n",
    "            side_type = \"human\"\n",
    "        else:\n",
    "            side_type = \"gpt\"\n",
    "        conversation_.append({\"from\": side_type, \"value\":side.content})\n",
    "    conversations_.append({\"conversations\":conversation_})\n",
    "        "
   ]
  },
  {
   "cell_type": "code",
   "execution_count": 54,
   "id": "c5e4211e",
   "metadata": {},
   "outputs": [
    {
     "data": {
      "text/plain": [
       "{'conversations': [{'from': 'human',\n",
       "   'value': '\\nInteract with a software environment to solve a task. Imagine you are an intelligent agent working for a user and your target is to perform actions to complete the task goal. At the beginning of your interactions, you will be given a detailed description of the current environment and your goal to accomplish. For each of your turns, you will be given a list of actions which you can choose one to perform in this turn. You should provide two parts of your response: \"THOUGHT\" and \"ACTION\". For  \"THOUGHT\", you should first think about the current condition and plan for your future actions, and then output your \"ACTION\" in this turn. Your output must strictly follow this format:\"THOUGHT: your thoughts.\\n ACTION: your next action \\n\"; For \"ACTION\", you should directly output the action this turn. Your output must strictly follow this format:\"ACTION: your next action\\n\". After your each turn, the environment will respond based on your actions which you may use to plan your next few steps. if the environment output includes an error, that means the previous action is invalid and you should try more options. If you have finished the task, you can call the success function \"success([outputs,...])\" with any final outputs.\\n Reminder: \\n1. the action must follow any formats requested\\n2. Think when necessary, try to act directly more in the process.\\nIf information is requested that you don\\'t have, you may use placeholder information, but please note the information when calling \"success()\". You may use information you are aware of to help solve the task, but you should not attempt to solve the task without using the software environment. \\n\\nSoftware Environment: Book Reservation System: The agent interacts with a simulated booking system to reserve flights, hotels, or restaurants based on criteria. Travel agents can adjust reservation details and monitor booking statuses.\\nYour Task: Book a flight for Mary Lewis from San Francisco to Sydney departing on 2023-01-20 and returning on 2023-02-10 with a budget of $1500.\\n####\\nWelcome to the Travel Book Reservation System! You can use this system to book flights, hotels, and restaurants based on your specific needs. \\n\\nTo start, you can send a JSON structured request specifying the type of reservation (flight, hotel, restaurant), and the relevant criteria for your booking. \\n\\nFor flight bookings, please provide information like destination, dates of travel, number of passengers, and budget. For hotel bookings, mention the location, check-in and check-out dates, number of people, room type, and budget. For restaurant bookings, specify the location, date, time, number of people, and any dietary restrictions.\\n\\nHere\\'s an example of a JSON request for booking a hotel:\\n```\\n{\\n  \"reservation_type\": \"hotel\",\\n  \"location\": \"New York\",\\n  \"check_in_date\": \"2022-10-01\",\\n  \"check_out_date\": \"2022-10-10\",\\n  \"number_of_people\": 2,\\n  \"room_type\": \"double_bed\",\\n  \"budget\": 1500,\\n  \"amenities\": [\"wifi\", \"breakfast\"]\\n}\\n```\\n\\nRemember to input your requests clearly and as per the expected format. If there\\'s any issue with your input, the system will return an error and guide you on how to correct the input.\\n\\nOnce your request is processed, you\\'ll receive a JSON response with available options for bookings. \\n\\nYou can also make adjustments to your current reservations or monitor the status of a specific booking by providing the relevant information.\\n\\nFeel free to start your journey with us whenever you\\'re ready!'},\n",
       "  {'from': 'gpt',\n",
       "   'value': 'THOUGHT: I need to book a flight for Mary Lewis. She will be traveling from San Francisco to Sydney. The departure date is 2023-01-20 and the return date is 2023-02-10. Her budget for the flight is $1500. I need to create a JSON request with these details to book the flight.\\n\\nACTION: \\n```\\n{\\n  \"reservation_type\": \"flight\",\\n  \"from\": \"San Francisco\",\\n  \"to\": \"Sydney\",\\n  \"departure_date\": \"2023-01-20\",\\n  \"return_date\": \"2023-02-10\",\\n  \"number_of_passengers\": 1,\\n  \"budget\": 1500\\n}\\n```'},\n",
       "  {'from': 'human',\n",
       "   'value': 'Thank you for your request. Here are some flight options that match your criteria:\\n\\n```\\n{\\n  \"booking_options\": [{\\n      \"flight_number\": \"QF74\",\\n      \"airline\": \"Qantas Airways\",\\n      \"departure_time\": \"2023-01-20 13:30\",\\n      \"arrival_time\": \"2023-01-21 21:45\",\\n      \"price\": 1400,\\n      \"available_seats\": 10,\\n      \"transfer\": \"Direct\"\\n    },\\n    {\\n      \"flight_number\": \"UA863\",\\n      \"airline\": \"United Airlines\",\\n      \"departure_time\": \"2023-01-20 14:00\",\\n      \"arrival_time\": \"2023-01-21 22:15\",\\n      \"price\": 1350,\\n      \"available_seats\": 8,\\n      \"transfer\": \"1 stop (Los Angeles)\"\\n    },\\n    {\\n      \"flight_number\": \"DL40\",\\n      \"airline\": \"Delta Air Lines\",\\n      \"departure_time\": \"2023-01-20 12:45\",\\n      \"arrival_time\": \"2023-01-21 21:00\",\\n      \"price\": 1450,\\n      \"available_seats\": 5,\\n      \"transfer\": \"Direct\"\\n    }\\n  ]\\n}\\n```\\n\\nYou can select any of these options by providing the flight number and airline. If you need to adjust any details or have more specific preferences, please let us know!'},\n",
       "  {'from': 'gpt',\n",
       "   'value': 'THOUGHT: There are three flight options that fit within Mary\\'s budget. The first option is a direct flight with Qantas Airways, the second option has a stop in Los Angeles with United Airlines, and the third option is a direct flight with Delta Air Lines. Given that Mary didn\\'t specify a preference for a direct flight or not, I will select the cheapest option which is the flight with United Airlines.\\n\\nACTION: \\n```\\n{\\n  \"flight_number\": \"UA863\",\\n  \"airline\": \"United Airlines\"\\n}\\n```'},\n",
       "  {'from': 'human',\n",
       "   'value': 'Great choice! You have selected flight UA863 with United Airlines. The flight is scheduled to depart from San Francisco on 2023-01-20 at 14:00 and arrive in Sydney on 2023-01-21 at 22:15. The flight has one stop in Los Angeles. The total price for this flight is $1350.\\n\\nHere\\'s the reservation details:\\n\\n```\\n{\\n  \"reservation_details\": {\\n    \"flight_number\": \"UA863\",\\n    \"airline\": \"United Airlines\",\\n    \"from\": \"San Francisco\",\\n    \"to\": \"Sydney\",\\n    \"departure_time\": \"2023-01-20 14:00\",\\n    \"arrival_time\": \"2023-01-21 22:15\",\\n    \"seat_number\": \"12A\",\\n    \"price\": 1350,\\n    \"booking_status\": \"Reserved\"\\n  }\\n}\\n```\\n\\nYour seat number is 12A. Please note that your reservation details including the booking status and seat number will be available in your account. If you need to adjust the reservation or if you have any other requests, feel free to let us know!'},\n",
       "  {'from': 'gpt',\n",
       "   'value': 'THOUGHT: The reservation has been successfully made for the flight UA863 with United Airlines. The seat number for Mary Lewis is 12A and the total price is $1350, which is within her budget. The booking status is \"Reserved\". I can now conclude the task as successful.\\n\\nACTION: success({\\n  \"reservation_details\": {\\n    \"flight_number\": \"UA863\",\\n    \"airline\": \"United Airlines\",\\n    \"from\": \"San Francisco\",\\n    \"to\": \"Sydney\",\\n    \"departure_time\": \"2023-01-20 14:00\",\\n    \"arrival_time\": \"2023-01-21 22:15\",\\n    \"seat_number\": \"12A\",\\n    \"price\": 1350,\\n    \"booking_status\": \"Reserved\"\\n  }\\n})'}]}"
      ]
     },
     "execution_count": 54,
     "metadata": {},
     "output_type": "execute_result"
    }
   ],
   "source": [
    "conversations_[0]"
   ]
  },
  {
   "cell_type": "code",
   "execution_count": 55,
   "id": "d39b8241",
   "metadata": {},
   "outputs": [],
   "source": [
    "with open('./synthetic/syn_env_filtered.jsonl', 'w') as file:\n",
    "    for conversation in conversations_:\n",
    "        json_str = json.dumps(conversation)\n",
    "        file.write(json_str + \"\\n\")"
   ]
  },
  {
   "cell_type": "code",
   "execution_count": null,
   "id": "ebc208b6",
   "metadata": {},
   "outputs": [],
   "source": []
  }
 ],
 "metadata": {
  "kernelspec": {
   "display_name": "Python 3 (ipykernel)",
   "language": "python",
   "name": "python3"
  },
  "language_info": {
   "codemirror_mode": {
    "name": "ipython",
    "version": 3
   },
   "file_extension": ".py",
   "mimetype": "text/x-python",
   "name": "python",
   "nbconvert_exporter": "python",
   "pygments_lexer": "ipython3",
   "version": "3.11.4"
  }
 },
 "nbformat": 4,
 "nbformat_minor": 5
}
