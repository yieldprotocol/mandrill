{
 "cells": [
  {
   "cell_type": "code",
   "execution_count": 1,
   "metadata": {},
   "outputs": [
    {
     "name": "stdout",
     "output_type": "stream",
     "text": [
      "Collecting fpdf\n",
      "  Downloading fpdf-1.7.2.tar.gz (39 kB)\n",
      "  Preparing metadata (setup.py): started\n",
      "  Preparing metadata (setup.py): finished with status 'done'\n",
      "Building wheels for collected packages: fpdf\n",
      "  Building wheel for fpdf (setup.py): started\n",
      "  Building wheel for fpdf (setup.py): finished with status 'done'\n",
      "  Created wheel for fpdf: filename=fpdf-1.7.2-py2.py3-none-any.whl size=40713 sha256=041f1fc73b51af3b1a1ccb80c67cd920b438e71642a6ccd70f14182432edc471\n",
      "  Stored in directory: c:\\users\\harsh\\appdata\\local\\pip\\cache\\wheels\\65\\4f\\66\\bbda9866da446a72e206d6484cd97381cbc7859a7068541c36\n",
      "Successfully built fpdf\n",
      "Installing collected packages: fpdf\n",
      "Successfully installed fpdf-1.7.2\n"
     ]
    },
    {
     "name": "stderr",
     "output_type": "stream",
     "text": [
      "\n",
      "[notice] A new release of pip is available: 23.3 -> 23.3.2\n",
      "[notice] To update, run: python.exe -m pip install --upgrade pip\n"
     ]
    }
   ],
   "source": [
    "!pip install fpdf\n"
   ]
  },
  {
   "cell_type": "code",
   "execution_count": 9,
   "metadata": {},
   "outputs": [],
   "source": [
    "import json\n",
    "from fpdf import FPDF\n",
    "\n",
    "class PDF(FPDF):\n",
    "    def header(self):\n",
    "        self.set_font('Arial', 'B', 12)\n",
    "        self.cell(0, 10, 'Conversation Transcript', 0, 1, 'C')\n",
    "\n",
    "    def footer(self):\n",
    "        self.set_y(-15)\n",
    "        self.set_font('Arial', 'I', 8)\n",
    "        self.cell(0, 10, f'Page {self.page_no()}', 0, 0, 'C')\n",
    "\n",
    "# Function to convert JSONL to PDF with new page for each line\n",
    "def jsonl_to_pdf(jsonl_file_path, pdf_file_path):\n",
    "    # Initialize PDF\n",
    "    pdf = PDF()\n",
    "    pdf.set_font(\"Arial\", size = 12)\n",
    "    pdf.set_auto_page_break(auto = True, margin = 15)\n",
    "\n",
    "    # Process each line in the JSONL file\n",
    "    with open(jsonl_file_path, 'r') as file:\n",
    "        for line in file:\n",
    "            pdf.add_page()  # Start a new page for each line\n",
    "            data = json.loads(line)\n",
    "            conversation = data.get(\"conversations\", [])\n",
    "            for message in conversation:\n",
    "                from_person = message.get(\"from\", \"\")\n",
    "                value = message.get(\"value\", \"\")\n",
    "                text = f\"{from_person}: {value}\"\n",
    "                fill_color = (224, 235, 255) if from_person == 'human' else (255, 224, 224)\n",
    "                pdf.set_fill_color(*fill_color)\n",
    "                pdf.multi_cell(0, 10, text, fill=True)\n",
    "                pdf.ln(10)  # Move to next line after multi_cell\n",
    "\n",
    "    # Output the PDF\n",
    "    pdf.output(pdf_file_path)\n",
    "\n",
    "# Example usage\n",
    "jsonl_to_pdf('./synthetic-3/language_commands_syn.jsonl', \"./synthetic-3/language_commands_syn.pdf\")"
   ]
  },
  {
   "cell_type": "code",
   "execution_count": 51,
   "metadata": {},
   "outputs": [],
   "source": [
    "import json\n",
    "from fpdf import FPDF\n",
    "\n",
    "class PDF(FPDF):\n",
    "    def header(self):\n",
    "        self.set_font('DejaVu', 'B', 12)\n",
    "        self.cell(0, 10, 'Conversation Transcript', 0, 1, 'C')\n",
    "\n",
    "    def footer(self):\n",
    "        self.set_y(-15)\n",
    "        self.set_font('DejaVu', 'I', 8)\n",
    "        self.cell(0, 10, f'Page {self.page_no()}', 0, 0, 'C')\n",
    "\n",
    "def jsonl_to_pdf(jsonl_file_path, pdf_file_path):\n",
    "    pdf = PDF()\n",
    "    # Add regular, bold, and italic variants of the DejaVu font\n",
    "    pdf.add_font('DejaVu', '', 'DejaVuSansCondensed.ttf', uni=True)\n",
    "    pdf.add_font('DejaVu', 'B', 'DejaVuSansCondensed-Bold.ttf', uni=True)\n",
    "    pdf.add_font('DejaVu', 'I', 'DejaVuSansCondensed-Oblique.ttf', uni=True)\n",
    "    pdf.set_font('DejaVu', size=12)\n",
    "    pdf.set_auto_page_break(auto=True, margin=15)\n",
    "\n",
    "    with open(jsonl_file_path, 'r', encoding='utf-8') as file:\n",
    "        for line in file:\n",
    "            data = json.loads(line)\n",
    "            data = data[\"output\"]\n",
    "            conversation = data.get(\"history\", [])\n",
    "            result = \"correct\" if data['result']['result'] == True else \"incorrect\" \n",
    "            \n",
    "            pdf.add_page()\n",
    "            for message in conversation:\n",
    "                from_person = message.get(\"role\", \"\")\n",
    "                value = message.get(\"content\", \"\")\n",
    "                text = f\"{from_person}: {value}\"\n",
    "                fill_color = (224, 235, 255) if from_person == 'user' else (255, 224, 224)\n",
    "                pdf.set_fill_color(*fill_color)\n",
    "                pdf.multi_cell(0, 10, text, fill=True)\n",
    "                pdf.ln(10)\n",
    "            \n",
    "            pdf.set_fill_color(200, 200, 200)  # light gray background for the result\n",
    "            pdf.multi_cell(0, 10, f\"Result: {result}\", fill=True)\n",
    "            pdf.ln(5)\n",
    "    pdf.output(pdf_file_path)\n",
    "\n",
    "# Example usage\n",
    "jsonl_to_pdf(r\"C:\\Users\\harsh\\Downloads\\llama2_13b_os_dev-feedback.jsonl\", \"./synthetic-3/llama2_13b_os_dev-feedback.pdf\")\n"
   ]
  },
  {
   "cell_type": "code",
   "execution_count": 52,
   "metadata": {},
   "outputs": [
    {
     "name": "stdout",
     "output_type": "stream",
     "text": [
      "6 18\n"
     ]
    }
   ],
   "source": [
    "data = []\n",
    "correct, incorrect = 0, 0\n",
    "with open(r\"C:\\Users\\harsh\\Downloads\\llama2_13b_os_dev-feedback.jsonl\", 'r', encoding='utf-8') as file:\n",
    "    for line in file:\n",
    "        data.append(json.loads(line))\n",
    "        if json.loads(line)['output']['result']['result']==True: \n",
    "            correct += 1\n",
    "        else:\n",
    "            incorrect += 1 \n",
    "        \n",
    "print(correct, incorrect)"
   ]
  },
  {
   "cell_type": "code",
   "execution_count": 53,
   "metadata": {},
   "outputs": [
    {
     "data": {
      "text/plain": [
       "0.23076923076923078"
      ]
     },
     "execution_count": 53,
     "metadata": {},
     "output_type": "execute_result"
    }
   ],
   "source": [
    "6/26"
   ]
  }
 ],
 "metadata": {
  "kernelspec": {
   "display_name": "base",
   "language": "python",
   "name": "python3"
  },
  "language_info": {
   "codemirror_mode": {
    "name": "ipython",
    "version": 3
   },
   "file_extension": ".py",
   "mimetype": "text/x-python",
   "name": "python",
   "nbconvert_exporter": "python",
   "pygments_lexer": "ipython3",
   "version": "3.11.5"
  }
 },
 "nbformat": 4,
 "nbformat_minor": 2
}
