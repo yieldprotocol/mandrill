{
 "cells": [
  {
   "cell_type": "code",
   "execution_count": 1,
   "id": "9ba27ba6",
   "metadata": {},
   "outputs": [],
   "source": [
    "from IPython.display import HTML, display\n",
    "from copy import deepcopy\n",
    "import random\n",
    "import os\n",
    "import openai\n",
    "import time\n",
    "import sys\n",
    "import ast\n",
    "import json\n",
    "\n",
    "from langchain.llms import OpenAI\n",
    "from langchain.chat_models import ChatOpenAI\n",
    "from langchain.schema import HumanMessage, AIMessage, SystemMessage\n",
    "from getpass import getpass\n",
    "import os\n",
    "import pandas as pd\n",
    "\n",
    "import pdfkit\n",
    "import html\n",
    "from copy import deepcopy\n"
   ]
  },
  {
   "cell_type": "code",
   "execution_count": 2,
   "id": "d3ba8313",
   "metadata": {},
   "outputs": [
    {
     "name": "stdout",
     "output_type": "stream",
     "text": [
      "········\n"
     ]
    }
   ],
   "source": [
    "# setting up an OpenAI template on the run\n",
    "OPENAI_API_KEY = getpass()\n",
    "\n",
    "os.environ['OPENAI_API_KEY'] = OPENAI_API_KEY"
   ]
  },
  {
   "cell_type": "markdown",
   "id": "9b479fbf",
   "metadata": {},
   "source": [
    "### Setup Model"
   ]
  },
  {
   "cell_type": "code",
   "execution_count": 3,
   "id": "e2f84628",
   "metadata": {},
   "outputs": [],
   "source": [
    "model = ChatOpenAI(model=\"gpt-4-0613\")\n",
    "model.temperature = 0.8"
   ]
  },
  {
   "cell_type": "code",
   "execution_count": 4,
   "id": "a0def2ef",
   "metadata": {},
   "outputs": [
    {
     "data": {
      "text/plain": [
       "NoneType"
      ]
     },
     "execution_count": 4,
     "metadata": {},
     "output_type": "execute_result"
    }
   ],
   "source": [
    "type(model.max_tokens)"
   ]
  },
  {
   "cell_type": "markdown",
   "id": "cc54f5d3",
   "metadata": {},
   "source": [
    "### Input and Output Modeling"
   ]
  },
  {
   "cell_type": "code",
   "execution_count": 24,
   "id": "0840468b",
   "metadata": {},
   "outputs": [],
   "source": [
    "environment_design_prompt = '''\n",
    "Help me design an environment for agents to interact in. I will give you an environment idea, and you will spend some time thinking about how it could work. The environment will be entirely text-based, and turn based, and the user will be expected to try to complete an action in that environment. The user will be an AI agent acting on behalf of a user. You will need to specify a reasonable output format that can convey the information of the environment, and an input format that can give the user the power to use the environment to the fullest. \n",
    "\n",
    "Here are some examples (but you can do better):\n",
    "Example 1: Web-browser accessing company intranet\n",
    "Outputs: Outputs simplified HTML (CSS and Javascript removed, HTML edited to focus on content)\n",
    "Inputs: Python code that uses the playwright library to direct the browser\n",
    "\n",
    "Example 2: Computer Network Management System\n",
    "Outputs: Command line output using output from tools like Cisco IOS, nmap, snmpwalk, lldp, iptables, ntopng, wireshark, openvpn, wireguard, isc dhcp server, etc.\n",
    "Inputs: Command Line Inputs and files, such as,\n",
    "JSON configurations for bulk configuration.\n",
    "YAML configurations.\n",
    "Infrastructure-as-code files.\n",
    "Initial Capabilities Displayed by SNMS:\n",
    "ADD_DEVICE: Add a device to the virtual network.\n",
    "CONFIGURE_DEVICE: Configure a device in the virtual network.\n",
    "SHOW_NETWORK: Display current network topology.\n",
    "PING: Test connectivity between two devices.\n",
    "SAVE_CONFIG: Save configuration of devices.\n",
    "ASK_QUESTION: Pose a natural language question about capabilities.\n",
    "\n",
    "Example 3: Flight Booking System\n",
    "Outputs: XML outputs in proprietary format [you should provide more detail than this]\n",
    "Inputs: JSON Inputs in proprietary format  [you should provide more detail than this]\n",
    "-------\n",
    "Your description of the Outputs and Inputs should be high level (we will get into further detail later) BUT MUST BE AS SPECIFIC AS POSSIBLE (Please no \"it could be JSON or XML\"). Also, you can assume that the inputs include some mechanism for querying the documentation of the input format in natural language. \n",
    "\n",
    "Your output format:\n",
    "Outputs: [The output format that would be used]\n",
    "Inputs: [The input format that would be used]\n",
    "\n",
    "Your environment to design:\n",
    "{}\n",
    "'''"
   ]
  },
  {
   "cell_type": "code",
   "execution_count": 5,
   "id": "5b6aa27a",
   "metadata": {},
   "outputs": [],
   "source": [
    "environment_example = '''\n",
    "Recipe Query System: The agent can search for and suggest recipes based on available ingredients.\n",
    "'''"
   ]
  },
  {
   "cell_type": "code",
   "execution_count": 7,
   "id": "5286fb70",
   "metadata": {},
   "outputs": [],
   "source": [
    "design_prompt_filled = environment_design_prompt.format(environment_example)\n",
    "design_messages = [\n",
    "        HumanMessage(content=design_prompt_filled)\n",
    "    ]\n",
    "environment_design_result = model.predict_messages(design_messages)"
   ]
  },
  {
   "cell_type": "code",
   "execution_count": 37,
   "id": "eedab65b",
   "metadata": {},
   "outputs": [
    {
     "name": "stdout",
     "output_type": "stream",
     "text": [
      "Outputs: The output format could be a JSON file for each recipe result that includes the recipe name, ingredients, cooking instructions, cooking time, and associated images URL. This would allow the agent to easily parse the information and present it to the user in a readable format. Suppose a user is searching for a recipe that can be made with chicken and broccoli. An example of the output could be:\n",
      "\n",
      "{\n",
      "    \"recipeName\": \"Chicken and Broccoli Stir-fry\",\n",
      "    \"ingredients\": [\"Chicken\", \"Broccoli\", \"Soy Sauce\", \"Garlic\", \"Ginger\"],\n",
      "    \"instructions\": \"1. Heat pan and add oil. 2. Add garlic and ginger...\",\n",
      "    \"cookingTime\": \"35 minutes\",\n",
      "    \"imageURL\": \"http://example.com/path_to_image\"\n",
      "}\n",
      "\n",
      "Inputs: The input format could be a JSON file where the agent can specify the ingredients that the user has available. The system should also accept additional parameters such as dietary restrictions, cuisine preference etc. An example of the input could be:\n",
      "\n",
      "{\n",
      "    \"ingredients\": [\"Chicken\", \"Broccoli\"],\n",
      "    \"diet\": \"Keto\",\n",
      "    \"cuisine\": \"Chinese\"\n",
      "}\n"
     ]
    }
   ],
   "source": [
    "inputs_and_outputs = environment_design_result.content\n",
    "print(inputs_and_outputs)"
   ]
  },
  {
   "cell_type": "code",
   "execution_count": 11,
   "id": "35fb1adc",
   "metadata": {},
   "outputs": [],
   "source": [
    "e_d_output, e_d_input = environment_design_result.content.split(\"Inputs: \")"
   ]
  },
  {
   "cell_type": "code",
   "execution_count": 13,
   "id": "6ce7346a",
   "metadata": {},
   "outputs": [],
   "source": [
    "e_d_output = e_d_output.lstrip(\"Outputs: \")"
   ]
  },
  {
   "cell_type": "code",
   "execution_count": 14,
   "id": "02607a0f",
   "metadata": {},
   "outputs": [
    {
     "data": {
      "text/plain": [
       "'The output format could be a JSON file for each recipe result that includes the recipe name, ingredients, cooking instructions, cooking time, and associated images URL. This would allow the agent to easily parse the information and present it to the user in a readable format. Suppose a user is searching for a recipe that can be made with chicken and broccoli. An example of the output could be:\\n\\n{\\n    \"recipeName\": \"Chicken and Broccoli Stir-fry\",\\n    \"ingredients\": [\"Chicken\", \"Broccoli\", \"Soy Sauce\", \"Garlic\", \"Ginger\"],\\n    \"instructions\": \"1. Heat pan and add oil. 2. Add garlic and ginger...\",\\n    \"cookingTime\": \"35 minutes\",\\n    \"imageURL\": \"http://example.com/path_to_image\"\\n}\\n\\n'"
      ]
     },
     "execution_count": 14,
     "metadata": {},
     "output_type": "execute_result"
    }
   ],
   "source": [
    "e_d_output"
   ]
  },
  {
   "cell_type": "markdown",
   "id": "3be83860",
   "metadata": {},
   "source": [
    "#### Get a list of Tasks"
   ]
  },
  {
   "cell_type": "code",
   "execution_count": 25,
   "id": "fc14595e",
   "metadata": {},
   "outputs": [],
   "source": [
    "tasks_generation_prompt = '''Consider the following software environment: {}\n",
    "\n",
    "The environment has the following inputs and outputs:\n",
    "{}\n",
    "\n",
    "---------\n",
    "Can you think of a long list of twenty-five tasks that can be executed in that environment? Your character limit has been turned off. \n",
    "\n",
    "It's important that the tasks are diverse and use all of the possible features of the environment. Tasks should be specific (\"Check out a science fiction book on rockets for Maryann Bray\" versus \"Check out a book\", \"Find available properties near State and Lake in Chicago under $1000/month\" versus \"Find available properties\") and should include any information reasonably needed to complete the task (If the task is a dinner reservation, it should include the number of diners). By making the tasks VERY DETAILED, it should be easier to make a long list of twenty five of them. Each task should be for a different end user. Avoid generic names for things (John Doe, Acme Corporation), be creative. \n",
    "\n",
    "For each task, include a plain text description of the software state. Software state can include things such as data or knowledge that it may have, pages or screens it may use, history of previous actions, users data, etc. depending on the environment  that the user would encounter in that task. (Like,  if the task is to find the email address of Sally Smith from an employee directory on a company intranet, then the software state would include \"the Intranet environment includes an employee directory with Sally Smith in it\"). THE SOFTWARE STATE CAN BE VERBOSE AND SHOULD NOT REFERENCE THE TASK OR ASSUME THE  READER OF THE TASK IS PROVIDED WITH THE STATE. Format in json like this: {{\"task\": \"[task]\",\"state\":\"[state]\"\\}}, etc. I'd love a list of like twenty-five tasks and states.\n",
    "\n",
    "'''"
   ]
  },
  {
   "cell_type": "code",
   "execution_count": 32,
   "id": "7ba9c016",
   "metadata": {},
   "outputs": [],
   "source": [
    "tasks_generation_filled = tasks_generation_prompt.format(environment_example, environment_design_result.content)\n",
    "tasks_generation_messages = [\n",
    "        HumanMessage(content=tasks_generation_filled)\n",
    "    ]\n",
    "tasks_generation_result = model.predict_messages(tasks_generation_messages)"
   ]
  },
  {
   "cell_type": "code",
   "execution_count": null,
   "id": "881a9b64",
   "metadata": {},
   "outputs": [],
   "source": []
  },
  {
   "cell_type": "code",
   "execution_count": 33,
   "id": "856a1c75",
   "metadata": {},
   "outputs": [],
   "source": [
    "import re\n",
    "pattern = r'\\{[^}]*\\}'\n",
    "\n",
    "matches = re.findall(pattern, tasks_generation_result.content)\n",
    "\n",
    "tasks_and_state = []\n",
    "for match in matches:\n",
    "    tasks_and_state.append(match)"
   ]
  },
  {
   "cell_type": "code",
   "execution_count": 34,
   "id": "7ed6c768",
   "metadata": {},
   "outputs": [
    {
     "data": {
      "text/plain": [
       "['{\"task\":\"Find a vegan recipe using only carrots and potatoes\",\"state\":\"The software has a database of recipes and can filter based on ingredients and dietary preferences.\"}',\n",
       " '{\"task\":\"Find a gluten-free dessert recipe that can be cooked in under 30 minutes\",\"state\":\"The software can search through a recipe database, filtering by dietary restrictions, dish types, and cooking time.\"}',\n",
       " '{\"task\":\"Find a Keto diet recipe that uses beef and is of Mexican cuisine\",\"state\":\"The software is connected to a recipe database that can filter based on cuisine, diet, and ingredients.\"}',\n",
       " '{\"task\":\"Find a seafood recipe that doesn\\'t include shellfish\",\"state\":\"The software has a recipe database with detailed ingredient lists and can exclude certain ingredients in its search.\"}',\n",
       " '{\"task\":\"Find a pasta recipe that can be made using only pantry staples\",\"state\":\"The software has a recipe database and can suggest recipes based on the ingredients provided.\"}',\n",
       " '{\"task\":\"Find an egg-free breakfast recipe\",\"state\":\"The software is connected to a recipe database that can filter based on dietary restrictions and meal types.\"}',\n",
       " '{\"task\":\"Find a vegan recipe using coconut milk and curry powder\",\"state\":\"The software has a database of recipes and can filter based on ingredients and dietary preferences.\"}',\n",
       " '{\"task\":\"Find a French cuisine dessert recipe that doesn\\'t include dairy\",\"state\":\"The software can search through a recipe database, filtering by dietary restrictions and cuisine.\"}',\n",
       " '{\"task\":\"Find a Mediterranean diet recipe that uses olives and is under 500 calories\",\"state\":\"The software is connected to a recipe database that can filter based on cuisine, diet, ingredients, and calorie count.\"}',\n",
       " '{\"task\":\"Find a Paleo diet lunch recipe that can be prepared in under 20 minutes\",\"state\":\"The software is connected to a recipe database that can filter recipes based on diet, meal type, and preparation time.\"}',\n",
       " '{\"task\":\"Find a vegetarian dinner recipe that uses tofu and is of Italian cuisine\",\"state\":\"The software has a database of recipes and can filter based on ingredients, dietary preference, meal type, and cuisine.\"}',\n",
       " '{\"task\":\"Find a recipe using only ingredients available in a standard American kitchen\",\"state\":\"The software has a recipe database and can suggest recipes based on the ingredients provided.\"}',\n",
       " '{\"task\":\"Find a low-carb recipe that uses chicken and is of Greek cuisine\",\"state\":\"The software is connected to a recipe database that can filter based on ingredients, diet, and cuisine.\"}',\n",
       " '{\"task\":\"Find a gluten-free dinner recipe that can be cooked in a slow cooker\",\"state\":\"The software can search through a recipe database, filtering by dietary restrictions, cooking method, and meal type.\"}',\n",
       " '{\"task\":\"Find a dairy-free soup recipe that can be prepared in under an hour\",\"state\":\"The software is connected to a recipe database that can filter recipes based on dietary restrictions, meal type, and cooking time.\"}',\n",
       " '{\"task\":\"Find a vegan snack recipe that uses nuts and can be prepared in advance\",\"state\":\"The software has a database of recipes and can filter based on ingredients, dietary preference, and preparation requirements.\"}',\n",
       " '{\"task\":\"Find a recipe for a dairy-free, gluten-free birthday cake\",\"state\":\"The software can search through a recipe database, filtering by dietary restrictions and dish types.\"}',\n",
       " '{\"task\":\"Find a low-sodium lunch recipe that uses canned tuna\",\"state\":\"The software is connected to a recipe database that can filter based on ingredients, dietary restrictions, and meal type.\"}',\n",
       " '{\"task\":\"Find an egg-free bread recipe that doesn\\'t require a bread machine\",\"state\":\"The software can search through a recipe database, filtering by dietary restrictions, dish types, and cooking method.\"}',\n",
       " '{\"task\":\"Find a high-protein breakfast recipe that uses oats\",\"state\":\"The software has a database of recipes and can filter based on ingredients and nutritional requirements.\"}',\n",
       " '{\"task\":\"Find a kid-friendly dinner recipe that uses ground turkey\",\"state\":\"The software is connected to a recipe database that can filter recipes based on ingredients and appropriateness for children.\"}',\n",
       " '{\"task\":\"Find a vegetarian lunch recipe that uses quinoa and is under 300 calories\",\"state\":\"The software can search through a recipe database, filtering by dietary restrictions, ingredients, meal type, and calorie count.\"}',\n",
       " '{\"task\":\"Find a gluten-free, nut-free dessert recipe\",\"state\":\"The software can search through a recipe database, filtering by dietary restrictions and dish types.\"}',\n",
       " '{\"task\":\"Find a Keto diet dinner recipe that uses salmon and can be cooked on a grill\",\"state\":\"The software is connected to a recipe database that can filter recipes based on diet, ingredients, meal type, and cooking method.\"}',\n",
       " '{\"task\":\"Find a Paleo diet snack recipe that uses bananas and can be prepared in advance\",\"state\":\"The software has a database of recipes and can filter based on ingredients, diet, and preparation requirements.\"}']"
      ]
     },
     "execution_count": 34,
     "metadata": {},
     "output_type": "execute_result"
    }
   ],
   "source": [
    "tasks_and_state"
   ]
  },
  {
   "cell_type": "markdown",
   "id": "30890841",
   "metadata": {},
   "source": [
    "#### Create a conversation"
   ]
  },
  {
   "cell_type": "code",
   "execution_count": 5,
   "id": "64fde313",
   "metadata": {},
   "outputs": [],
   "source": [
    "environment_prompt_template = '''\n",
    "You will simulate a software enviroment that can be used by a user or agent. You will simulate the following software environment:\n",
    "{}\n",
    "\n",
    "The following information explains the expectations about inputs and outputs of the environment:\n",
    "{}\n",
    "\n",
    "You should do your absolute best to interact with the user as if you are the given environment. You should NOT act as if you are chatGPT, GPT-4, or any other AI agent. The goal is to make a convincing simulation. Below you are given information about the state of the environment:\n",
    "{}\n",
    "\n",
    "When acting as the environment, you may make up any data or information you need, as long as it is consistent with the state and the user actions. You should prefer realistic data and responses over “example” data that is generic (“Matthew Harris” is better than “John Doe”, “Carter Products” is better than “Acme Products”). Your outputs should ALWAYS be consistent with the expectations about outputs!\n",
    "\n",
    "In any situation where the inputs from the user are incomplete, unrecognized, or not as per the expected format for the software environment, you should return an error and generic information about how inputs of the given type may be presented. \n",
    "\n",
    "Please start with an opening message from the software environment to the user with a basic explanation of how to begin using the software environment.\n",
    "'''\n",
    "\n",
    "\n",
    "agent_prompt_template = '''\n",
    "Interact with a software environment to solve a task. Imagine you are an intelligent agent working for a user and your target is to perform actions to complete the task goal. At the beginning of your interactions, you will be given a detailed description of the current environment and your goal to accomplish. For each of your turns, you will be given a list of actions which you can choose one to perform in this turn. You should provide two parts of your response: \"THOUGHT\" and \"ACTION\". For  \"THOUGHT\", you should first think about the current condition and plan for your future actions, and then output your \"ACTION\" in this turn. Your output must strictly follow this format:\"THOUGHT: your thoughts.\n",
    " ACTION: your next action \n",
    "\"; For \"ACTION\", you should directly output the action this turn. Your output must strictly follow this format:\"ACTION: your next action\n",
    "\". After your each turn, the environment will respond based on your actions which you may use to plan your next few steps. if the environment output includes an error, that means the previous action is invalid and you should try more options. If you have finished the task, you can call the success function \"success([outputs,...])\" with any final outputs.\n",
    " Reminder: \n",
    "1. the action must follow any formats requested\n",
    "2. Think when necessary, try to act directly more in the process.\n",
    "If information is requested that you don't have, you may use placeholder information, but please note the information when calling \"success()\". You may use information you are aware of to help solve the task, but you should not attempt to solve the task without using the software environment. \n",
    "\n",
    "Software Environment: {}\n",
    "Your Task: {}\n",
    "'''"
   ]
  },
  {
   "cell_type": "code",
   "execution_count": 61,
   "id": "3c2322b7",
   "metadata": {},
   "outputs": [],
   "source": [
    "the_task = eval(tasks_and_state[0])['task']\n",
    "the_state = eval(tasks_and_state[0])['state']"
   ]
  },
  {
   "cell_type": "code",
   "execution_count": 62,
   "id": "cb555c5c",
   "metadata": {},
   "outputs": [],
   "source": [
    "environment_prompt = environment_prompt_template.format(environment_example, inputs_and_outputs, the_state)\n",
    "agent_prompt = agent_prompt_template.format(environment_example, the_task)\n",
    "\n",
    "\n",
    "agent_messages = [\n",
    "    HumanMessage(content=agent_prompt),\n",
    "]\n",
    "\n",
    "environment_messages = [\n",
    "    HumanMessage(content=environment_prompt)\n",
    "]"
   ]
  },
  {
   "cell_type": "code",
   "execution_count": 63,
   "id": "891f7ad9",
   "metadata": {},
   "outputs": [
    {
     "name": "stdout",
     "output_type": "stream",
     "text": [
      "Welcome to Recipe Query System. To get started, you can provide a list of ingredients you have on hand, and we will suggest a recipe for you. You can also specify dietary restrictions or cuisine preferences. Please input your information in the following format:\n",
      "\n",
      "{\n",
      "    \"ingredients\": [\"Ingredient1\", \"Ingredient2\"],\n",
      "    \"diet\": \"YourDiet\",\n",
      "    \"cuisine\": \"YourPreferredCuisine\"\n",
      "}\n",
      "\n",
      "Once the request is processed, you will receive a JSON response with the recipe name, ingredients, cooking instructions, cooking time, and associated images URL. Let's cook something delicious!\n",
      "THOUGHT: I need to structure the request to the Recipe Query System with carrots and potatoes as the ingredients, and specify the diet as vegan.\n",
      "\n",
      "ACTION: \n",
      "{\n",
      "    \"ingredients\": [\"carrots\", \"potatoes\"],\n",
      "    \"diet\": \"vegan\",\n",
      "    \"cuisine\": \"\"\n",
      "}\n",
      "{\n",
      "    \"recipeName\": \"Vegan Carrot and Potato Soup\",\n",
      "    \"ingredients\": [\"Carrots\", \"Potatoes\", \"Vegetable Stock\", \"Garlic\", \"Onion\", \"Salt\", \"Pepper\", \"Olive Oil\"],\n",
      "    \"instructions\": \"1. Peel and chop the carrots and potatoes. 2. In a large pot, heat the olive oil over medium heat. Add the onions and garlic, cook until soft. 3. Add the carrots, potatoes, and vegetable stock. Bring to a boil, then reduce heat and simmer until vegetables are tender. 4. Use a blender to puree the soup until smooth. 5. Season with salt and pepper to taste. Enjoy your Vegan Carrot and Potato Soup!\",\n",
      "    \"cookingTime\": \"45 minutes\",\n",
      "    \"imageURL\": \"http://example.com/Vegan_Carrot_Potato_Soup.jpg\"\n",
      "}\n",
      "THOUGHT: The Recipe Query System has provided a suitable recipe, the \"Vegan Carrot and Potato Soup\". The recipe includes a list of ingredients, instructions, cooking time, and an image URL. However, it contains more ingredients than I initially requested, but these are basic ingredients that are likely to be available at the user's home. \n",
      "\n",
      "ACTION: \n",
      "success([\"Vegan Carrot and Potato Soup\", \"http://example.com/Vegan_Carrot_Potato_Soup.jpg\"])\n"
     ]
    }
   ],
   "source": [
    "num_turns = 10\n",
    "\n",
    "for i in range(num_turns):\n",
    "    environment_result = model.predict_messages(environment_messages)\n",
    "    environment_messages.append(environment_result)\n",
    "    print(environment_result.content)\n",
    "    agent_messages.append(HumanMessage(content=environment_result.content))\n",
    "    agent_response = model.predict_messages(agent_messages)\n",
    "    print(agent_response.content)\n",
    "    agent_result = agent_response.content.split(\"ACTION:\")[1].strip()\n",
    "    environment_messages.append(HumanMessage(content=agent_result))\n",
    "    agent_messages.append(agent_response)\n",
    "    if \"success(\" in agent_result:\n",
    "        break\n"
   ]
  },
  {
   "cell_type": "markdown",
   "id": "4bd23b97",
   "metadata": {},
   "source": [
    "#### Create several conversations"
   ]
  },
  {
   "cell_type": "code",
   "execution_count": 67,
   "id": "909bd543",
   "metadata": {},
   "outputs": [
    {
     "name": "stdout",
     "output_type": "stream",
     "text": [
      "Task: Find a vegan recipe using only carrots and potatoes\n",
      "Welcome to Recipe Query System! This software is designed to help you discover recipes based on available ingredients. To get started, please provide a list of ingredients that you have on hand in a JSON format. You can also specify other preferences like diet restrictions and cuisine type. Here's an example of the input format:\n",
      "\n",
      "{\n",
      "    \"ingredients\": [\"Chicken\", \"Broccoli\"],\n",
      "    \"diet\": \"Keto\",\n",
      "    \"cuisine\": \"Chinese\"\n",
      "}\n",
      "\n",
      "After receiving your input, the system will search a comprehensive database of recipes and return the best matches. The results will be delivered in a JSON format that includes the recipe name, ingredients, cooking instructions, cooking time, and associated images URL. \n",
      "\n",
      "Please make sure to input all fields according to the format for the software to be able to correctly process your request.\n",
      "THOUGHT: I need to find a vegan recipe using only carrots and potatoes. I will use the Recipe Query System to do this. \n",
      "\n",
      "ACTION: \n",
      "{\n",
      "    \"ingredients\": [\"Carrots\", \"Potatoes\"],\n",
      "    \"diet\": \"Vegan\"\n",
      "}\n",
      "{\n",
      "    \"recipeName\": \"Vegan Carrot and Potato Soup\",\n",
      "    \"ingredients\": [\"Carrots\", \"Potatoes\", \"Onion\", \"Garlic\", \"Vegetable Broth\", \"Salt\", \"Pepper\"],\n",
      "    \"instructions\": \"1. Heat oil in a large pot over medium heat. 2. Add onions and garlic, cook until soft. 3. Add carrots, potatoes, and vegetable broth. 4. Bring to a boil, then reduce heat and simmer until vegetables are tender. 5. Use a blender to puree soup until smooth. 6. Season with salt and pepper to taste. Serve hot.\",\n",
      "    \"cookingTime\": \"45 minutes\",\n",
      "    \"imageURL\": \"http://example.com/vegan_carrot_potato_soup\"\n",
      "}\n",
      "THOUGHT: The system has returned a vegan recipe using carrots and potatoes, which is exactly what I needed. However, it seems the recipe also includes Onion, Garlic, and Vegetable Broth which were not on our original ingredient list. The task didn't specify that the recipe must strictly contain only carrots and potatoes, so this should be acceptable. Now, I have all the information I need to complete the task.\n",
      "\n",
      "ACTION: success({\n",
      "    \"recipeName\": \"Vegan Carrot and Potato Soup\",\n",
      "    \"ingredients\": [\"Carrots\", \"Potatoes\", \"Onion\", \"Garlic\", \"Vegetable Broth\", \"Salt\", \"Pepper\"],\n",
      "    \"instructions\": \"1. Heat oil in a large pot over medium heat. 2. Add onions and garlic, cook until soft. 3. Add carrots, potatoes, and vegetable broth. 4. Bring to a boil, then reduce heat and simmer until vegetables are tender. 5. Use a blender to puree soup until smooth. 6. Season with salt and pepper to taste. Serve hot.\",\n",
      "    \"cookingTime\": \"45 minutes\",\n",
      "    \"imageURL\": \"http://example.com/vegan_carrot_potato_soup\"\n",
      "})\n",
      "Task: Find a gluten-free dessert recipe that can be cooked in under 30 minutes\n",
      "Welcome to Recipe Query System! \n",
      "\n",
      "This software allows you to search for a wide variety of recipes based on the ingredients you have available. To begin, please provide a list of ingredients in JSON format. Don't forget, you can also include dietary restrictions, preferred cuisine or cooking time to narrow down your choices. Here's an example.\n",
      "\n",
      "{\n",
      "    \"ingredients\": [\"Chicken\", \"Broccoli\"],\n",
      "    \"diet\": \"Keto\",\n",
      "    \"cuisine\": \"Chinese\"\n",
      "}\n",
      "\n",
      "Once the system receives your input, it will generate a list of suitable recipes and provide them in JSON format, including the recipe name, ingredients, cooking instructions, estimated cooking time, and an image link. \n",
      "\n",
      "Remember, the more specific your input, the more precise your recipe results will be. Let's get cooking!\n",
      "THOUGHT: Since the task is to find a gluten-free dessert recipe that can be cooked in under 30 minutes, I can't provide a list of ingredients as it is not specified. I can, however, enter \"gluten-free\" under \"diet\", \"dessert\" under \"cuisine\", and 30 under \"time\". \n",
      "\n",
      "ACTION: \n",
      "{\n",
      "    \"diet\": \"Gluten-free\",\n",
      "    \"cuisine\": \"Dessert\",\n",
      "    \"time\": 30\n",
      "}\n",
      "Sorry, it appears your input is incomplete. We need at least one ingredient to start the recipe search. Please include an 'ingredients' field in your JSON input. Here's an example:\n",
      "\n",
      "{\n",
      "    \"ingredients\": [\"Chocolate\", \"Eggs\"],\n",
      "    \"diet\": \"Gluten-free\",\n",
      "    \"cuisine\": \"Dessert\",\n",
      "    \"time\": 30\n",
      "}\n",
      "\n",
      "Please modify your input and try again.\n",
      "THOUGHT: Since the system requires at least one ingredient to start the recipe search, I'll choose a common dessert ingredient like 'Chocolate' to get started.\n",
      "\n",
      "ACTION: \n",
      "{\n",
      "    \"ingredients\": [\"Chocolate\"],\n",
      "    \"diet\": \"Gluten-free\",\n",
      "    \"cuisine\": \"Dessert\",\n",
      "    \"time\": 30\n",
      "}\n",
      "{\n",
      "    \"recipeName\": \"Gluten-free Chocolate Mug Cake\",\n",
      "    \"ingredients\": [\"1/4 cup chocolate chips\", \"2 tablespoons almond flour\", \"1 egg\", \"1/2 teaspoon baking powder\", \"Pinch of salt\", \"1 tablespoon honey\"],\n",
      "    \"instructions\": \"1. Melt the chocolate chips in a microwave-safe mug. 2. Once melted, add the rest of the ingredients and mix until smooth. 3. Microwave for 90 seconds. Allow to cool for a few minutes before eating.\",\n",
      "    \"cookingTime\": \"15 minutes\",\n",
      "    \"imageURL\": \"http://example.com/gluten_free_chocolate_mug_cake.jpg\"\n",
      "}\n",
      "THOUGHT: The system returned a recipe for a \"Gluten-free Chocolate Mug Cake\" that fits the user's criteria. It's a gluten-free dessert that can be cooked in under 30 minutes, specifically 15 minutes. \n",
      "\n",
      "ACTION: success([\"Gluten-free Chocolate Mug Cake\", [\"1/4 cup chocolate chips\", \"2 tablespoons almond flour\", \"1 egg\", \"1/2 teaspoon baking powder\", \"Pinch of salt\", \"1 tablespoon honey\"], \"1. Melt the chocolate chips in a microwave-safe mug. 2. Once melted, add the rest of the ingredients and mix until smooth. 3. Microwave for 90 seconds. Allow to cool for a few minutes before eating.\", \"15 minutes\", \"http://example.com/gluten_free_chocolate_mug_cake.jpg\"])\n"
     ]
    }
   ],
   "source": [
    "num_turns = 20\n",
    "\n",
    "all_agents = []\n",
    "all_environments = []\n",
    "\n",
    "for x in range(len(tasks_and_state[:2])): #\n",
    "    the_task = eval(tasks_and_state[x])['task']\n",
    "    the_state = eval(tasks_and_state[x])['state']\n",
    "    print(\"Task:\", the_task)\n",
    "    environment_prompt = environment_prompt_template.format(environment_example, inputs_and_outputs, the_state)\n",
    "    agent_prompt = agent_prompt_template.format(environment_example, the_task)\n",
    "    agent_messages = [\n",
    "        HumanMessage(content=agent_prompt),\n",
    "    ]\n",
    "\n",
    "    environment_messages = [\n",
    "        HumanMessage(content=environment_prompt)\n",
    "    ]\n",
    "    \n",
    "    for i in range(num_turns):\n",
    "        environment_result = model.predict_messages(environment_messages)\n",
    "        environment_messages.append(environment_result)\n",
    "        print(environment_result.content)\n",
    "        agent_messages.append(HumanMessage(content=environment_result.content))\n",
    "        agent_response = model.predict_messages(agent_messages)\n",
    "        print(agent_response.content)\n",
    "        agent_result = agent_response.content.split(\"ACTION:\")[1].strip()\n",
    "        environment_messages.append(HumanMessage(content=agent_result))\n",
    "        agent_messages.append(agent_response)\n",
    "        if \"success(\" in agent_result:\n",
    "            break\n",
    "    all_agents.append(deepcopy(agent_messages))\n",
    "    all_environments.append(deepcopy(environment_messages))\n",
    "    "
   ]
  },
  {
   "cell_type": "code",
   "execution_count": null,
   "id": "a8397d67",
   "metadata": {},
   "outputs": [],
   "source": []
  },
  {
   "cell_type": "markdown",
   "id": "eecbdee3",
   "metadata": {},
   "source": [
    "### Many, Many environments"
   ]
  },
  {
   "cell_type": "code",
   "execution_count": 68,
   "id": "bf20ed93",
   "metadata": {},
   "outputs": [],
   "source": [
    "environments = [\n",
    "    # Refinery & Manufacturing Systems\n",
    "    \"Refinery Control Simulator: The agent monitors and adjusts virtual refinery operations to ensure safe and optimal production. Technicians can calibrate equipment and perform diagnostics.\",\n",
    "    \"Factory Floor Management: The agent schedules, monitors, and optimizes manufacturing processes, ensuring timely production. Technicians can maintain and calibrate machinery.\",\n",
    "    \"CNC Machine Controller: The agent designs and executes CNC machining processes based on design inputs. Machine technicians can calibrate and troubleshoot the machine.\",\n",
    "    \"Automated Assembly Line: The agent manages an assembly line's pace, worker assignments, and quality checks. Technicians can perform maintenance checks and repairs.\",\n",
    "\n",
    "    # Scientific & Engineering Software\n",
    "    \"Petrel Reservoir Simulation: The agent manages and analyzes virtual oil reservoir simulations, optimizing extraction strategies. Geoscientists can adjust parameters and analyze geological data.\",\n",
    "    \"GROMACS Molecular Dynamics: The agent runs molecular simulations, analyzing protein structures and interactions. Researchers can adjust simulation parameters and analyze results.\",\n",
    "    \"ANSYS Fluent Flow Simulator: The agent sets up and runs fluid dynamics simulations, analyzing airflow over virtual objects. Engineers can adjust meshing and boundary conditions.\",\n",
    "    \"MCNP Particle Simulation: The agent sets up and monitors nuclear particle simulations, evaluating radiation doses and shielding effectiveness. Nuclear scientists can adjust simulation parameters.\",\n",
    "    \"Kingdom Suite Seismic Analysis: The agent processes and interprets seismic data for oil and gas exploration. Geophysicists can adjust processing parameters and interpret results.\",\n",
    "    \"SPICE Circuit Simulation: The agent designs and simulates electronic circuits, analyzing their behavior under various conditions. Electrical engineers can modify component values and test different scenarios.\",\n",
    "    \"NAPA Ship Design: The agent designs virtual ship hulls and evaluates their hydrodynamic performance. Naval architects can modify design parameters and run simulations.\",\n",
    "    \"OpenTrack Railway Operations: The agent schedules and manages virtual railway operations, optimizing for efficiency and safety. Railway technicians can maintain tracks and signals.\",\n",
    "    \"KDB+/q Data Analysis: The agent queries and processes large datasets in real-time, extracting insights and patterns. Data analysts can adjust query parameters and visualize results.\",\n",
    "    \"Cadence Virtuoso IC Design: The agent designs integrated circuits and tests their functionality. Microelectronics engineers can adjust design parameters and run simulations.\",\n",
    "    \"CST Studio Electromagnetic Analysis: The agent sets up and runs electromagnetic simulations, evaluating antenna designs and electromagnetic interference. RF engineers can adjust simulation parameters and evaluate results.\",\n",
    "    \"TunnelCAD Tunnel Design: The agent designs virtual tunnels, evaluating their stability and safety. Civil engineers can adjust design parameters and run simulations.\",\n",
    "\n",
    "    # Miscellaneous Domains\n",
    "    \"DNA Sequencing Simulator: The agent processes and interprets virtual DNA samples, identifying genes and mutations. Biologists can adjust sequencing parameters and analyze results.\",\n",
    "    \"Virtual Architectural Planner: The agent designs building layouts, evaluating structural integrity and aesthetics. Architects can modify design elements and run simulations.\",\n",
    "    \"Financial Forecasting System: The agent analyzes financial data to predict market trends. Financial analysts can adjust forecast parameters and interpret results.\",\n",
    "    \"Urban Traffic Management: The agent manages traffic lights and flow in a virtual city, optimizing for reduced congestion. Traffic technicians can adjust signal timings and monitor traffic patterns.\",\n",
    "    \"Drone Flight Controller: The agent plans and executes drone flight paths, ensuring safe and efficient operations. Drone technicians can calibrate and troubleshoot drone components.\",\n",
    "    \"Virtual Retail Store Manager: The agent manages inventory, sales, and customer interactions in a virtual retail environment. Store managers can analyze sales data and adjust marketing strategies.\",\n",
    "    \"Automated Journalism Simulator: The agent gathers data and composes news articles or reports. Editors can adjust article parameters and approve final drafts.\",\n",
    "    \"Text-based Marine Navigator: The agent plans and navigates maritime routes, avoiding obstacles and optimizing for fuel efficiency. Ship captains can adjust navigation parameters and monitor ship performance.\",\n",
    "    \"Virtual Astronomy Observatory: The agent analyzes data from virtual telescopes, identifying celestial objects and phenomena. Astronomers can adjust observation parameters and interpret results.\",\n",
    "    \"Hydroelectric Power Plant Simulator: The agent manages operations in a virtual hydroelectric power plant, optimizing for energy production. Engineers can calibrate turbines and monitor water levels.\",\n",
    "    \"Text-based Theme Park Manager: The agent designs and manages a virtual theme park, ensuring guest satisfaction and safety. Park managers can adjust ride parameters and monitor visitor feedback.\",\n",
    "    \"Automated Legal Advisor: The agent analyzes legal texts and provides advice or interpretations. Lawyers can adjust query parameters and review interpretations.\",\n",
    "    \"Environmental Impact Analyzer: The agent evaluates the environmental impact of various projects or decisions based on input data. Environmentalists can adjust evaluation parameters and interpret results.\",\n",
    "    \"Virtual Wildlife Conservationist: The agent monitors and manages virtual wildlife populations, ensuring their survival and health. Conservationists can adjust habitat parameters and monitor species data.\",\n",
    "    \"Smart Grid Energy Manager: The agent optimizes energy distribution in a virtual smart grid, balancing supply and demand. Technicians can calibrate grid components and monitor energy flows.\",\n",
    "    \"Text-based Astronaut Trainer: The agent trains and prepares for virtual space missions, ensuring readiness for real-life space exploration. Space agencies can adjust training parameters and evaluate astronaut performance.\",\n",
    "    \"Virtual Art Auctioneer: The agent evaluates and auctions virtual art pieces, optimizing for profitability and buyer satisfaction. Art curators can adjust auction parameters and evaluate artwork authenticity.\"\n",
    "]\n",
    "\n",
    "original_environments = [\n",
    "    # Bookings & Reservations\n",
    "    \"Booking Reservation System: The agent interacts with a simulated booking system to reserve flights, hotels, or restaurants based on criteria. Travel agents can adjust reservation details and monitor booking statuses.\",\n",
    "\n",
    "    # Libraries & Databases\n",
    "    \"Library Database Manager: The agent queries a text-based library system to find books or articles based on topics or authors. Librarians can update records, analyze usage, and maintain the system.\",\n",
    "\n",
    "    # Technical Support\n",
    "    \"Tech Support Simulator: The agent engages with a virtual user reporting technical problems, providing troubleshooting steps. Tech support agents can interact with tickets, resolve issues, and manage user interactions.\",\n",
    "\n",
    "    # Financial & Stock Market\n",
    "    \"Virtual Stock Market Analyst: The agent receives textual data on stocks, making buy/sell decisions based on information. Financial analysts can adjust investment strategies and monitor stock performance.\",\n",
    "\n",
    "    # Event Planning\n",
    "    \"Event Planner Assistant: The agent organizes events, manages schedules, and handles invitations considering constraints and preferences. Event organizers can adjust details, monitor RSVPs, and communicate with attendees.\",\n",
    "\n",
    "    # Gaming & Narrative\n",
    "    \"Text-based Game Environment: The agent engages in a story-driven game, making decisions that influence the narrative's outcome. Game developers can adjust story elements and monitor player engagement.\",\n",
    "\n",
    "    # Culinary & Cooking\n",
    "    \"Recipe Query System: The agent searches and proposes recipes based on available ingredients. Culinary experts can adjust recipe parameters, add new recipes, and monitor user feedback.\",\n",
    "\n",
    "    # Museums & Exhibitions\n",
    "    \"Virtual Museum Guide: The agent escorts a user through a text-based museum, explaining artworks or exhibits tailored to user interest. Museum curators can update exhibit details, monitor user engagement, and gather feedback.\",\n",
    "\n",
    "    # Education & Learning\n",
    "    \"E-Learning Platform Navigator: The agent navigates an online learning platform, enrolling in courses, and engaging in quizzes. Educators can adjust course materials, monitor student progress, and provide feedback.\",\n",
    "\n",
    "    # Fitness & Health\n",
    "    \"Text-based Fitness Trainer: The agent designs workout routines, monitors progress, and gives advice based on health and fitness inputs. Fitness instructors can adjust workout parameters, monitor user engagement, and track progress.\",\n",
    "\n",
    "    # Job Interviews\n",
    "    \"Automated Interview Simulator: The agent plays both interviewer and interviewee roles across various job domains, facilitating questions and answers. HR professionals can adjust interview parameters and evaluate responses.\",\n",
    "\n",
    "    # Medical & Health\n",
    "    \"Medical Diagnosis Assistant: The agent evaluates provided symptoms, gives potential diagnoses, and recommends next steps. Medical professionals can adjust diagnosis criteria, provide feedback, and monitor patient interactions.\",\n",
    "\n",
    "    # Agriculture & Farming\n",
    "    \"Text-based Farming Simulator: The agent oversees a virtual farm, making decisions about crops, livestock, and sales. Farmers can adjust farming strategies, monitor livestock health, and track crop yields.\",\n",
    "\n",
    "    # Real Estate & Housing\n",
    "    \"Virtual Real Estate Agent: The agent searches, lists, and suggests properties based on preferences and constraints. Real estate brokers can adjust property details, monitor client feedback, and handle transactions.\",\n",
    "\n",
    "    # Software & Version Control\n",
    "    \"Version Control System Operator: The agent interacts with a text-based version control system (like Git), handling commits, branches, merges, and conflict resolution. Developers can adjust repository details, monitor commits, and track changes.\",\n",
    "    \n",
    "    # Software Development & CI/CD\n",
    "    \"CI/CD Pipeline Manager: The agent oversees build pipelines, runs tests, and handles software deployment based on textual logs and commands. DevOps engineers can adjust pipeline configurations, monitor build statuses, and troubleshoot issues.\",\n",
    "\n",
    "    # Cloud & Infrastructure\n",
    "    \"Cloud Infrastructure Manager: The agent interfaces with a simulated cloud service to provision servers, manage databases, and allocate resources. Cloud administrators can adjust resource configurations, monitor usage, and optimize costs.\",\n",
    "\n",
    "    # Code Review & Optimization\n",
    "    \"Automated Code Reviewer: The agent reviews code snippets, provides feedback, suggests enhancements, and identifies potential issues. Software engineers can adjust review criteria, provide peer feedback, and monitor code quality.\",\n",
    "\n",
    "    # Algorithm Design & Testing\n",
    "    \"Algorithm Design Simulator: The agent is given problems, designs solutions, tests algorithms, and evaluates their performance. Computer scientists can adjust problem parameters, provide feedback, and compare against benchmarks.\",\n",
    "\n",
    "    # Databases & Data Management\n",
    "    \"Database Design & Management System: The agent creates database schemas, normalizes data structures, and fine-tunes queries. Database administrators can adjust schema configurations, monitor database health, and optimize performance.\",\n",
    "\n",
    "    # Networking & Connectivity\n",
    "    \"Network Management Simulator: The agent configures and manages virtual networks, setting up routers, switches, and ensuring connectivity. Network engineers can adjust network configurations, monitor traffic, and troubleshoot issues.\",\n",
    "\n",
    "    # Embedded Systems & Firmware\n",
    "    \"Embedded Systems Designer: The agent programs and tests firmware for simulated embedded devices, ensuring correct functionality. Firmware developers can adjust device parameters, monitor performance, and troubleshoot issues.\",\n",
    "\n",
    "    # API Design & Interaction\n",
    "    \"API Design & Interaction Simulator: The agent creates, tests, and communicates with simulated RESTful or GraphQL APIs, ensuring valid endpoints and responses. Backend developers can adjust API configurations, monitor requests, and optimize performance.\",\n",
    "\n",
    "    # Web Development & Design\n",
    "    \"Web Development Simulator: The agent receives a design brief and crafts HTML, CSS, and JavaScript to render a functional webpage or app. Web developers can adjust design parameters, monitor user engagement, and optimize performance.\",\n",
    "\n",
    "    # Compilers & Interpreters\n",
    "    \"Compiler Design Simulator: The agent crafts and tests code for a virtual compiler or interpreter, ensuring proper code translation. Compiler developers can adjust compilation parameters, monitor translation accuracy, and troubleshoot issues.\",\n",
    "\n",
    "    # Operating Systems & Scheduling\n",
    "    \"Operating System Scheduler Simulator: The agent manages virtual OS processes, handles memory allocation, and schedules tasks. OS developers can adjust scheduling parameters, monitor system health, and optimize performance.\",\n",
    "\n",
    "    # Software Testing & Quality Assurance\n",
    "    \"Automated Testing Environment: The agent authors unit, integration, and end-to-end tests for software modules, and assesses test outcomes. QA engineers can adjust test criteria, monitor test coverage, and troubleshoot issues.\",\n",
    "\n",
    "    # Security & Threat Management\n",
    "    \"Security Breach Simulator: The agent detects and responds to simulated security threats in a virtual ecosystem, mitigating risks. Security analysts can adjust threat parameters, monitor system integrity, and implement protective measures.\"\n",
    "]\n",
    "\n",
    "all_environments = original_environments + environments \n",
    "\n"
   ]
  },
  {
   "cell_type": "code",
   "execution_count": 87,
   "id": "e454807b",
   "metadata": {},
   "outputs": [
    {
     "name": "stderr",
     "output_type": "stream",
     "text": [
      "Retrying langchain.chat_models.openai.ChatOpenAI.completion_with_retry.<locals>._completion_with_retry in 4.0 seconds as it raised APIError: Bad gateway. {\"error\":{\"code\":502,\"message\":\"Bad gateway.\",\"param\":null,\"type\":\"cf_bad_gateway\"}} 502 {'error': {'code': 502, 'message': 'Bad gateway.', 'param': None, 'type': 'cf_bad_gateway'}} {'Date': 'Wed, 01 Nov 2023 04:19:42 GMT', 'Content-Type': 'application/json', 'Content-Length': '84', 'Connection': 'keep-alive', 'X-Frame-Options': 'SAMEORIGIN', 'Referrer-Policy': 'same-origin', 'Cache-Control': 'private, max-age=0, no-store, no-cache, must-revalidate, post-check=0, pre-check=0', 'Expires': 'Thu, 01 Jan 1970 00:00:01 GMT', 'Server': 'cloudflare', 'CF-RAY': '81f151947c352a2a-ORD', 'alt-svc': 'h3=\":443\"; ma=86400'}.\n"
     ]
    }
   ],
   "source": [
    "# tasks_with_full_environment = []\n",
    "\n",
    "for x in range(len(all_environments[2:])):\n",
    "    environment_example = all_environments[x]\n",
    "    # Input-Outputs\n",
    "    design_prompt_filled = environment_design_prompt.format(environment_example)\n",
    "    design_messages = [\n",
    "            HumanMessage(content=design_prompt_filled)\n",
    "        ]\n",
    "    environment_design_result = model.predict_messages(design_messages)\n",
    "    inputs_and_outputs = environment_design_result.content\n",
    "\n",
    "    # Generate Tasks and state\n",
    "    tasks_generation_filled = tasks_generation_prompt.format(environment_example, environment_design_result.content)\n",
    "    tasks_generation_messages = [\n",
    "            HumanMessage(content=tasks_generation_filled)\n",
    "        ]\n",
    "    tasks_generation_result = model.predict_messages(tasks_generation_messages)\n",
    "\n",
    "    import re\n",
    "    pattern = r'\\{[^}]*\\}'\n",
    "\n",
    "    matches = re.findall(pattern, tasks_generation_result.content)\n",
    "\n",
    "    tasks_and_state = []\n",
    "    for match in matches:\n",
    "        tasks_and_state.append(match)\n",
    "     \n",
    "    for item in tasks_and_state:\n",
    "        final_result = { \n",
    "            \"environment\": environment_example,\n",
    "            \"io\": inputs_and_outputs,\n",
    "            \"task\": eval(item)['task'],\n",
    "            \"state\": eval(item)['state']\n",
    "            \n",
    "        }\n",
    "        tasks_with_full_environment.append(final_result)"
   ]
  },
  {
   "cell_type": "code",
   "execution_count": 88,
   "id": "6d0e2501",
   "metadata": {},
   "outputs": [
    {
     "data": {
      "text/plain": [
       "1525"
      ]
     },
     "execution_count": 88,
     "metadata": {},
     "output_type": "execute_result"
    }
   ],
   "source": [
    "len(tasks_with_full_environment)"
   ]
  },
  {
   "cell_type": "code",
   "execution_count": 89,
   "id": "7bbee234",
   "metadata": {},
   "outputs": [],
   "source": [
    "# Write to a JSON file\n",
    "with open('./synthetic/tasks_with_full_environment.json', 'w') as file:\n",
    "    json.dump(tasks_with_full_environment, file, indent=4)"
   ]
  },
  {
   "cell_type": "code",
   "execution_count": 6,
   "id": "1e45566e",
   "metadata": {},
   "outputs": [],
   "source": [
    "# Read from a JSON file\n",
    "with open('./synthetic/tasks_with_full_environment.json', 'r') as file:\n",
    "    tasks_with_full_environment = json.load(file)"
   ]
  },
  {
   "cell_type": "code",
   "execution_count": 91,
   "id": "973fb88b",
   "metadata": {},
   "outputs": [
    {
     "data": {
      "text/plain": [
       "True"
      ]
     },
     "execution_count": 91,
     "metadata": {},
     "output_type": "execute_result"
    }
   ],
   "source": [
    "data == tasks_with_full_environment"
   ]
  },
  {
   "cell_type": "code",
   "execution_count": 6,
   "id": "0708221c",
   "metadata": {},
   "outputs": [
    {
     "data": {
      "text/plain": [
       "{'environment': 'Book Reservation System: The agent interacts with a simulated booking system to reserve flights, hotels, or restaurants based on criteria. Travel agents can adjust reservation details and monitor booking statuses.',\n",
       " 'io': 'Outputs: The output format could be a structured JSON response containing key information about the available options for bookings. For flight bookings, it will return information like flight number, airline, departure time, arrival time, price, available seats, etc. For hotel bookings, it could return information like hotel name, location, price per night, available rooms, amenities, etc. For restaurant bookings, it could return information like restaurant name, location, available seats, menu, pricing, etc. Furthermore, it could return statuses of adjusted reservations and booking statuses.\\n\\nInputs: The input format could be a specifically structured JSON request. The JSON request should have fields specifying the type of reservation (flight, hotel, restaurant), criteria for the reservation such as dates, number of people, location (for hotel and restaurant), destination (for flight), budget, preferred timings, dietary restrictions (for restaurant), room type (for hotel), etc. Additionally, there should be options to input requests for adjusting current reservations and also for monitoring the status of a specific booking. The agent should be able to input natural language queries, which will be processed to adjust the JSON request accordingly. \\n\\nFor example, a JSON request for a hotel booking could look something like this:\\n\\n```\\n{\\n  \"reservation_type\": \"hotel\",\\n  \"location\": \"New York\",\\n  \"check_in_date\": \"2022-10-01\",\\n  \"check_out_date\": \"2022-10-10\",\\n  \"number_of_people\": 2,\\n  \"room_type\": \"double_bed\",\\n  \"budget\": 1500,\\n  \"amenities\": [\"wifi\", \"breakfast\"]\\n}\\n```\\n\\nAnd a corresponding JSON response could look something like this:\\n\\n```\\n{\\n  \"booking_options\": [{\\n      \"hotel_name\": \"The Grand New York\",\\n      \"location\": \"Central Park West, New York\",\\n      \"price_per_night\": 150,\\n      \"available_rooms\": 5,\\n      \"amenities\": [\"wifi\", \"breakfast\", \"spa\", \"gym\"],\\n      \"total_price\": 1350\\n    },\\n    {\\n      \"hotel_name\": \"The Plaza Hotel\",\\n      \"location\": \"Fifth Avenue, New York\",\\n      \"price_per_night\": 200,\\n      \"available_rooms\": 3,\\n      \"amenities\": [\"wifi\", \"breakfast\", \"pool\", \"gym\"],\\n      \"total_price\": 1800\\n    }\\n  ]\\n}\\n```',\n",
       " 'task': 'Book a flight for Mary Lewis from San Francisco to Sydney departing on 2023-01-20 and returning on 2023-02-10 with a budget of $1500.',\n",
       " 'state': 'The software environment includes a database of available flights from various airlines, departure and arrival locations, timings, prices, and available seats.'}"
      ]
     },
     "execution_count": 6,
     "metadata": {},
     "output_type": "execute_result"
    }
   ],
   "source": [
    "tasks_with_full_environment[0]"
   ]
  },
  {
   "cell_type": "markdown",
   "id": "b7a231c7",
   "metadata": {},
   "source": [
    "#### Create Conversations, Threaded"
   ]
  },
  {
   "cell_type": "code",
   "execution_count": 7,
   "id": "82d8d91a",
   "metadata": {},
   "outputs": [],
   "source": [
    "def create_agent_conversation(task):    \n",
    "    num_turns = 20\n",
    "    the_task = task['task']\n",
    "    the_state = task['state']\n",
    "    print(\"Task:\", the_task)\n",
    "    environment_prompt = environment_prompt_template.format(task['environment'], task['io'], task['state'])\n",
    "    agent_prompt = agent_prompt_template.format(task['environment'], task['task'])\n",
    "    agent_messages = [\n",
    "        HumanMessage(content=agent_prompt),\n",
    "    ]\n",
    "\n",
    "    environment_messages = [\n",
    "        HumanMessage(content=environment_prompt)\n",
    "    ]\n",
    "\n",
    "    for i in range(num_turns):\n",
    "        environment_result = model.predict_messages(environment_messages)\n",
    "        environment_messages.append(environment_result)\n",
    "        agent_messages.append(HumanMessage(content=environment_result.content))\n",
    "        agent_response = model.predict_messages(agent_messages)\n",
    "        agent_result = agent_response.content.split(\"ACTION:\")[1].strip()\n",
    "        environment_messages.append(HumanMessage(content=agent_result))\n",
    "        agent_messages.append(agent_response)\n",
    "        if \"success(\" in agent_result:\n",
    "            break\n",
    "    task[\"conversation\"] = agent_messages\n",
    "    return task\n",
    "    "
   ]
  },
  {
   "cell_type": "code",
   "execution_count": 8,
   "id": "d9111783",
   "metadata": {},
   "outputs": [],
   "source": [
    "import threading\n",
    "import queue\n",
    "import time  # Used for simulating API call\n",
    "import pickle\n",
    "stop_threads = False"
   ]
  },
  {
   "cell_type": "code",
   "execution_count": null,
   "id": "186f5ce6",
   "metadata": {},
   "outputs": [],
   "source": [
    "\n"
   ]
  },
  {
   "cell_type": "code",
   "execution_count": 9,
   "id": "fb44cdc3",
   "metadata": {},
   "outputs": [],
   "source": [
    "# Worker function\n",
    "def api_worker(input_queue, output_queue):\n",
    "    global stop_threads\n",
    "    while not stop_threads:\n",
    "        try:\n",
    "            data = input_queue.get(timeout=1)\n",
    "            updated_data = create_agent_conversation(data)\n",
    "            output_queue.put(updated_data)\n",
    "            \n",
    "            # Mark task as done\n",
    "            input_queue.task_done()\n",
    "        except queue.Empty:\n",
    "            # No more items in queue\n",
    "            return\n",
    "        except KeyboardInterrupt:\n",
    "            print(\"Received interrupt in worker. Re-queueing item...\")\n",
    "            input_queue.put(data)\n",
    "            break\n",
    "        except Exception as e:\n",
    "            # Handle other exceptions as required\n",
    "            print(f\"Error processing data: {e}\")\n",
    "            input_queue.put(data)  # Re-insert the item into the queue\n"
   ]
  },
  {
   "cell_type": "markdown",
   "id": "04c54adc",
   "metadata": {},
   "source": [
    "#### Test threading"
   ]
  },
  {
   "cell_type": "code",
   "execution_count": 30,
   "id": "e6602e5e",
   "metadata": {},
   "outputs": [],
   "source": [
    "input_queue = queue.Queue()\n",
    "output_queue = queue.Queue()"
   ]
  },
  {
   "cell_type": "code",
   "execution_count": 31,
   "id": "259a3390",
   "metadata": {},
   "outputs": [],
   "source": [
    "input_queue.put(tasks_with_full_environment[0])\n",
    "input_queue.put(tasks_with_full_environment[1])\n",
    "input_queue.put(tasks_with_full_environment[2])"
   ]
  },
  {
   "cell_type": "code",
   "execution_count": 32,
   "id": "a9329b63",
   "metadata": {},
   "outputs": [],
   "source": [
    "# Number of threads\n",
    "NUM_THREADS = 1"
   ]
  },
  {
   "cell_type": "code",
   "execution_count": 33,
   "id": "b4be9e20",
   "metadata": {},
   "outputs": [
    {
     "name": "stdout",
     "output_type": "stream",
     "text": [
      "Task: Book a flight for Mary Lewis from San Francisco to Sydney departing on 2023-01-20 and returning on 2023-02-10 with a budget of $1500.\n",
      "Task: Book a hotel for John O’Reilly in Paris from 2023-03-01 to 2023-03-10, in a 4-star hotel, under $200 per night, with breakfast included.\n",
      "Task: Reserve a table for 4 at an Italian restaurant in Manhattan, New York for Nancy Gilbert on 2023-04-15 at 7pm with vegan options.\n"
     ]
    }
   ],
   "source": [
    "# Launch threads\n",
    "threads = []\n",
    "for _ in range(NUM_THREADS):\n",
    "    t = threading.Thread(target=api_worker, args=(input_queue, output_queue))\n",
    "    t.start()\n",
    "    threads.append(t)\n",
    "\n",
    "# Wait for all threads to finish\n",
    "for t in threads:\n",
    "    t.join()"
   ]
  },
  {
   "cell_type": "code",
   "execution_count": 34,
   "id": "605b5a78",
   "metadata": {},
   "outputs": [],
   "source": [
    "# Collect results\n",
    "# resulting_dicts = []\n",
    "while not output_queue.empty():\n",
    "    resulting_dicts.append(output_queue.get())\n",
    "\n"
   ]
  },
  {
   "cell_type": "code",
   "execution_count": 35,
   "id": "f989bad0",
   "metadata": {},
   "outputs": [
    {
     "data": {
      "text/plain": [
       "3"
      ]
     },
     "execution_count": 35,
     "metadata": {},
     "output_type": "execute_result"
    }
   ],
   "source": [
    "resulting_dicts"
   ]
  },
  {
   "cell_type": "code",
   "execution_count": 39,
   "id": "c6ee905a",
   "metadata": {},
   "outputs": [],
   "source": [
    "with open(\"./synthetic/synthetic_agent_conversations.pkl\", 'wb') as file:\n",
    "    pickle.dump(resulting_dicts, file)"
   ]
  },
  {
   "cell_type": "code",
   "execution_count": 10,
   "id": "42213bf9",
   "metadata": {},
   "outputs": [],
   "source": [
    "def save_queue_to_file(q, filename):\n",
    "    with open(filename, 'wb') as file:\n",
    "        pickle.dump(list(q.queue), file)\n",
    "\n",
    "def load_queue_from_file(filename):\n",
    "    try:\n",
    "        q = queue.Queue()\n",
    "        with open(filename, 'rb') as file:\n",
    "            the_list = pickle.load(file)\n",
    "            for item in the_list:\n",
    "                q.put(item)\n",
    "        return q\n",
    "    except (FileNotFoundError, EOFError):\n",
    "        return queue.Queue()\n"
   ]
  },
  {
   "cell_type": "code",
   "execution_count": 42,
   "id": "5166596d",
   "metadata": {},
   "outputs": [
    {
     "ename": "NameError",
     "evalue": "name 'q' is not defined",
     "output_type": "error",
     "traceback": [
      "\u001b[0;31m---------------------------------------------------------------------------\u001b[0m",
      "\u001b[0;31mNameError\u001b[0m                                 Traceback (most recent call last)",
      "Cell \u001b[0;32mIn[42], line 10\u001b[0m\n\u001b[1;32m      7\u001b[0m     input_queue\u001b[38;5;241m.\u001b[39mput(d)\n\u001b[1;32m      9\u001b[0m \u001b[38;5;66;03m# save queue\u001b[39;00m\n\u001b[0;32m---> 10\u001b[0m save_queue_to_file(q, \u001b[38;5;124m\"\u001b[39m\u001b[38;5;124m./synthetic/input_queue.pkl\u001b[39m\u001b[38;5;124m\"\u001b[39m)\n",
      "\u001b[0;31mNameError\u001b[0m: name 'q' is not defined"
     ]
    }
   ],
   "source": [
    "# Let's create a task queue\n",
    "tasks_for_queue = tasks_with_full_environment[3:]\n",
    "random.shuffle(tasks_for_queue)\n",
    "\n",
    "# Put all dictionaries into the input queue\n",
    "for d in tasks_for_queue:\n",
    "    input_queue.put(d)\n",
    "    \n"
   ]
  },
  {
   "cell_type": "code",
   "execution_count": 49,
   "id": "d48aa2ed",
   "metadata": {},
   "outputs": [],
   "source": [
    "# save queue\n",
    "save_queue_to_file(input_queue, \"./synthetic/input_queue.pkl\")"
   ]
  },
  {
   "cell_type": "markdown",
   "id": "0a8c3d57",
   "metadata": {},
   "source": [
    "#### Let's test that we finish conversations on a keyboard interrupt"
   ]
  },
  {
   "cell_type": "code",
   "execution_count": null,
   "id": "f8f80efc",
   "metadata": {},
   "outputs": [],
   "source": []
  },
  {
   "cell_type": "code",
   "execution_count": 11,
   "id": "4e6d9312",
   "metadata": {},
   "outputs": [],
   "source": [
    "input_queue = load_queue_from_file(\"./synthetic/input_queue.pkl\")\n",
    "output_queue = queue.Queue()"
   ]
  },
  {
   "cell_type": "code",
   "execution_count": 12,
   "id": "603a99cf",
   "metadata": {},
   "outputs": [],
   "source": [
    "# Number of threads\n",
    "NUM_THREADS = 3"
   ]
  },
  {
   "cell_type": "code",
   "execution_count": 13,
   "id": "2c65265c",
   "metadata": {},
   "outputs": [
    {
     "name": "stdout",
     "output_type": "stream",
     "text": [
      "Task: Ask for more detail about 'Monet's Water Lilies'.\n",
      "Task: Query the documentation to understand the input format for the COMPILE command.\n",
      "Task: Close Ticket\n",
      "Task: Pose a question to the software about the correct syntax to specify a uranium-238 source for the simulation\n",
      "Task: Pose a question to the documentation: 'What is the acceptable temperature range for the CoolFridge smart refrigerator?'\n",
      "Task: Install a new interactive map at the park entrance.\n",
      "Task: Optimize the design of a Yagi-Uda antenna for maximum gain\n",
      "Task: Change the language setting to compile a Kotlin Android application.\n",
      "Task: Remove the 'Shrubs' from the vegetation in the environment\n",
      "Task: Create a new family ticket for 2 adults and 2 children at the price of $50.\n",
      "Task: Generate a news report on the latest Marvel movie release\n",
      "Task: Ask Question\n",
      "Task: Implement protective measures for detected DDoS attack\n",
      "Task: Display the list of products that have less than 10 units left in stock.\n",
      "Task: Initiate repair on workstation_12 by technician_6\n",
      "Task: Set a constraint for the 'Helping Hands' event to have a maximum of 150 attendees.\n",
      "Task: Set a constraint for the 'Tech Guru' event to have a minimum of 10 tech companies exhibiting.\n",
      "Error processing data: This model's maximum context length is 8192 tokens. However, your messages resulted in 8589 tokens. Please reduce the length of the messages.\n",
      "Task: Check the system health and provide details on CPU temperature, uptime, and disk status\n",
      "Task: Update total copies of 'The Catcher in The Rye' to 15.\n",
      "Task: Compose an editorial discussing the implications of Brexit on global trade\n",
      "Task: View the history of past forecasts made for the Global Solar Energy market for the last decade\n",
      "Task: Create a 'Products' table with 'ProductID', 'ProductName', and 'Price' as columns.\n",
      "Task: Patient Chloe Bennett has reported symptoms of coughing up blood and chest pain, potential signs of lung cancer.\n",
      "Task: Create a charity fundraiser event for NGO 'Helping Hands' with a budget constraint of $5000 and preference of a music concert as the entertainment\n",
      "Task: Change the password for server 'Hermes'\n",
      "Task: Request a report for power output for the last week\n",
      "Task: Check a Java code developed by Patrick O'Brien for a banking software, focusing on identifying possible null pointer exceptions\n",
      "Task: Find articles on the topic of quantum physics published in the last five years.\n",
      "Task: Modify the fluid dynamics simulation of an F-16 fighter jet to simulate supersonic flight conditions.\n",
      "Task: Reduce the memory allocation of the server with the ID 'server456'.\n",
      "Task: Reduce the speed of train-3 to 50km/h due to track work ahead\n",
      "Task: Search for a recipe with dietary restrictions - gluten-free and dairy-free\n",
      "Task: Identify any meteor showers visible from the Hubble Space Telescope on October 21, 2023\n",
      "Task: Check the system health and provide details on CPU temperature, uptime, and disk status\n",
      "Task: Create a portfolio website for 'Art by Amelia', a freelance artist. The site should have a creative design, a gallery for her artwork, and a contact form.\n",
      "Task: Set the simulation type to 'AC Analysis' for the power supply circuit designed by Maria Olsson. Run the simulation to observe the frequency response of the circuit.\n",
      "Task: Simulate a chromosomal DNA sequence with a length of 4 million bases, using the Oxford Nanopore sequencing technology with a mutation rate of 0.0001.\n",
      "Task: Generate a new market forecast for the Indian IT Services market for Q4 2022 using a Neural Network model\n",
      "Task: Optimize the energy distribution to balance supply and demand\n",
      "Task: Start the simulated device of the BreatheAir air conditioner after the firmware has been loaded\n",
      "\n",
      "Received keyboard interrupt. Signaling threads to terminate...\n"
     ]
    },
    {
     "name": "stderr",
     "output_type": "stream",
     "text": [
      "Retrying langchain.chat_models.openai.ChatOpenAI.completion_with_retry.<locals>._completion_with_retry in 4.0 seconds as it raised Timeout: Request timed out: HTTPSConnectionPool(host='api.openai.com', port=443): Read timed out. (read timeout=600).\n"
     ]
    },
    {
     "name": "stdout",
     "output_type": "stream",
     "text": [
      "All threads have finished.\n"
     ]
    }
   ],
   "source": [
    "# Launch threads\n",
    "threads = []\n",
    "stop_threads = False\n",
    "for _ in range(NUM_THREADS):\n",
    "    t = threading.Thread(target=api_worker, args=(input_queue, output_queue))\n",
    "    t.start()\n",
    "    threads.append(t)\n",
    "\n",
    "try:\n",
    "    for t in threads:\n",
    "        t.join()\n",
    "\n",
    "except KeyboardInterrupt:\n",
    "    print(\"\\nReceived keyboard interrupt. Signaling threads to terminate...\")\n",
    "    stop_threads = True\n",
    "\n",
    "    # Now wait for all threads to finish\n",
    "    for t in threads:\n",
    "        t.join()\n",
    "\n",
    "print(\"All threads have finished.\")"
   ]
  },
  {
   "cell_type": "code",
   "execution_count": 15,
   "id": "0d202553",
   "metadata": {},
   "outputs": [
    {
     "name": "stdout",
     "output_type": "stream",
     "text": [
      "3\n"
     ]
    }
   ],
   "source": [
    "import pickle\n",
    "\n",
    "# Make sure to use the correct path to your .pkl file\n",
    "file_path = \"./synthetic/synthetic_agent_conversations.pkl\"\n",
    "\n",
    "# Open the file and load its contents into resulting_dicts\n",
    "with open(file_path, 'rb') as file:\n",
    "    resulting_dicts = pickle.load(file)\n",
    "\n",
    "# Now resulting_dicts contains the data from the .pkl file\n",
    "print(len(resulting_dicts))  # Just to verify the contents"
   ]
  },
  {
   "cell_type": "code",
   "execution_count": 16,
   "id": "9514e469",
   "metadata": {},
   "outputs": [],
   "source": [
    "# Collect results\n",
    "# resulting_dicts = []\n",
    "while not output_queue.empty():\n",
    "    resulting_dicts.append(output_queue.get())\n",
    "\n"
   ]
  },
  {
   "cell_type": "code",
   "execution_count": 17,
   "id": "c6d2bcf2",
   "metadata": {},
   "outputs": [
    {
     "data": {
      "text/plain": [
       "42"
      ]
     },
     "execution_count": 17,
     "metadata": {},
     "output_type": "execute_result"
    }
   ],
   "source": [
    "len(resulting_dicts)"
   ]
  },
  {
   "cell_type": "code",
   "execution_count": 18,
   "id": "b0dba46c",
   "metadata": {},
   "outputs": [
    {
     "data": {
      "text/plain": [
       "{'environment': 'Book Reservation System: The agent interacts with a simulated booking system to reserve flights, hotels, or restaurants based on criteria. Travel agents can adjust reservation details and monitor booking statuses.',\n",
       " 'io': 'Outputs: The output format could be a structured JSON response containing key information about the available options for bookings. For flight bookings, it will return information like flight number, airline, departure time, arrival time, price, available seats, etc. For hotel bookings, it could return information like hotel name, location, price per night, available rooms, amenities, etc. For restaurant bookings, it could return information like restaurant name, location, available seats, menu, pricing, etc. Furthermore, it could return statuses of adjusted reservations and booking statuses.\\n\\nInputs: The input format could be a specifically structured JSON request. The JSON request should have fields specifying the type of reservation (flight, hotel, restaurant), criteria for the reservation such as dates, number of people, location (for hotel and restaurant), destination (for flight), budget, preferred timings, dietary restrictions (for restaurant), room type (for hotel), etc. Additionally, there should be options to input requests for adjusting current reservations and also for monitoring the status of a specific booking. The agent should be able to input natural language queries, which will be processed to adjust the JSON request accordingly. \\n\\nFor example, a JSON request for a hotel booking could look something like this:\\n\\n```\\n{\\n  \"reservation_type\": \"hotel\",\\n  \"location\": \"New York\",\\n  \"check_in_date\": \"2022-10-01\",\\n  \"check_out_date\": \"2022-10-10\",\\n  \"number_of_people\": 2,\\n  \"room_type\": \"double_bed\",\\n  \"budget\": 1500,\\n  \"amenities\": [\"wifi\", \"breakfast\"]\\n}\\n```\\n\\nAnd a corresponding JSON response could look something like this:\\n\\n```\\n{\\n  \"booking_options\": [{\\n      \"hotel_name\": \"The Grand New York\",\\n      \"location\": \"Central Park West, New York\",\\n      \"price_per_night\": 150,\\n      \"available_rooms\": 5,\\n      \"amenities\": [\"wifi\", \"breakfast\", \"spa\", \"gym\"],\\n      \"total_price\": 1350\\n    },\\n    {\\n      \"hotel_name\": \"The Plaza Hotel\",\\n      \"location\": \"Fifth Avenue, New York\",\\n      \"price_per_night\": 200,\\n      \"available_rooms\": 3,\\n      \"amenities\": [\"wifi\", \"breakfast\", \"pool\", \"gym\"],\\n      \"total_price\": 1800\\n    }\\n  ]\\n}\\n```',\n",
       " 'task': 'Book a flight for Mary Lewis from San Francisco to Sydney departing on 2023-01-20 and returning on 2023-02-10 with a budget of $1500.',\n",
       " 'state': 'The software environment includes a database of available flights from various airlines, departure and arrival locations, timings, prices, and available seats.',\n",
       " 'conversation': [HumanMessage(content='\\nInteract with a software environment to solve a task. Imagine you are an intelligent agent working for a user and your target is to perform actions to complete the task goal. At the beginning of your interactions, you will be given a detailed description of the current environment and your goal to accomplish. For each of your turns, you will be given a list of actions which you can choose one to perform in this turn. You should provide two parts of your response: \"THOUGHT\" and \"ACTION\". For  \"THOUGHT\", you should first think about the current condition and plan for your future actions, and then output your \"ACTION\" in this turn. Your output must strictly follow this format:\"THOUGHT: your thoughts.\\n ACTION: your next action \\n\"; For \"ACTION\", you should directly output the action this turn. Your output must strictly follow this format:\"ACTION: your next action\\n\". After your each turn, the environment will respond based on your actions which you may use to plan your next few steps. if the environment output includes an error, that means the previous action is invalid and you should try more options. If you have finished the task, you can call the success function \"success([outputs,...])\" with any final outputs.\\n Reminder: \\n1. the action must follow any formats requested\\n2. Think when necessary, try to act directly more in the process.\\nIf information is requested that you don\\'t have, you may use placeholder information, but please note the information when calling \"success()\". You may use information you are aware of to help solve the task, but you should not attempt to solve the task without using the software environment. \\n\\nSoftware Environment: Book Reservation System: The agent interacts with a simulated booking system to reserve flights, hotels, or restaurants based on criteria. Travel agents can adjust reservation details and monitor booking statuses.\\nYour Task: Book a flight for Mary Lewis from San Francisco to Sydney departing on 2023-01-20 and returning on 2023-02-10 with a budget of $1500.\\n', additional_kwargs={}, example=False),\n",
       "  HumanMessage(content='Welcome to the Travel Book Reservation System! You can use this system to book flights, hotels, and restaurants based on your specific needs. \\n\\nTo start, you can send a JSON structured request specifying the type of reservation (flight, hotel, restaurant), and the relevant criteria for your booking. \\n\\nFor flight bookings, please provide information like destination, dates of travel, number of passengers, and budget. For hotel bookings, mention the location, check-in and check-out dates, number of people, room type, and budget. For restaurant bookings, specify the location, date, time, number of people, and any dietary restrictions.\\n\\nHere\\'s an example of a JSON request for booking a hotel:\\n```\\n{\\n  \"reservation_type\": \"hotel\",\\n  \"location\": \"New York\",\\n  \"check_in_date\": \"2022-10-01\",\\n  \"check_out_date\": \"2022-10-10\",\\n  \"number_of_people\": 2,\\n  \"room_type\": \"double_bed\",\\n  \"budget\": 1500,\\n  \"amenities\": [\"wifi\", \"breakfast\"]\\n}\\n```\\n\\nRemember to input your requests clearly and as per the expected format. If there\\'s any issue with your input, the system will return an error and guide you on how to correct the input.\\n\\nOnce your request is processed, you\\'ll receive a JSON response with available options for bookings. \\n\\nYou can also make adjustments to your current reservations or monitor the status of a specific booking by providing the relevant information.\\n\\nFeel free to start your journey with us whenever you\\'re ready!', additional_kwargs={}, example=False),\n",
       "  AIMessage(content='THOUGHT: I need to book a flight for Mary Lewis. She will be traveling from San Francisco to Sydney. The departure date is 2023-01-20 and the return date is 2023-02-10. Her budget for the flight is $1500. I need to create a JSON request with these details to book the flight.\\n\\nACTION: \\n```\\n{\\n  \"reservation_type\": \"flight\",\\n  \"from\": \"San Francisco\",\\n  \"to\": \"Sydney\",\\n  \"departure_date\": \"2023-01-20\",\\n  \"return_date\": \"2023-02-10\",\\n  \"number_of_passengers\": 1,\\n  \"budget\": 1500\\n}\\n```', additional_kwargs={}, example=False),\n",
       "  HumanMessage(content='Thank you for your request. Here are some flight options that match your criteria:\\n\\n```\\n{\\n  \"booking_options\": [{\\n      \"flight_number\": \"QF74\",\\n      \"airline\": \"Qantas Airways\",\\n      \"departure_time\": \"2023-01-20 13:30\",\\n      \"arrival_time\": \"2023-01-21 21:45\",\\n      \"price\": 1400,\\n      \"available_seats\": 10,\\n      \"transfer\": \"Direct\"\\n    },\\n    {\\n      \"flight_number\": \"UA863\",\\n      \"airline\": \"United Airlines\",\\n      \"departure_time\": \"2023-01-20 14:00\",\\n      \"arrival_time\": \"2023-01-21 22:15\",\\n      \"price\": 1350,\\n      \"available_seats\": 8,\\n      \"transfer\": \"1 stop (Los Angeles)\"\\n    },\\n    {\\n      \"flight_number\": \"DL40\",\\n      \"airline\": \"Delta Air Lines\",\\n      \"departure_time\": \"2023-01-20 12:45\",\\n      \"arrival_time\": \"2023-01-21 21:00\",\\n      \"price\": 1450,\\n      \"available_seats\": 5,\\n      \"transfer\": \"Direct\"\\n    }\\n  ]\\n}\\n```\\n\\nYou can select any of these options by providing the flight number and airline. If you need to adjust any details or have more specific preferences, please let us know!', additional_kwargs={}, example=False),\n",
       "  AIMessage(content='THOUGHT: There are three flight options that fit within Mary\\'s budget. The first option is a direct flight with Qantas Airways, the second option has a stop in Los Angeles with United Airlines, and the third option is a direct flight with Delta Air Lines. Given that Mary didn\\'t specify a preference for a direct flight or not, I will select the cheapest option which is the flight with United Airlines.\\n\\nACTION: \\n```\\n{\\n  \"flight_number\": \"UA863\",\\n  \"airline\": \"United Airlines\"\\n}\\n```', additional_kwargs={}, example=False),\n",
       "  HumanMessage(content='Great choice! You have selected flight UA863 with United Airlines. The flight is scheduled to depart from San Francisco on 2023-01-20 at 14:00 and arrive in Sydney on 2023-01-21 at 22:15. The flight has one stop in Los Angeles. The total price for this flight is $1350.\\n\\nHere\\'s the reservation details:\\n\\n```\\n{\\n  \"reservation_details\": {\\n    \"flight_number\": \"UA863\",\\n    \"airline\": \"United Airlines\",\\n    \"from\": \"San Francisco\",\\n    \"to\": \"Sydney\",\\n    \"departure_time\": \"2023-01-20 14:00\",\\n    \"arrival_time\": \"2023-01-21 22:15\",\\n    \"seat_number\": \"12A\",\\n    \"price\": 1350,\\n    \"booking_status\": \"Reserved\"\\n  }\\n}\\n```\\n\\nYour seat number is 12A. Please note that your reservation details including the booking status and seat number will be available in your account. If you need to adjust the reservation or if you have any other requests, feel free to let us know!', additional_kwargs={}, example=False),\n",
       "  AIMessage(content='THOUGHT: The reservation has been successfully made for the flight UA863 with United Airlines. The seat number for Mary Lewis is 12A and the total price is $1350, which is within her budget. The booking status is \"Reserved\". I can now conclude the task as successful.\\n\\nACTION: success({\\n  \"reservation_details\": {\\n    \"flight_number\": \"UA863\",\\n    \"airline\": \"United Airlines\",\\n    \"from\": \"San Francisco\",\\n    \"to\": \"Sydney\",\\n    \"departure_time\": \"2023-01-20 14:00\",\\n    \"arrival_time\": \"2023-01-21 22:15\",\\n    \"seat_number\": \"12A\",\\n    \"price\": 1350,\\n    \"booking_status\": \"Reserved\"\\n  }\\n})', additional_kwargs={}, example=False)]}"
      ]
     },
     "execution_count": 18,
     "metadata": {},
     "output_type": "execute_result"
    }
   ],
   "source": [
    "resulting_dicts[0]"
   ]
  },
  {
   "cell_type": "code",
   "execution_count": 20,
   "id": "57559a04",
   "metadata": {},
   "outputs": [],
   "source": [
    "import html\n",
    "\n",
    "def format_single_chat(chat_data):\n",
    "    formatted_html = '<div style=\"border: 1px solid #ddd; padding: 10px; max-width: 1000px; margin-bottom: 20px;\">'\n",
    "\n",
    "    # Add task as a header\n",
    "    formatted_html += f'<h2>Task: {html.escape(chat_data[\"task\"])}</h2>'\n",
    "\n",
    "    # Add environment, io, and state with a smaller font on a neutral background\n",
    "    formatted_html += (\n",
    "        '<div style=\"background-color: #f7f7f7; padding: 10px; border-radius: 5px; font-size: 0.9em;\">'\n",
    "        f'<strong>Environment:</strong> {html.escape(chat_data[\"environment\"])}<br>'\n",
    "        f'<strong>IO:</strong> {html.escape(chat_data[\"io\"])}<br>'\n",
    "        f'<strong>State:</strong> {html.escape(chat_data[\"state\"])}'\n",
    "        '</div>'\n",
    "    )\n",
    "\n",
    "    # Loop through the conversation\n",
    "    for message in chat_data[\"conversation\"]:\n",
    "        # Depending on the message origin, use a different background color\n",
    "        bg_color = \"#f0f0f0\" if message.__class__.__name__ == \"HumanMessage\" else \"#d1e7fd\"\n",
    "        escaped_text = html.escape(message.content.strip())\n",
    "\n",
    "        formatted_html += (\n",
    "            f'<div style=\"background-color: {bg_color}; padding: 20px; '\n",
    "            'border-radius: 5px; margin: 20px 0;\">'\n",
    "            f'<strong>{message.__class__.__name__.replace(\"Message\", \"\")}:</strong> '\n",
    "            f'{escaped_text}'\n",
    "            '</div>'\n",
    "        )\n",
    "\n",
    "    formatted_html += '</div>'\n",
    "    return formatted_html"
   ]
  },
  {
   "cell_type": "code",
   "execution_count": 29,
   "id": "039ad993",
   "metadata": {},
   "outputs": [],
   "source": [
    "import html\n",
    "\n",
    "def format_single_chat(chat_data):\n",
    "    # Use a function to replace newlines with <br> tags\n",
    "    def format_text(text):\n",
    "        return html.escape(text).replace('\\n', '<br>')\n",
    "\n",
    "    # Start the HTML string\n",
    "    formatted_html = '<div style=\"border: 1px solid #ddd; padding: 10px; max-width: 1000px; margin-bottom: 20px;\">'\n",
    "    \n",
    "     # Add the task description as a header before the conversation starts\n",
    "    formatted_html += f'<h2>{format_text(chat_data[\"task\"])}</h2>'\n",
    "\n",
    "    # Add environment, io, state, and task at the beginning with smaller font and neutral background\n",
    "    formatted_html += f'<div style=\"background-color: #f5f5f5; padding: 10px; font-size: 0.9em;\">'\n",
    "    formatted_html += f'<strong>Environment:</strong> {format_text(chat_data[\"environment\"])}<br>'\n",
    "    formatted_html += f'<strong>IO:</strong> {format_text(chat_data[\"io\"])}<br>'\n",
    "    formatted_html += f'<strong>State:</strong> {format_text(chat_data[\"state\"])}<br>'\n",
    "    formatted_html += '</div>'\n",
    "    \n",
    "    # Go through each message in the conversation\n",
    "    for message in chat_data[\"conversation\"]:\n",
    "        # Determine message source and set appropriate color\n",
    "        if isinstance(message, HumanMessage):\n",
    "            color = \"#d9e3f0\"  # Light blue for human\n",
    "            from_who = \"Human\"\n",
    "        else:  # AIMessage\n",
    "            color = \"#e1d4e1\"  # Purple for AI\n",
    "            from_who = \"AI\"\n",
    "        \n",
    "        # Format the message with a slightly larger padding and rounded corners\n",
    "        formatted_html += f'<div style=\"background-color: {color}; padding: 20px; border-radius: 5px; margin: 20px 0;\">'\n",
    "        formatted_html += f'<strong>{from_who}:</strong> <div style=\"margin-top: 5px;\">{format_text(message.content)}</div>'\n",
    "        formatted_html += '</div>'\n",
    "    \n",
    "    # Close the main div\n",
    "    formatted_html += '</div>'\n",
    "    \n",
    "    return formatted_html\n"
   ]
  },
  {
   "cell_type": "code",
   "execution_count": 30,
   "id": "d64e70fb",
   "metadata": {},
   "outputs": [],
   "source": [
    "def save_chats_to_pdf(list_of_chat_histories, filename):\n",
    "    combined_html = \"\"\n",
    "    for chat_history in list_of_chat_histories:\n",
    "        combined_html += format_single_chat(chat_history)\n",
    "    \n",
    "    # Generate PDF from the combined HTML content\n",
    "    pdfkit.from_string(combined_html, filename)\n"
   ]
  },
  {
   "cell_type": "code",
   "execution_count": 31,
   "id": "b02b84da",
   "metadata": {},
   "outputs": [],
   "source": [
    "save_chats_to_pdf(resulting_dicts, \"./synthetic/synthetic_agent_sampler.pdf\")"
   ]
  },
  {
   "cell_type": "code",
   "execution_count": 22,
   "id": "110c5942",
   "metadata": {},
   "outputs": [
    {
     "data": {
      "text/html": [
       "<div style=\"border: 1px solid #ddd; padding: 10px; max-width: 1000px; margin-bottom: 20px;\"><h2>Task: Book a flight for Mary Lewis from San Francisco to Sydney departing on 2023-01-20 and returning on 2023-02-10 with a budget of $1500.</h2><div style=\"background-color: #f7f7f7; padding: 10px; border-radius: 5px; font-size: 0.9em;\"><strong>Environment:</strong> Book Reservation System: The agent interacts with a simulated booking system to reserve flights, hotels, or restaurants based on criteria. Travel agents can adjust reservation details and monitor booking statuses.<br><strong>IO:</strong> Outputs: The output format could be a structured JSON response containing key information about the available options for bookings. For flight bookings, it will return information like flight number, airline, departure time, arrival time, price, available seats, etc. For hotel bookings, it could return information like hotel name, location, price per night, available rooms, amenities, etc. For restaurant bookings, it could return information like restaurant name, location, available seats, menu, pricing, etc. Furthermore, it could return statuses of adjusted reservations and booking statuses.\n",
       "\n",
       "Inputs: The input format could be a specifically structured JSON request. The JSON request should have fields specifying the type of reservation (flight, hotel, restaurant), criteria for the reservation such as dates, number of people, location (for hotel and restaurant), destination (for flight), budget, preferred timings, dietary restrictions (for restaurant), room type (for hotel), etc. Additionally, there should be options to input requests for adjusting current reservations and also for monitoring the status of a specific booking. The agent should be able to input natural language queries, which will be processed to adjust the JSON request accordingly. \n",
       "\n",
       "For example, a JSON request for a hotel booking could look something like this:\n",
       "\n",
       "```\n",
       "{\n",
       "  &quot;reservation_type&quot;: &quot;hotel&quot;,\n",
       "  &quot;location&quot;: &quot;New York&quot;,\n",
       "  &quot;check_in_date&quot;: &quot;2022-10-01&quot;,\n",
       "  &quot;check_out_date&quot;: &quot;2022-10-10&quot;,\n",
       "  &quot;number_of_people&quot;: 2,\n",
       "  &quot;room_type&quot;: &quot;double_bed&quot;,\n",
       "  &quot;budget&quot;: 1500,\n",
       "  &quot;amenities&quot;: [&quot;wifi&quot;, &quot;breakfast&quot;]\n",
       "}\n",
       "```\n",
       "\n",
       "And a corresponding JSON response could look something like this:\n",
       "\n",
       "```\n",
       "{\n",
       "  &quot;booking_options&quot;: [{\n",
       "      &quot;hotel_name&quot;: &quot;The Grand New York&quot;,\n",
       "      &quot;location&quot;: &quot;Central Park West, New York&quot;,\n",
       "      &quot;price_per_night&quot;: 150,\n",
       "      &quot;available_rooms&quot;: 5,\n",
       "      &quot;amenities&quot;: [&quot;wifi&quot;, &quot;breakfast&quot;, &quot;spa&quot;, &quot;gym&quot;],\n",
       "      &quot;total_price&quot;: 1350\n",
       "    },\n",
       "    {\n",
       "      &quot;hotel_name&quot;: &quot;The Plaza Hotel&quot;,\n",
       "      &quot;location&quot;: &quot;Fifth Avenue, New York&quot;,\n",
       "      &quot;price_per_night&quot;: 200,\n",
       "      &quot;available_rooms&quot;: 3,\n",
       "      &quot;amenities&quot;: [&quot;wifi&quot;, &quot;breakfast&quot;, &quot;pool&quot;, &quot;gym&quot;],\n",
       "      &quot;total_price&quot;: 1800\n",
       "    }\n",
       "  ]\n",
       "}\n",
       "```<br><strong>State:</strong> The software environment includes a database of available flights from various airlines, departure and arrival locations, timings, prices, and available seats.</div><div style=\"background-color: #f0f0f0; padding: 20px; border-radius: 5px; margin: 20px 0;\"><strong>Human:</strong> Interact with a software environment to solve a task. Imagine you are an intelligent agent working for a user and your target is to perform actions to complete the task goal. At the beginning of your interactions, you will be given a detailed description of the current environment and your goal to accomplish. For each of your turns, you will be given a list of actions which you can choose one to perform in this turn. You should provide two parts of your response: &quot;THOUGHT&quot; and &quot;ACTION&quot;. For  &quot;THOUGHT&quot;, you should first think about the current condition and plan for your future actions, and then output your &quot;ACTION&quot; in this turn. Your output must strictly follow this format:&quot;THOUGHT: your thoughts.\n",
       " ACTION: your next action \n",
       "&quot;; For &quot;ACTION&quot;, you should directly output the action this turn. Your output must strictly follow this format:&quot;ACTION: your next action\n",
       "&quot;. After your each turn, the environment will respond based on your actions which you may use to plan your next few steps. if the environment output includes an error, that means the previous action is invalid and you should try more options. If you have finished the task, you can call the success function &quot;success([outputs,...])&quot; with any final outputs.\n",
       " Reminder: \n",
       "1. the action must follow any formats requested\n",
       "2. Think when necessary, try to act directly more in the process.\n",
       "If information is requested that you don&#x27;t have, you may use placeholder information, but please note the information when calling &quot;success()&quot;. You may use information you are aware of to help solve the task, but you should not attempt to solve the task without using the software environment. \n",
       "\n",
       "Software Environment: Book Reservation System: The agent interacts with a simulated booking system to reserve flights, hotels, or restaurants based on criteria. Travel agents can adjust reservation details and monitor booking statuses.\n",
       "Your Task: Book a flight for Mary Lewis from San Francisco to Sydney departing on 2023-01-20 and returning on 2023-02-10 with a budget of $1500.</div><div style=\"background-color: #f0f0f0; padding: 20px; border-radius: 5px; margin: 20px 0;\"><strong>Human:</strong> Welcome to the Travel Book Reservation System! You can use this system to book flights, hotels, and restaurants based on your specific needs. \n",
       "\n",
       "To start, you can send a JSON structured request specifying the type of reservation (flight, hotel, restaurant), and the relevant criteria for your booking. \n",
       "\n",
       "For flight bookings, please provide information like destination, dates of travel, number of passengers, and budget. For hotel bookings, mention the location, check-in and check-out dates, number of people, room type, and budget. For restaurant bookings, specify the location, date, time, number of people, and any dietary restrictions.\n",
       "\n",
       "Here&#x27;s an example of a JSON request for booking a hotel:\n",
       "```\n",
       "{\n",
       "  &quot;reservation_type&quot;: &quot;hotel&quot;,\n",
       "  &quot;location&quot;: &quot;New York&quot;,\n",
       "  &quot;check_in_date&quot;: &quot;2022-10-01&quot;,\n",
       "  &quot;check_out_date&quot;: &quot;2022-10-10&quot;,\n",
       "  &quot;number_of_people&quot;: 2,\n",
       "  &quot;room_type&quot;: &quot;double_bed&quot;,\n",
       "  &quot;budget&quot;: 1500,\n",
       "  &quot;amenities&quot;: [&quot;wifi&quot;, &quot;breakfast&quot;]\n",
       "}\n",
       "```\n",
       "\n",
       "Remember to input your requests clearly and as per the expected format. If there&#x27;s any issue with your input, the system will return an error and guide you on how to correct the input.\n",
       "\n",
       "Once your request is processed, you&#x27;ll receive a JSON response with available options for bookings. \n",
       "\n",
       "You can also make adjustments to your current reservations or monitor the status of a specific booking by providing the relevant information.\n",
       "\n",
       "Feel free to start your journey with us whenever you&#x27;re ready!</div><div style=\"background-color: #d1e7fd; padding: 20px; border-radius: 5px; margin: 20px 0;\"><strong>AI:</strong> THOUGHT: I need to book a flight for Mary Lewis. She will be traveling from San Francisco to Sydney. The departure date is 2023-01-20 and the return date is 2023-02-10. Her budget for the flight is $1500. I need to create a JSON request with these details to book the flight.\n",
       "\n",
       "ACTION: \n",
       "```\n",
       "{\n",
       "  &quot;reservation_type&quot;: &quot;flight&quot;,\n",
       "  &quot;from&quot;: &quot;San Francisco&quot;,\n",
       "  &quot;to&quot;: &quot;Sydney&quot;,\n",
       "  &quot;departure_date&quot;: &quot;2023-01-20&quot;,\n",
       "  &quot;return_date&quot;: &quot;2023-02-10&quot;,\n",
       "  &quot;number_of_passengers&quot;: 1,\n",
       "  &quot;budget&quot;: 1500\n",
       "}\n",
       "```</div><div style=\"background-color: #f0f0f0; padding: 20px; border-radius: 5px; margin: 20px 0;\"><strong>Human:</strong> Thank you for your request. Here are some flight options that match your criteria:\n",
       "\n",
       "```\n",
       "{\n",
       "  &quot;booking_options&quot;: [{\n",
       "      &quot;flight_number&quot;: &quot;QF74&quot;,\n",
       "      &quot;airline&quot;: &quot;Qantas Airways&quot;,\n",
       "      &quot;departure_time&quot;: &quot;2023-01-20 13:30&quot;,\n",
       "      &quot;arrival_time&quot;: &quot;2023-01-21 21:45&quot;,\n",
       "      &quot;price&quot;: 1400,\n",
       "      &quot;available_seats&quot;: 10,\n",
       "      &quot;transfer&quot;: &quot;Direct&quot;\n",
       "    },\n",
       "    {\n",
       "      &quot;flight_number&quot;: &quot;UA863&quot;,\n",
       "      &quot;airline&quot;: &quot;United Airlines&quot;,\n",
       "      &quot;departure_time&quot;: &quot;2023-01-20 14:00&quot;,\n",
       "      &quot;arrival_time&quot;: &quot;2023-01-21 22:15&quot;,\n",
       "      &quot;price&quot;: 1350,\n",
       "      &quot;available_seats&quot;: 8,\n",
       "      &quot;transfer&quot;: &quot;1 stop (Los Angeles)&quot;\n",
       "    },\n",
       "    {\n",
       "      &quot;flight_number&quot;: &quot;DL40&quot;,\n",
       "      &quot;airline&quot;: &quot;Delta Air Lines&quot;,\n",
       "      &quot;departure_time&quot;: &quot;2023-01-20 12:45&quot;,\n",
       "      &quot;arrival_time&quot;: &quot;2023-01-21 21:00&quot;,\n",
       "      &quot;price&quot;: 1450,\n",
       "      &quot;available_seats&quot;: 5,\n",
       "      &quot;transfer&quot;: &quot;Direct&quot;\n",
       "    }\n",
       "  ]\n",
       "}\n",
       "```\n",
       "\n",
       "You can select any of these options by providing the flight number and airline. If you need to adjust any details or have more specific preferences, please let us know!</div><div style=\"background-color: #d1e7fd; padding: 20px; border-radius: 5px; margin: 20px 0;\"><strong>AI:</strong> THOUGHT: There are three flight options that fit within Mary&#x27;s budget. The first option is a direct flight with Qantas Airways, the second option has a stop in Los Angeles with United Airlines, and the third option is a direct flight with Delta Air Lines. Given that Mary didn&#x27;t specify a preference for a direct flight or not, I will select the cheapest option which is the flight with United Airlines.\n",
       "\n",
       "ACTION: \n",
       "```\n",
       "{\n",
       "  &quot;flight_number&quot;: &quot;UA863&quot;,\n",
       "  &quot;airline&quot;: &quot;United Airlines&quot;\n",
       "}\n",
       "```</div><div style=\"background-color: #f0f0f0; padding: 20px; border-radius: 5px; margin: 20px 0;\"><strong>Human:</strong> Great choice! You have selected flight UA863 with United Airlines. The flight is scheduled to depart from San Francisco on 2023-01-20 at 14:00 and arrive in Sydney on 2023-01-21 at 22:15. The flight has one stop in Los Angeles. The total price for this flight is $1350.\n",
       "\n",
       "Here&#x27;s the reservation details:\n",
       "\n",
       "```\n",
       "{\n",
       "  &quot;reservation_details&quot;: {\n",
       "    &quot;flight_number&quot;: &quot;UA863&quot;,\n",
       "    &quot;airline&quot;: &quot;United Airlines&quot;,\n",
       "    &quot;from&quot;: &quot;San Francisco&quot;,\n",
       "    &quot;to&quot;: &quot;Sydney&quot;,\n",
       "    &quot;departure_time&quot;: &quot;2023-01-20 14:00&quot;,\n",
       "    &quot;arrival_time&quot;: &quot;2023-01-21 22:15&quot;,\n",
       "    &quot;seat_number&quot;: &quot;12A&quot;,\n",
       "    &quot;price&quot;: 1350,\n",
       "    &quot;booking_status&quot;: &quot;Reserved&quot;\n",
       "  }\n",
       "}\n",
       "```\n",
       "\n",
       "Your seat number is 12A. Please note that your reservation details including the booking status and seat number will be available in your account. If you need to adjust the reservation or if you have any other requests, feel free to let us know!</div><div style=\"background-color: #d1e7fd; padding: 20px; border-radius: 5px; margin: 20px 0;\"><strong>AI:</strong> THOUGHT: The reservation has been successfully made for the flight UA863 with United Airlines. The seat number for Mary Lewis is 12A and the total price is $1350, which is within her budget. The booking status is &quot;Reserved&quot;. I can now conclude the task as successful.\n",
       "\n",
       "ACTION: success({\n",
       "  &quot;reservation_details&quot;: {\n",
       "    &quot;flight_number&quot;: &quot;UA863&quot;,\n",
       "    &quot;airline&quot;: &quot;United Airlines&quot;,\n",
       "    &quot;from&quot;: &quot;San Francisco&quot;,\n",
       "    &quot;to&quot;: &quot;Sydney&quot;,\n",
       "    &quot;departure_time&quot;: &quot;2023-01-20 14:00&quot;,\n",
       "    &quot;arrival_time&quot;: &quot;2023-01-21 22:15&quot;,\n",
       "    &quot;seat_number&quot;: &quot;12A&quot;,\n",
       "    &quot;price&quot;: 1350,\n",
       "    &quot;booking_status&quot;: &quot;Reserved&quot;\n",
       "  }\n",
       "})</div></div>"
      ],
      "text/plain": [
       "<IPython.core.display.HTML object>"
      ]
     },
     "metadata": {},
     "output_type": "display_data"
    }
   ],
   "source": [
    "from IPython.display import display, HTML\n",
    "\n",
    "# Assume 'format_single_chat' is already defined and 'chat_data' is your input dictionary\n",
    "formatted_html_content = format_single_chat(resulting_dicts[0])\n",
    "\n",
    "# Display the HTML in the Jupyter notebook\n",
    "display(HTML(formatted_html_content))"
   ]
  },
  {
   "cell_type": "code",
   "execution_count": null,
   "id": "7a69e04e",
   "metadata": {},
   "outputs": [],
   "source": []
  }
 ],
 "metadata": {
  "kernelspec": {
   "display_name": "Python 3 (ipykernel)",
   "language": "python",
   "name": "python3"
  },
  "language_info": {
   "codemirror_mode": {
    "name": "ipython",
    "version": 3
   },
   "file_extension": ".py",
   "mimetype": "text/x-python",
   "name": "python",
   "nbconvert_exporter": "python",
   "pygments_lexer": "ipython3",
   "version": "3.11.4"
  }
 },
 "nbformat": 4,
 "nbformat_minor": 5
}
