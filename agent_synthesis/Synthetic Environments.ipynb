{
 "cells": [
  {
   "cell_type": "code",
   "execution_count": 1,
   "id": "9ba27ba6",
   "metadata": {},
   "outputs": [],
   "source": [
    "from IPython.display import HTML, display\n",
    "from copy import deepcopy\n",
    "import random\n",
    "import os\n",
    "import openai\n",
    "import time\n",
    "import sys\n",
    "import ast\n",
    "import json\n",
    "\n",
    "from langchain.llms import OpenAI\n",
    "from langchain.chat_models import ChatOpenAI\n",
    "from langchain.schema import HumanMessage, AIMessage, SystemMessage\n",
    "from getpass import getpass\n",
    "import os\n",
    "import pandas as pd\n",
    "\n",
    "import pdfkit\n",
    "import html\n",
    "from copy import deepcopy\n"
   ]
  },
  {
   "cell_type": "code",
   "execution_count": 2,
   "id": "d3ba8313",
   "metadata": {},
   "outputs": [
    {
     "name": "stdout",
     "output_type": "stream",
     "text": [
      "········\n"
     ]
    }
   ],
   "source": [
    "# setting up an OpenAI template on the run\n",
    "OPENAI_API_KEY = getpass()\n",
    "\n",
    "os.environ['OPENAI_API_KEY'] = OPENAI_API_KEY"
   ]
  },
  {
   "cell_type": "markdown",
   "id": "9b479fbf",
   "metadata": {},
   "source": [
    "### Setup Model"
   ]
  },
  {
   "cell_type": "code",
   "execution_count": 3,
   "id": "e2f84628",
   "metadata": {},
   "outputs": [],
   "source": [
    "model = ChatOpenAI(model=\"gpt-4-0613\")\n",
    "model.temperature = 0.8"
   ]
  },
  {
   "cell_type": "code",
   "execution_count": 81,
   "id": "a0def2ef",
   "metadata": {},
   "outputs": [
    {
     "data": {
      "text/plain": [
       "NoneType"
      ]
     },
     "execution_count": 81,
     "metadata": {},
     "output_type": "execute_result"
    }
   ],
   "source": [
    "type(model.max_tokens)"
   ]
  },
  {
   "cell_type": "markdown",
   "id": "cc54f5d3",
   "metadata": {},
   "source": [
    "### Input and Output Modeling"
   ]
  },
  {
   "cell_type": "code",
   "execution_count": 4,
   "id": "0840468b",
   "metadata": {},
   "outputs": [],
   "source": [
    "environment_design_prompt = '''\n",
    "Help me design an environment for agents to interact in. I will give you an environment idea, and you will spend some time thinking about how it could work. The environment will be entirely text-based, and turn based, and the user will be expected to try to complete an action in that environment. The user will be an AI agent acting on behalf of a user. You will need to specify a reasonable output format that can convey the information of the environment, and an input format that can give the user the power to use the environment to the fullest. \n",
    "\n",
    "Here are some examples (but you can do better):\n",
    "Example 1: Web-browser accessing company intranet\n",
    "Outputs: Outputs simplified HTML (CSS and Javascript removed, HTML edited to focus on content)\n",
    "Inputs: Python code that uses the playwright library to direct the browser\n",
    "\n",
    "Example 2: Computer Network Management System\n",
    "Outputs: Command line output using output from tools like Cisco IOS, nmap, snmpwalk, lldp, iptables, ntopng, wireshark, openvpn, wireguard, isc dhcp server, etc.\n",
    "Inputs: Command Line Inputs and files, such as,\n",
    "JSON configurations for bulk configuration.\n",
    "YAML configurations.\n",
    "Infrastructure-as-code files.\n",
    "Initial Capabilities Displayed by SNMS:\n",
    "ADD_DEVICE: Add a device to the virtual network.\n",
    "CONFIGURE_DEVICE: Configure a device in the virtual network.\n",
    "SHOW_NETWORK: Display current network topology.\n",
    "PING: Test connectivity between two devices.\n",
    "SAVE_CONFIG: Save configuration of devices.\n",
    "ASK_QUESTION: Pose a natural language question about capabilities.\n",
    "\n",
    "Example 3: Flight Booking System\n",
    "Outputs: XML outputs in proprietary format [you should provide more detail than this]\n",
    "Inputs: JSON Inputs in proprietary format  [you should provide more detail than this]\n",
    "-------\n",
    "Your description of the Outputs and Inputs should be high level (we will get into further detail later) BUT MUST BE AS SPECIFIC AS POSSIBLE (Please no \"it could be JSON or XML\"). Also, you can assume that the inputs include some mechanism for querying the documentation of the input format in natural language. \n",
    "\n",
    "Your output format:\n",
    "Outputs: [The output format that would be used]\n",
    "Inputs: [The input format that would be used]\n",
    "\n",
    "Your environment to design:\n",
    "{}\n",
    "'''"
   ]
  },
  {
   "cell_type": "code",
   "execution_count": 5,
   "id": "5b6aa27a",
   "metadata": {},
   "outputs": [],
   "source": [
    "environment_example = '''\n",
    "Recipe Query System: The agent can search for and suggest recipes based on available ingredients.\n",
    "'''"
   ]
  },
  {
   "cell_type": "code",
   "execution_count": 7,
   "id": "5286fb70",
   "metadata": {},
   "outputs": [],
   "source": [
    "design_prompt_filled = environment_design_prompt.format(environment_example)\n",
    "design_messages = [\n",
    "        HumanMessage(content=design_prompt_filled)\n",
    "    ]\n",
    "environment_design_result = model.predict_messages(design_messages)"
   ]
  },
  {
   "cell_type": "code",
   "execution_count": 37,
   "id": "eedab65b",
   "metadata": {},
   "outputs": [
    {
     "name": "stdout",
     "output_type": "stream",
     "text": [
      "Outputs: The output format could be a JSON file for each recipe result that includes the recipe name, ingredients, cooking instructions, cooking time, and associated images URL. This would allow the agent to easily parse the information and present it to the user in a readable format. Suppose a user is searching for a recipe that can be made with chicken and broccoli. An example of the output could be:\n",
      "\n",
      "{\n",
      "    \"recipeName\": \"Chicken and Broccoli Stir-fry\",\n",
      "    \"ingredients\": [\"Chicken\", \"Broccoli\", \"Soy Sauce\", \"Garlic\", \"Ginger\"],\n",
      "    \"instructions\": \"1. Heat pan and add oil. 2. Add garlic and ginger...\",\n",
      "    \"cookingTime\": \"35 minutes\",\n",
      "    \"imageURL\": \"http://example.com/path_to_image\"\n",
      "}\n",
      "\n",
      "Inputs: The input format could be a JSON file where the agent can specify the ingredients that the user has available. The system should also accept additional parameters such as dietary restrictions, cuisine preference etc. An example of the input could be:\n",
      "\n",
      "{\n",
      "    \"ingredients\": [\"Chicken\", \"Broccoli\"],\n",
      "    \"diet\": \"Keto\",\n",
      "    \"cuisine\": \"Chinese\"\n",
      "}\n"
     ]
    }
   ],
   "source": [
    "inputs_and_outputs = environment_design_result.content\n",
    "print(inputs_and_outputs)"
   ]
  },
  {
   "cell_type": "code",
   "execution_count": 11,
   "id": "35fb1adc",
   "metadata": {},
   "outputs": [],
   "source": [
    "e_d_output, e_d_input = environment_design_result.content.split(\"Inputs: \")"
   ]
  },
  {
   "cell_type": "code",
   "execution_count": 13,
   "id": "6ce7346a",
   "metadata": {},
   "outputs": [],
   "source": [
    "e_d_output = e_d_output.lstrip(\"Outputs: \")"
   ]
  },
  {
   "cell_type": "code",
   "execution_count": 14,
   "id": "02607a0f",
   "metadata": {},
   "outputs": [
    {
     "data": {
      "text/plain": [
       "'The output format could be a JSON file for each recipe result that includes the recipe name, ingredients, cooking instructions, cooking time, and associated images URL. This would allow the agent to easily parse the information and present it to the user in a readable format. Suppose a user is searching for a recipe that can be made with chicken and broccoli. An example of the output could be:\\n\\n{\\n    \"recipeName\": \"Chicken and Broccoli Stir-fry\",\\n    \"ingredients\": [\"Chicken\", \"Broccoli\", \"Soy Sauce\", \"Garlic\", \"Ginger\"],\\n    \"instructions\": \"1. Heat pan and add oil. 2. Add garlic and ginger...\",\\n    \"cookingTime\": \"35 minutes\",\\n    \"imageURL\": \"http://example.com/path_to_image\"\\n}\\n\\n'"
      ]
     },
     "execution_count": 14,
     "metadata": {},
     "output_type": "execute_result"
    }
   ],
   "source": [
    "e_d_output"
   ]
  },
  {
   "cell_type": "markdown",
   "id": "3be83860",
   "metadata": {},
   "source": [
    "#### Get a list of Tasks"
   ]
  },
  {
   "cell_type": "code",
   "execution_count": 82,
   "id": "fc14595e",
   "metadata": {},
   "outputs": [],
   "source": [
    "tasks_generation_prompt = '''Consider the following software environment: {}\n",
    "\n",
    "The environment has the following inputs and outputs:\n",
    "{}\n",
    "\n",
    "---------\n",
    "Can you think of a long list of twenty-five tasks that can be executed in that environment? Your character limit has been turned off. \n",
    "\n",
    "It's important that the tasks are diverse and use all of the possible features of the environment. Tasks should be specific (\"Check out a science fiction book on rockets for Maryann Bray\" versus \"Check out a book\", \"Find available properties near State and Lake in Chicago under $1000/month\" versus \"Find available properties\") and should include any information reasonably needed to complete the task (If the task is a dinner reservation, it should include the number of diners). By making the tasks VERY DETAILED, it should be easier to make a long list of twenty five of them. Each task should be for a different end user. Avoid generic names for things (John Doe, Acme Corporation), be creative. \n",
    "\n",
    "For each task, include a plain text description of the software state. Software state can include things such as data or knowledge that it may have, pages or screens it may use, history of previous actions, users data, etc. depending on the environment  that the user would encounter in that task. (Like,  if the task is to find the email address of Sally Smith from an employee directory on a company intranet, then the software state would include \"the Intranet environment includes an employee directory with Sally Smith in it\"). THE SOFTWARE STATE CAN BE VERBOSE AND SHOULD NOT REFERENCE THE TASK OR ASSUME THE  READER OF THE TASK IS PROVIDED WITH THE STATE. Format in json like this: {{\"task\": \"[task]\",\"state\":\"[state]\"\\}}, etc. I'd love a list of like twenty-five tasks and states.\n",
    "\n",
    "'''"
   ]
  },
  {
   "cell_type": "code",
   "execution_count": 32,
   "id": "7ba9c016",
   "metadata": {},
   "outputs": [],
   "source": [
    "tasks_generation_filled = tasks_generation_prompt.format(environment_example, environment_design_result.content)\n",
    "tasks_generation_messages = [\n",
    "        HumanMessage(content=tasks_generation_filled)\n",
    "    ]\n",
    "tasks_generation_result = model.predict_messages(tasks_generation_messages)"
   ]
  },
  {
   "cell_type": "code",
   "execution_count": null,
   "id": "881a9b64",
   "metadata": {},
   "outputs": [],
   "source": []
  },
  {
   "cell_type": "code",
   "execution_count": 33,
   "id": "856a1c75",
   "metadata": {},
   "outputs": [],
   "source": [
    "import re\n",
    "pattern = r'\\{[^}]*\\}'\n",
    "\n",
    "matches = re.findall(pattern, tasks_generation_result.content)\n",
    "\n",
    "tasks_and_state = []\n",
    "for match in matches:\n",
    "    tasks_and_state.append(match)"
   ]
  },
  {
   "cell_type": "code",
   "execution_count": 34,
   "id": "7ed6c768",
   "metadata": {},
   "outputs": [
    {
     "data": {
      "text/plain": [
       "['{\"task\":\"Find a vegan recipe using only carrots and potatoes\",\"state\":\"The software has a database of recipes and can filter based on ingredients and dietary preferences.\"}',\n",
       " '{\"task\":\"Find a gluten-free dessert recipe that can be cooked in under 30 minutes\",\"state\":\"The software can search through a recipe database, filtering by dietary restrictions, dish types, and cooking time.\"}',\n",
       " '{\"task\":\"Find a Keto diet recipe that uses beef and is of Mexican cuisine\",\"state\":\"The software is connected to a recipe database that can filter based on cuisine, diet, and ingredients.\"}',\n",
       " '{\"task\":\"Find a seafood recipe that doesn\\'t include shellfish\",\"state\":\"The software has a recipe database with detailed ingredient lists and can exclude certain ingredients in its search.\"}',\n",
       " '{\"task\":\"Find a pasta recipe that can be made using only pantry staples\",\"state\":\"The software has a recipe database and can suggest recipes based on the ingredients provided.\"}',\n",
       " '{\"task\":\"Find an egg-free breakfast recipe\",\"state\":\"The software is connected to a recipe database that can filter based on dietary restrictions and meal types.\"}',\n",
       " '{\"task\":\"Find a vegan recipe using coconut milk and curry powder\",\"state\":\"The software has a database of recipes and can filter based on ingredients and dietary preferences.\"}',\n",
       " '{\"task\":\"Find a French cuisine dessert recipe that doesn\\'t include dairy\",\"state\":\"The software can search through a recipe database, filtering by dietary restrictions and cuisine.\"}',\n",
       " '{\"task\":\"Find a Mediterranean diet recipe that uses olives and is under 500 calories\",\"state\":\"The software is connected to a recipe database that can filter based on cuisine, diet, ingredients, and calorie count.\"}',\n",
       " '{\"task\":\"Find a Paleo diet lunch recipe that can be prepared in under 20 minutes\",\"state\":\"The software is connected to a recipe database that can filter recipes based on diet, meal type, and preparation time.\"}',\n",
       " '{\"task\":\"Find a vegetarian dinner recipe that uses tofu and is of Italian cuisine\",\"state\":\"The software has a database of recipes and can filter based on ingredients, dietary preference, meal type, and cuisine.\"}',\n",
       " '{\"task\":\"Find a recipe using only ingredients available in a standard American kitchen\",\"state\":\"The software has a recipe database and can suggest recipes based on the ingredients provided.\"}',\n",
       " '{\"task\":\"Find a low-carb recipe that uses chicken and is of Greek cuisine\",\"state\":\"The software is connected to a recipe database that can filter based on ingredients, diet, and cuisine.\"}',\n",
       " '{\"task\":\"Find a gluten-free dinner recipe that can be cooked in a slow cooker\",\"state\":\"The software can search through a recipe database, filtering by dietary restrictions, cooking method, and meal type.\"}',\n",
       " '{\"task\":\"Find a dairy-free soup recipe that can be prepared in under an hour\",\"state\":\"The software is connected to a recipe database that can filter recipes based on dietary restrictions, meal type, and cooking time.\"}',\n",
       " '{\"task\":\"Find a vegan snack recipe that uses nuts and can be prepared in advance\",\"state\":\"The software has a database of recipes and can filter based on ingredients, dietary preference, and preparation requirements.\"}',\n",
       " '{\"task\":\"Find a recipe for a dairy-free, gluten-free birthday cake\",\"state\":\"The software can search through a recipe database, filtering by dietary restrictions and dish types.\"}',\n",
       " '{\"task\":\"Find a low-sodium lunch recipe that uses canned tuna\",\"state\":\"The software is connected to a recipe database that can filter based on ingredients, dietary restrictions, and meal type.\"}',\n",
       " '{\"task\":\"Find an egg-free bread recipe that doesn\\'t require a bread machine\",\"state\":\"The software can search through a recipe database, filtering by dietary restrictions, dish types, and cooking method.\"}',\n",
       " '{\"task\":\"Find a high-protein breakfast recipe that uses oats\",\"state\":\"The software has a database of recipes and can filter based on ingredients and nutritional requirements.\"}',\n",
       " '{\"task\":\"Find a kid-friendly dinner recipe that uses ground turkey\",\"state\":\"The software is connected to a recipe database that can filter recipes based on ingredients and appropriateness for children.\"}',\n",
       " '{\"task\":\"Find a vegetarian lunch recipe that uses quinoa and is under 300 calories\",\"state\":\"The software can search through a recipe database, filtering by dietary restrictions, ingredients, meal type, and calorie count.\"}',\n",
       " '{\"task\":\"Find a gluten-free, nut-free dessert recipe\",\"state\":\"The software can search through a recipe database, filtering by dietary restrictions and dish types.\"}',\n",
       " '{\"task\":\"Find a Keto diet dinner recipe that uses salmon and can be cooked on a grill\",\"state\":\"The software is connected to a recipe database that can filter recipes based on diet, ingredients, meal type, and cooking method.\"}',\n",
       " '{\"task\":\"Find a Paleo diet snack recipe that uses bananas and can be prepared in advance\",\"state\":\"The software has a database of recipes and can filter based on ingredients, diet, and preparation requirements.\"}']"
      ]
     },
     "execution_count": 34,
     "metadata": {},
     "output_type": "execute_result"
    }
   ],
   "source": [
    "tasks_and_state"
   ]
  },
  {
   "cell_type": "markdown",
   "id": "30890841",
   "metadata": {},
   "source": [
    "#### Create a conversation"
   ]
  },
  {
   "cell_type": "code",
   "execution_count": 60,
   "id": "64fde313",
   "metadata": {},
   "outputs": [],
   "source": [
    "environment_prompt_template = '''\n",
    "You will simulate a software enviroment that can be used by a user or agent. You will simulate the following software environment:\n",
    "{}\n",
    "\n",
    "The following information explains the expectations about inputs and outputs of the environment:\n",
    "{}\n",
    "\n",
    "You should do your absolute best to interact with the user as if you are the given environment. You should NOT act as if you are chatGPT, GPT-4, or any other AI agent. The goal is to make a convincing simulation. Below you are given information about the state of the environment:\n",
    "{}\n",
    "\n",
    "When acting as the environment, you may make up any data or information you need, as long as it is consistent with the state and the user actions. You should prefer realistic data and responses over “example” data that is generic (“Matthew Harris” is better than “John Doe”, “Carter Products” is better than “Acme Products”). Your outputs should ALWAYS be consistent with the expectations about outputs!\n",
    "\n",
    "In any situation where the inputs from the user are incomplete, unrecognized, or not as per the expected format for the software environment, you should return an error and generic information about how inputs of the given type may be presented. \n",
    "\n",
    "Please start with an opening message from the software environment to the user with a basic explanation of how to begin using the software environment.\n",
    "'''\n",
    "\n",
    "\n",
    "agent_prompt_template = '''\n",
    "Interact with a software environment to solve a task. Imagine you are an intelligent agent working for a user and your target is to perform actions to complete the task goal. At the beginning of your interactions, you will be given a detailed description of the current environment and your goal to accomplish. For each of your turns, you will be given a list of actions which you can choose one to perform in this turn. You should provide two parts of your response: \"THOUGHT\" and \"ACTION\". For  \"THOUGHT\", you should first think about the current condition and plan for your future actions, and then output your \"ACTION\" in this turn. Your output must strictly follow this format:\"THOUGHT: your thoughts.\n",
    " ACTION: your next action \n",
    "\"; For \"ACTION\", you should directly output the action this turn. Your output must strictly follow this format:\"ACTION: your next action\n",
    "\". After your each turn, the environment will respond based on your actions which you may use to plan your next few steps. if the environment output includes an error, that means the previous action is invalid and you should try more options. If you have finished the task, you can call the success function \"success([outputs,...])\" with any final outputs.\n",
    " Reminder: \n",
    "1. the action must follow any formats requested\n",
    "2. Think when necessary, try to act directly more in the process.\n",
    "If information is requested that you don't have, you may use placeholder information, but please note the information when calling \"success()\". You may use information you are aware of to help solve the task, but you should not attempt to solve the task without using the software environment. \n",
    "\n",
    "Software Environment: {}\n",
    "Your Task: {}\n",
    "'''"
   ]
  },
  {
   "cell_type": "code",
   "execution_count": 61,
   "id": "3c2322b7",
   "metadata": {},
   "outputs": [],
   "source": [
    "the_task = eval(tasks_and_state[0])['task']\n",
    "the_state = eval(tasks_and_state[0])['state']"
   ]
  },
  {
   "cell_type": "code",
   "execution_count": 62,
   "id": "cb555c5c",
   "metadata": {},
   "outputs": [],
   "source": [
    "environment_prompt = environment_prompt_template.format(environment_example, inputs_and_outputs, the_state)\n",
    "agent_prompt = agent_prompt_template.format(environment_example, the_task)\n",
    "\n",
    "\n",
    "agent_messages = [\n",
    "    HumanMessage(content=agent_prompt),\n",
    "]\n",
    "\n",
    "environment_messages = [\n",
    "    HumanMessage(content=environment_prompt)\n",
    "]"
   ]
  },
  {
   "cell_type": "code",
   "execution_count": 63,
   "id": "891f7ad9",
   "metadata": {},
   "outputs": [
    {
     "name": "stdout",
     "output_type": "stream",
     "text": [
      "Welcome to Recipe Query System. To get started, you can provide a list of ingredients you have on hand, and we will suggest a recipe for you. You can also specify dietary restrictions or cuisine preferences. Please input your information in the following format:\n",
      "\n",
      "{\n",
      "    \"ingredients\": [\"Ingredient1\", \"Ingredient2\"],\n",
      "    \"diet\": \"YourDiet\",\n",
      "    \"cuisine\": \"YourPreferredCuisine\"\n",
      "}\n",
      "\n",
      "Once the request is processed, you will receive a JSON response with the recipe name, ingredients, cooking instructions, cooking time, and associated images URL. Let's cook something delicious!\n",
      "THOUGHT: I need to structure the request to the Recipe Query System with carrots and potatoes as the ingredients, and specify the diet as vegan.\n",
      "\n",
      "ACTION: \n",
      "{\n",
      "    \"ingredients\": [\"carrots\", \"potatoes\"],\n",
      "    \"diet\": \"vegan\",\n",
      "    \"cuisine\": \"\"\n",
      "}\n",
      "{\n",
      "    \"recipeName\": \"Vegan Carrot and Potato Soup\",\n",
      "    \"ingredients\": [\"Carrots\", \"Potatoes\", \"Vegetable Stock\", \"Garlic\", \"Onion\", \"Salt\", \"Pepper\", \"Olive Oil\"],\n",
      "    \"instructions\": \"1. Peel and chop the carrots and potatoes. 2. In a large pot, heat the olive oil over medium heat. Add the onions and garlic, cook until soft. 3. Add the carrots, potatoes, and vegetable stock. Bring to a boil, then reduce heat and simmer until vegetables are tender. 4. Use a blender to puree the soup until smooth. 5. Season with salt and pepper to taste. Enjoy your Vegan Carrot and Potato Soup!\",\n",
      "    \"cookingTime\": \"45 minutes\",\n",
      "    \"imageURL\": \"http://example.com/Vegan_Carrot_Potato_Soup.jpg\"\n",
      "}\n",
      "THOUGHT: The Recipe Query System has provided a suitable recipe, the \"Vegan Carrot and Potato Soup\". The recipe includes a list of ingredients, instructions, cooking time, and an image URL. However, it contains more ingredients than I initially requested, but these are basic ingredients that are likely to be available at the user's home. \n",
      "\n",
      "ACTION: \n",
      "success([\"Vegan Carrot and Potato Soup\", \"http://example.com/Vegan_Carrot_Potato_Soup.jpg\"])\n"
     ]
    }
   ],
   "source": [
    "num_turns = 10\n",
    "\n",
    "for i in range(num_turns):\n",
    "    environment_result = model.predict_messages(environment_messages)\n",
    "    environment_messages.append(environment_result)\n",
    "    print(environment_result.content)\n",
    "    agent_messages.append(HumanMessage(content=environment_result.content))\n",
    "    agent_response = model.predict_messages(agent_messages)\n",
    "    print(agent_response.content)\n",
    "    agent_result = agent_response.content.split(\"ACTION:\")[1].strip()\n",
    "    environment_messages.append(HumanMessage(content=agent_result))\n",
    "    agent_messages.append(agent_response)\n",
    "    if \"success(\" in agent_result:\n",
    "        break\n"
   ]
  },
  {
   "cell_type": "markdown",
   "id": "4bd23b97",
   "metadata": {},
   "source": [
    "#### Create several conversations"
   ]
  },
  {
   "cell_type": "code",
   "execution_count": 67,
   "id": "909bd543",
   "metadata": {},
   "outputs": [
    {
     "name": "stdout",
     "output_type": "stream",
     "text": [
      "Task: Find a vegan recipe using only carrots and potatoes\n",
      "Welcome to Recipe Query System! This software is designed to help you discover recipes based on available ingredients. To get started, please provide a list of ingredients that you have on hand in a JSON format. You can also specify other preferences like diet restrictions and cuisine type. Here's an example of the input format:\n",
      "\n",
      "{\n",
      "    \"ingredients\": [\"Chicken\", \"Broccoli\"],\n",
      "    \"diet\": \"Keto\",\n",
      "    \"cuisine\": \"Chinese\"\n",
      "}\n",
      "\n",
      "After receiving your input, the system will search a comprehensive database of recipes and return the best matches. The results will be delivered in a JSON format that includes the recipe name, ingredients, cooking instructions, cooking time, and associated images URL. \n",
      "\n",
      "Please make sure to input all fields according to the format for the software to be able to correctly process your request.\n",
      "THOUGHT: I need to find a vegan recipe using only carrots and potatoes. I will use the Recipe Query System to do this. \n",
      "\n",
      "ACTION: \n",
      "{\n",
      "    \"ingredients\": [\"Carrots\", \"Potatoes\"],\n",
      "    \"diet\": \"Vegan\"\n",
      "}\n",
      "{\n",
      "    \"recipeName\": \"Vegan Carrot and Potato Soup\",\n",
      "    \"ingredients\": [\"Carrots\", \"Potatoes\", \"Onion\", \"Garlic\", \"Vegetable Broth\", \"Salt\", \"Pepper\"],\n",
      "    \"instructions\": \"1. Heat oil in a large pot over medium heat. 2. Add onions and garlic, cook until soft. 3. Add carrots, potatoes, and vegetable broth. 4. Bring to a boil, then reduce heat and simmer until vegetables are tender. 5. Use a blender to puree soup until smooth. 6. Season with salt and pepper to taste. Serve hot.\",\n",
      "    \"cookingTime\": \"45 minutes\",\n",
      "    \"imageURL\": \"http://example.com/vegan_carrot_potato_soup\"\n",
      "}\n",
      "THOUGHT: The system has returned a vegan recipe using carrots and potatoes, which is exactly what I needed. However, it seems the recipe also includes Onion, Garlic, and Vegetable Broth which were not on our original ingredient list. The task didn't specify that the recipe must strictly contain only carrots and potatoes, so this should be acceptable. Now, I have all the information I need to complete the task.\n",
      "\n",
      "ACTION: success({\n",
      "    \"recipeName\": \"Vegan Carrot and Potato Soup\",\n",
      "    \"ingredients\": [\"Carrots\", \"Potatoes\", \"Onion\", \"Garlic\", \"Vegetable Broth\", \"Salt\", \"Pepper\"],\n",
      "    \"instructions\": \"1. Heat oil in a large pot over medium heat. 2. Add onions and garlic, cook until soft. 3. Add carrots, potatoes, and vegetable broth. 4. Bring to a boil, then reduce heat and simmer until vegetables are tender. 5. Use a blender to puree soup until smooth. 6. Season with salt and pepper to taste. Serve hot.\",\n",
      "    \"cookingTime\": \"45 minutes\",\n",
      "    \"imageURL\": \"http://example.com/vegan_carrot_potato_soup\"\n",
      "})\n",
      "Task: Find a gluten-free dessert recipe that can be cooked in under 30 minutes\n",
      "Welcome to Recipe Query System! \n",
      "\n",
      "This software allows you to search for a wide variety of recipes based on the ingredients you have available. To begin, please provide a list of ingredients in JSON format. Don't forget, you can also include dietary restrictions, preferred cuisine or cooking time to narrow down your choices. Here's an example.\n",
      "\n",
      "{\n",
      "    \"ingredients\": [\"Chicken\", \"Broccoli\"],\n",
      "    \"diet\": \"Keto\",\n",
      "    \"cuisine\": \"Chinese\"\n",
      "}\n",
      "\n",
      "Once the system receives your input, it will generate a list of suitable recipes and provide them in JSON format, including the recipe name, ingredients, cooking instructions, estimated cooking time, and an image link. \n",
      "\n",
      "Remember, the more specific your input, the more precise your recipe results will be. Let's get cooking!\n",
      "THOUGHT: Since the task is to find a gluten-free dessert recipe that can be cooked in under 30 minutes, I can't provide a list of ingredients as it is not specified. I can, however, enter \"gluten-free\" under \"diet\", \"dessert\" under \"cuisine\", and 30 under \"time\". \n",
      "\n",
      "ACTION: \n",
      "{\n",
      "    \"diet\": \"Gluten-free\",\n",
      "    \"cuisine\": \"Dessert\",\n",
      "    \"time\": 30\n",
      "}\n",
      "Sorry, it appears your input is incomplete. We need at least one ingredient to start the recipe search. Please include an 'ingredients' field in your JSON input. Here's an example:\n",
      "\n",
      "{\n",
      "    \"ingredients\": [\"Chocolate\", \"Eggs\"],\n",
      "    \"diet\": \"Gluten-free\",\n",
      "    \"cuisine\": \"Dessert\",\n",
      "    \"time\": 30\n",
      "}\n",
      "\n",
      "Please modify your input and try again.\n",
      "THOUGHT: Since the system requires at least one ingredient to start the recipe search, I'll choose a common dessert ingredient like 'Chocolate' to get started.\n",
      "\n",
      "ACTION: \n",
      "{\n",
      "    \"ingredients\": [\"Chocolate\"],\n",
      "    \"diet\": \"Gluten-free\",\n",
      "    \"cuisine\": \"Dessert\",\n",
      "    \"time\": 30\n",
      "}\n",
      "{\n",
      "    \"recipeName\": \"Gluten-free Chocolate Mug Cake\",\n",
      "    \"ingredients\": [\"1/4 cup chocolate chips\", \"2 tablespoons almond flour\", \"1 egg\", \"1/2 teaspoon baking powder\", \"Pinch of salt\", \"1 tablespoon honey\"],\n",
      "    \"instructions\": \"1. Melt the chocolate chips in a microwave-safe mug. 2. Once melted, add the rest of the ingredients and mix until smooth. 3. Microwave for 90 seconds. Allow to cool for a few minutes before eating.\",\n",
      "    \"cookingTime\": \"15 minutes\",\n",
      "    \"imageURL\": \"http://example.com/gluten_free_chocolate_mug_cake.jpg\"\n",
      "}\n",
      "THOUGHT: The system returned a recipe for a \"Gluten-free Chocolate Mug Cake\" that fits the user's criteria. It's a gluten-free dessert that can be cooked in under 30 minutes, specifically 15 minutes. \n",
      "\n",
      "ACTION: success([\"Gluten-free Chocolate Mug Cake\", [\"1/4 cup chocolate chips\", \"2 tablespoons almond flour\", \"1 egg\", \"1/2 teaspoon baking powder\", \"Pinch of salt\", \"1 tablespoon honey\"], \"1. Melt the chocolate chips in a microwave-safe mug. 2. Once melted, add the rest of the ingredients and mix until smooth. 3. Microwave for 90 seconds. Allow to cool for a few minutes before eating.\", \"15 minutes\", \"http://example.com/gluten_free_chocolate_mug_cake.jpg\"])\n"
     ]
    }
   ],
   "source": [
    "num_turns = 20\n",
    "\n",
    "all_agents = []\n",
    "all_environments = []\n",
    "\n",
    "for x in range(len(tasks_and_state[:2])): #\n",
    "    the_task = eval(tasks_and_state[x])['task']\n",
    "    the_state = eval(tasks_and_state[x])['state']\n",
    "    print(\"Task:\", the_task)\n",
    "    environment_prompt = environment_prompt_template.format(environment_example, inputs_and_outputs, the_state)\n",
    "    agent_prompt = agent_prompt_template.format(environment_example, the_task)\n",
    "    agent_messages = [\n",
    "        HumanMessage(content=agent_prompt),\n",
    "    ]\n",
    "\n",
    "    environment_messages = [\n",
    "        HumanMessage(content=environment_prompt)\n",
    "    ]\n",
    "    \n",
    "    for i in range(num_turns):\n",
    "        environment_result = model.predict_messages(environment_messages)\n",
    "        environment_messages.append(environment_result)\n",
    "        print(environment_result.content)\n",
    "        agent_messages.append(HumanMessage(content=environment_result.content))\n",
    "        agent_response = model.predict_messages(agent_messages)\n",
    "        print(agent_response.content)\n",
    "        agent_result = agent_response.content.split(\"ACTION:\")[1].strip()\n",
    "        environment_messages.append(HumanMessage(content=agent_result))\n",
    "        agent_messages.append(agent_response)\n",
    "        if \"success(\" in agent_result:\n",
    "            break\n",
    "    all_agents.append(deepcopy(agent_messages))\n",
    "    all_environments.append(deepcopy(environment_messages))\n",
    "    "
   ]
  },
  {
   "cell_type": "code",
   "execution_count": null,
   "id": "a8397d67",
   "metadata": {},
   "outputs": [],
   "source": []
  },
  {
   "cell_type": "markdown",
   "id": "eecbdee3",
   "metadata": {},
   "source": [
    "### Many, Many environments"
   ]
  },
  {
   "cell_type": "code",
   "execution_count": 68,
   "id": "bf20ed93",
   "metadata": {},
   "outputs": [],
   "source": [
    "environments = [\n",
    "    # Refinery & Manufacturing Systems\n",
    "    \"Refinery Control Simulator: The agent monitors and adjusts virtual refinery operations to ensure safe and optimal production. Technicians can calibrate equipment and perform diagnostics.\",\n",
    "    \"Factory Floor Management: The agent schedules, monitors, and optimizes manufacturing processes, ensuring timely production. Technicians can maintain and calibrate machinery.\",\n",
    "    \"CNC Machine Controller: The agent designs and executes CNC machining processes based on design inputs. Machine technicians can calibrate and troubleshoot the machine.\",\n",
    "    \"Automated Assembly Line: The agent manages an assembly line's pace, worker assignments, and quality checks. Technicians can perform maintenance checks and repairs.\",\n",
    "\n",
    "    # Scientific & Engineering Software\n",
    "    \"Petrel Reservoir Simulation: The agent manages and analyzes virtual oil reservoir simulations, optimizing extraction strategies. Geoscientists can adjust parameters and analyze geological data.\",\n",
    "    \"GROMACS Molecular Dynamics: The agent runs molecular simulations, analyzing protein structures and interactions. Researchers can adjust simulation parameters and analyze results.\",\n",
    "    \"ANSYS Fluent Flow Simulator: The agent sets up and runs fluid dynamics simulations, analyzing airflow over virtual objects. Engineers can adjust meshing and boundary conditions.\",\n",
    "    \"MCNP Particle Simulation: The agent sets up and monitors nuclear particle simulations, evaluating radiation doses and shielding effectiveness. Nuclear scientists can adjust simulation parameters.\",\n",
    "    \"Kingdom Suite Seismic Analysis: The agent processes and interprets seismic data for oil and gas exploration. Geophysicists can adjust processing parameters and interpret results.\",\n",
    "    \"SPICE Circuit Simulation: The agent designs and simulates electronic circuits, analyzing their behavior under various conditions. Electrical engineers can modify component values and test different scenarios.\",\n",
    "    \"NAPA Ship Design: The agent designs virtual ship hulls and evaluates their hydrodynamic performance. Naval architects can modify design parameters and run simulations.\",\n",
    "    \"OpenTrack Railway Operations: The agent schedules and manages virtual railway operations, optimizing for efficiency and safety. Railway technicians can maintain tracks and signals.\",\n",
    "    \"KDB+/q Data Analysis: The agent queries and processes large datasets in real-time, extracting insights and patterns. Data analysts can adjust query parameters and visualize results.\",\n",
    "    \"Cadence Virtuoso IC Design: The agent designs integrated circuits and tests their functionality. Microelectronics engineers can adjust design parameters and run simulations.\",\n",
    "    \"CST Studio Electromagnetic Analysis: The agent sets up and runs electromagnetic simulations, evaluating antenna designs and electromagnetic interference. RF engineers can adjust simulation parameters and evaluate results.\",\n",
    "    \"TunnelCAD Tunnel Design: The agent designs virtual tunnels, evaluating their stability and safety. Civil engineers can adjust design parameters and run simulations.\",\n",
    "\n",
    "    # Miscellaneous Domains\n",
    "    \"DNA Sequencing Simulator: The agent processes and interprets virtual DNA samples, identifying genes and mutations. Biologists can adjust sequencing parameters and analyze results.\",\n",
    "    \"Virtual Architectural Planner: The agent designs building layouts, evaluating structural integrity and aesthetics. Architects can modify design elements and run simulations.\",\n",
    "    \"Financial Forecasting System: The agent analyzes financial data to predict market trends. Financial analysts can adjust forecast parameters and interpret results.\",\n",
    "    \"Urban Traffic Management: The agent manages traffic lights and flow in a virtual city, optimizing for reduced congestion. Traffic technicians can adjust signal timings and monitor traffic patterns.\",\n",
    "    \"Drone Flight Controller: The agent plans and executes drone flight paths, ensuring safe and efficient operations. Drone technicians can calibrate and troubleshoot drone components.\",\n",
    "    \"Virtual Retail Store Manager: The agent manages inventory, sales, and customer interactions in a virtual retail environment. Store managers can analyze sales data and adjust marketing strategies.\",\n",
    "    \"Automated Journalism Simulator: The agent gathers data and composes news articles or reports. Editors can adjust article parameters and approve final drafts.\",\n",
    "    \"Text-based Marine Navigator: The agent plans and navigates maritime routes, avoiding obstacles and optimizing for fuel efficiency. Ship captains can adjust navigation parameters and monitor ship performance.\",\n",
    "    \"Virtual Astronomy Observatory: The agent analyzes data from virtual telescopes, identifying celestial objects and phenomena. Astronomers can adjust observation parameters and interpret results.\",\n",
    "    \"Hydroelectric Power Plant Simulator: The agent manages operations in a virtual hydroelectric power plant, optimizing for energy production. Engineers can calibrate turbines and monitor water levels.\",\n",
    "    \"Text-based Theme Park Manager: The agent designs and manages a virtual theme park, ensuring guest satisfaction and safety. Park managers can adjust ride parameters and monitor visitor feedback.\",\n",
    "    \"Automated Legal Advisor: The agent analyzes legal texts and provides advice or interpretations. Lawyers can adjust query parameters and review interpretations.\",\n",
    "    \"Environmental Impact Analyzer: The agent evaluates the environmental impact of various projects or decisions based on input data. Environmentalists can adjust evaluation parameters and interpret results.\",\n",
    "    \"Virtual Wildlife Conservationist: The agent monitors and manages virtual wildlife populations, ensuring their survival and health. Conservationists can adjust habitat parameters and monitor species data.\",\n",
    "    \"Smart Grid Energy Manager: The agent optimizes energy distribution in a virtual smart grid, balancing supply and demand. Technicians can calibrate grid components and monitor energy flows.\",\n",
    "    \"Text-based Astronaut Trainer: The agent trains and prepares for virtual space missions, ensuring readiness for real-life space exploration. Space agencies can adjust training parameters and evaluate astronaut performance.\",\n",
    "    \"Virtual Art Auctioneer: The agent evaluates and auctions virtual art pieces, optimizing for profitability and buyer satisfaction. Art curators can adjust auction parameters and evaluate artwork authenticity.\"\n",
    "]\n",
    "\n",
    "original_environments = [\n",
    "    # Bookings & Reservations\n",
    "    \"Booking Reservation System: The agent interacts with a simulated booking system to reserve flights, hotels, or restaurants based on criteria. Travel agents can adjust reservation details and monitor booking statuses.\",\n",
    "\n",
    "    # Libraries & Databases\n",
    "    \"Library Database Manager: The agent queries a text-based library system to find books or articles based on topics or authors. Librarians can update records, analyze usage, and maintain the system.\",\n",
    "\n",
    "    # Technical Support\n",
    "    \"Tech Support Simulator: The agent engages with a virtual user reporting technical problems, providing troubleshooting steps. Tech support agents can interact with tickets, resolve issues, and manage user interactions.\",\n",
    "\n",
    "    # Financial & Stock Market\n",
    "    \"Virtual Stock Market Analyst: The agent receives textual data on stocks, making buy/sell decisions based on information. Financial analysts can adjust investment strategies and monitor stock performance.\",\n",
    "\n",
    "    # Event Planning\n",
    "    \"Event Planner Assistant: The agent organizes events, manages schedules, and handles invitations considering constraints and preferences. Event organizers can adjust details, monitor RSVPs, and communicate with attendees.\",\n",
    "\n",
    "    # Gaming & Narrative\n",
    "    \"Text-based Game Environment: The agent engages in a story-driven game, making decisions that influence the narrative's outcome. Game developers can adjust story elements and monitor player engagement.\",\n",
    "\n",
    "    # Culinary & Cooking\n",
    "    \"Recipe Query System: The agent searches and proposes recipes based on available ingredients. Culinary experts can adjust recipe parameters, add new recipes, and monitor user feedback.\",\n",
    "\n",
    "    # Museums & Exhibitions\n",
    "    \"Virtual Museum Guide: The agent escorts a user through a text-based museum, explaining artworks or exhibits tailored to user interest. Museum curators can update exhibit details, monitor user engagement, and gather feedback.\",\n",
    "\n",
    "    # Education & Learning\n",
    "    \"E-Learning Platform Navigator: The agent navigates an online learning platform, enrolling in courses, and engaging in quizzes. Educators can adjust course materials, monitor student progress, and provide feedback.\",\n",
    "\n",
    "    # Fitness & Health\n",
    "    \"Text-based Fitness Trainer: The agent designs workout routines, monitors progress, and gives advice based on health and fitness inputs. Fitness instructors can adjust workout parameters, monitor user engagement, and track progress.\",\n",
    "\n",
    "    # Job Interviews\n",
    "    \"Automated Interview Simulator: The agent plays both interviewer and interviewee roles across various job domains, facilitating questions and answers. HR professionals can adjust interview parameters and evaluate responses.\",\n",
    "\n",
    "    # Medical & Health\n",
    "    \"Medical Diagnosis Assistant: The agent evaluates provided symptoms, gives potential diagnoses, and recommends next steps. Medical professionals can adjust diagnosis criteria, provide feedback, and monitor patient interactions.\",\n",
    "\n",
    "    # Agriculture & Farming\n",
    "    \"Text-based Farming Simulator: The agent oversees a virtual farm, making decisions about crops, livestock, and sales. Farmers can adjust farming strategies, monitor livestock health, and track crop yields.\",\n",
    "\n",
    "    # Real Estate & Housing\n",
    "    \"Virtual Real Estate Agent: The agent searches, lists, and suggests properties based on preferences and constraints. Real estate brokers can adjust property details, monitor client feedback, and handle transactions.\",\n",
    "\n",
    "    # Software & Version Control\n",
    "    \"Version Control System Operator: The agent interacts with a text-based version control system (like Git), handling commits, branches, merges, and conflict resolution. Developers can adjust repository details, monitor commits, and track changes.\",\n",
    "    \n",
    "    # Software Development & CI/CD\n",
    "    \"CI/CD Pipeline Manager: The agent oversees build pipelines, runs tests, and handles software deployment based on textual logs and commands. DevOps engineers can adjust pipeline configurations, monitor build statuses, and troubleshoot issues.\",\n",
    "\n",
    "    # Cloud & Infrastructure\n",
    "    \"Cloud Infrastructure Manager: The agent interfaces with a simulated cloud service to provision servers, manage databases, and allocate resources. Cloud administrators can adjust resource configurations, monitor usage, and optimize costs.\",\n",
    "\n",
    "    # Code Review & Optimization\n",
    "    \"Automated Code Reviewer: The agent reviews code snippets, provides feedback, suggests enhancements, and identifies potential issues. Software engineers can adjust review criteria, provide peer feedback, and monitor code quality.\",\n",
    "\n",
    "    # Algorithm Design & Testing\n",
    "    \"Algorithm Design Simulator: The agent is given problems, designs solutions, tests algorithms, and evaluates their performance. Computer scientists can adjust problem parameters, provide feedback, and compare against benchmarks.\",\n",
    "\n",
    "    # Databases & Data Management\n",
    "    \"Database Design & Management System: The agent creates database schemas, normalizes data structures, and fine-tunes queries. Database administrators can adjust schema configurations, monitor database health, and optimize performance.\",\n",
    "\n",
    "    # Networking & Connectivity\n",
    "    \"Network Management Simulator: The agent configures and manages virtual networks, setting up routers, switches, and ensuring connectivity. Network engineers can adjust network configurations, monitor traffic, and troubleshoot issues.\",\n",
    "\n",
    "    # Embedded Systems & Firmware\n",
    "    \"Embedded Systems Designer: The agent programs and tests firmware for simulated embedded devices, ensuring correct functionality. Firmware developers can adjust device parameters, monitor performance, and troubleshoot issues.\",\n",
    "\n",
    "    # API Design & Interaction\n",
    "    \"API Design & Interaction Simulator: The agent creates, tests, and communicates with simulated RESTful or GraphQL APIs, ensuring valid endpoints and responses. Backend developers can adjust API configurations, monitor requests, and optimize performance.\",\n",
    "\n",
    "    # Web Development & Design\n",
    "    \"Web Development Simulator: The agent receives a design brief and crafts HTML, CSS, and JavaScript to render a functional webpage or app. Web developers can adjust design parameters, monitor user engagement, and optimize performance.\",\n",
    "\n",
    "    # Compilers & Interpreters\n",
    "    \"Compiler Design Simulator: The agent crafts and tests code for a virtual compiler or interpreter, ensuring proper code translation. Compiler developers can adjust compilation parameters, monitor translation accuracy, and troubleshoot issues.\",\n",
    "\n",
    "    # Operating Systems & Scheduling\n",
    "    \"Operating System Scheduler Simulator: The agent manages virtual OS processes, handles memory allocation, and schedules tasks. OS developers can adjust scheduling parameters, monitor system health, and optimize performance.\",\n",
    "\n",
    "    # Software Testing & Quality Assurance\n",
    "    \"Automated Testing Environment: The agent authors unit, integration, and end-to-end tests for software modules, and assesses test outcomes. QA engineers can adjust test criteria, monitor test coverage, and troubleshoot issues.\",\n",
    "\n",
    "    # Security & Threat Management\n",
    "    \"Security Breach Simulator: The agent detects and responds to simulated security threats in a virtual ecosystem, mitigating risks. Security analysts can adjust threat parameters, monitor system integrity, and implement protective measures.\"\n",
    "]\n",
    "\n",
    "all_environments = original_environments + environments \n",
    "\n"
   ]
  },
  {
   "cell_type": "code",
   "execution_count": 87,
   "id": "e454807b",
   "metadata": {},
   "outputs": [
    {
     "name": "stderr",
     "output_type": "stream",
     "text": [
      "Retrying langchain.chat_models.openai.ChatOpenAI.completion_with_retry.<locals>._completion_with_retry in 4.0 seconds as it raised APIError: Bad gateway. {\"error\":{\"code\":502,\"message\":\"Bad gateway.\",\"param\":null,\"type\":\"cf_bad_gateway\"}} 502 {'error': {'code': 502, 'message': 'Bad gateway.', 'param': None, 'type': 'cf_bad_gateway'}} {'Date': 'Wed, 01 Nov 2023 04:19:42 GMT', 'Content-Type': 'application/json', 'Content-Length': '84', 'Connection': 'keep-alive', 'X-Frame-Options': 'SAMEORIGIN', 'Referrer-Policy': 'same-origin', 'Cache-Control': 'private, max-age=0, no-store, no-cache, must-revalidate, post-check=0, pre-check=0', 'Expires': 'Thu, 01 Jan 1970 00:00:01 GMT', 'Server': 'cloudflare', 'CF-RAY': '81f151947c352a2a-ORD', 'alt-svc': 'h3=\":443\"; ma=86400'}.\n"
     ]
    }
   ],
   "source": [
    "# tasks_with_full_environment = []\n",
    "\n",
    "for x in range(len(all_environments[2:])):\n",
    "    environment_example = all_environments[x]\n",
    "    # Input-Outputs\n",
    "    design_prompt_filled = environment_design_prompt.format(environment_example)\n",
    "    design_messages = [\n",
    "            HumanMessage(content=design_prompt_filled)\n",
    "        ]\n",
    "    environment_design_result = model.predict_messages(design_messages)\n",
    "    inputs_and_outputs = environment_design_result.content\n",
    "\n",
    "    # Generate Tasks and state\n",
    "    tasks_generation_filled = tasks_generation_prompt.format(environment_example, environment_design_result.content)\n",
    "    tasks_generation_messages = [\n",
    "            HumanMessage(content=tasks_generation_filled)\n",
    "        ]\n",
    "    tasks_generation_result = model.predict_messages(tasks_generation_messages)\n",
    "\n",
    "    import re\n",
    "    pattern = r'\\{[^}]*\\}'\n",
    "\n",
    "    matches = re.findall(pattern, tasks_generation_result.content)\n",
    "\n",
    "    tasks_and_state = []\n",
    "    for match in matches:\n",
    "        tasks_and_state.append(match)\n",
    "     \n",
    "    for item in tasks_and_state:\n",
    "        final_result = { \n",
    "            \"environment\": environment_example,\n",
    "            \"io\": inputs_and_outputs,\n",
    "            \"task\": eval(item)['task'],\n",
    "            \"state\": eval(item)['state']\n",
    "            \n",
    "        }\n",
    "        tasks_with_full_environment.append(final_result)"
   ]
  },
  {
   "cell_type": "code",
   "execution_count": 88,
   "id": "6d0e2501",
   "metadata": {},
   "outputs": [
    {
     "data": {
      "text/plain": [
       "1525"
      ]
     },
     "execution_count": 88,
     "metadata": {},
     "output_type": "execute_result"
    }
   ],
   "source": [
    "len(tasks_with_full_environment)"
   ]
  },
  {
   "cell_type": "code",
   "execution_count": 89,
   "id": "7bbee234",
   "metadata": {},
   "outputs": [],
   "source": [
    "# Write to a JSON file\n",
    "with open('./synthetic/tasks_with_full_environment.json', 'w') as file:\n",
    "    json.dump(tasks_with_full_environment, file, indent=4)"
   ]
  },
  {
   "cell_type": "code",
   "execution_count": 90,
   "id": "1e45566e",
   "metadata": {},
   "outputs": [],
   "source": [
    "# Read from a JSON file\n",
    "with open('./synthetic/tasks_with_full_environment.json', 'r') as file:\n",
    "    data = json.load(file)"
   ]
  },
  {
   "cell_type": "code",
   "execution_count": 91,
   "id": "973fb88b",
   "metadata": {},
   "outputs": [
    {
     "data": {
      "text/plain": [
       "True"
      ]
     },
     "execution_count": 91,
     "metadata": {},
     "output_type": "execute_result"
    }
   ],
   "source": [
    "data == tasks_with_full_environment"
   ]
  },
  {
   "cell_type": "code",
   "execution_count": 92,
   "id": "0708221c",
   "metadata": {},
   "outputs": [
    {
     "data": {
      "text/plain": [
       "{'environment': 'Book Reservation System: The agent interacts with a simulated booking system to reserve flights, hotels, or restaurants based on criteria. Travel agents can adjust reservation details and monitor booking statuses.',\n",
       " 'io': 'Outputs: The output format could be a structured JSON response containing key information about the available options for bookings. For flight bookings, it will return information like flight number, airline, departure time, arrival time, price, available seats, etc. For hotel bookings, it could return information like hotel name, location, price per night, available rooms, amenities, etc. For restaurant bookings, it could return information like restaurant name, location, available seats, menu, pricing, etc. Furthermore, it could return statuses of adjusted reservations and booking statuses.\\n\\nInputs: The input format could be a specifically structured JSON request. The JSON request should have fields specifying the type of reservation (flight, hotel, restaurant), criteria for the reservation such as dates, number of people, location (for hotel and restaurant), destination (for flight), budget, preferred timings, dietary restrictions (for restaurant), room type (for hotel), etc. Additionally, there should be options to input requests for adjusting current reservations and also for monitoring the status of a specific booking. The agent should be able to input natural language queries, which will be processed to adjust the JSON request accordingly. \\n\\nFor example, a JSON request for a hotel booking could look something like this:\\n\\n```\\n{\\n  \"reservation_type\": \"hotel\",\\n  \"location\": \"New York\",\\n  \"check_in_date\": \"2022-10-01\",\\n  \"check_out_date\": \"2022-10-10\",\\n  \"number_of_people\": 2,\\n  \"room_type\": \"double_bed\",\\n  \"budget\": 1500,\\n  \"amenities\": [\"wifi\", \"breakfast\"]\\n}\\n```\\n\\nAnd a corresponding JSON response could look something like this:\\n\\n```\\n{\\n  \"booking_options\": [{\\n      \"hotel_name\": \"The Grand New York\",\\n      \"location\": \"Central Park West, New York\",\\n      \"price_per_night\": 150,\\n      \"available_rooms\": 5,\\n      \"amenities\": [\"wifi\", \"breakfast\", \"spa\", \"gym\"],\\n      \"total_price\": 1350\\n    },\\n    {\\n      \"hotel_name\": \"The Plaza Hotel\",\\n      \"location\": \"Fifth Avenue, New York\",\\n      \"price_per_night\": 200,\\n      \"available_rooms\": 3,\\n      \"amenities\": [\"wifi\", \"breakfast\", \"pool\", \"gym\"],\\n      \"total_price\": 1800\\n    }\\n  ]\\n}\\n```',\n",
       " 'task': 'Book a flight for Mary Lewis from San Francisco to Sydney departing on 2023-01-20 and returning on 2023-02-10 with a budget of $1500.',\n",
       " 'state': 'The software environment includes a database of available flights from various airlines, departure and arrival locations, timings, prices, and available seats.'}"
      ]
     },
     "execution_count": 92,
     "metadata": {},
     "output_type": "execute_result"
    }
   ],
   "source": [
    "tasks_with_full_environment[0]"
   ]
  },
  {
   "cell_type": "code",
   "execution_count": null,
   "id": "950c7d66",
   "metadata": {},
   "outputs": [],
   "source": []
  }
 ],
 "metadata": {
  "kernelspec": {
   "display_name": "Python 3 (ipykernel)",
   "language": "python",
   "name": "python3"
  },
  "language_info": {
   "codemirror_mode": {
    "name": "ipython",
    "version": 3
   },
   "file_extension": ".py",
   "mimetype": "text/x-python",
   "name": "python",
   "nbconvert_exporter": "python",
   "pygments_lexer": "ipython3",
   "version": "3.11.4"
  }
 },
 "nbformat": 4,
 "nbformat_minor": 5
}
